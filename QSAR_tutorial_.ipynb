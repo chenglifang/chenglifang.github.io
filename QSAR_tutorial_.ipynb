{
  "nbformat": 4,
  "nbformat_minor": 0,
  "metadata": {
    "colab": {
      "provenance": [],
      "include_colab_link": true
    },
    "kernelspec": {
      "name": "python3",
      "display_name": "Python 3"
    },
    "language_info": {
      "name": "python"
    }
  },
  "cells": [
    {
      "cell_type": "markdown",
      "metadata": {
        "id": "view-in-github",
        "colab_type": "text"
      },
      "source": [
        "<a href=\"https://colab.research.google.com/github/chenglifang/chenglifang.github.io/blob/master/QSAR_tutorial_.ipynb\" target=\"_parent\"><img src=\"https://colab.research.google.com/assets/colab-badge.svg\" alt=\"Open In Colab\"/></a>"
      ]
    },
    {
      "cell_type": "code",
      "source": [
        "!pip install rdkit"
      ],
      "metadata": {
        "colab": {
          "base_uri": "https://localhost:8080/"
        },
        "id": "G-4XKBfqSsWa",
        "outputId": "90650bbd-9aba-40e6-e2c2-d17386ab5acf"
      },
      "execution_count": null,
      "outputs": [
        {
          "output_type": "stream",
          "name": "stdout",
          "text": [
            "Collecting rdkit\n",
            "  Downloading rdkit-2024.9.6-cp311-cp311-manylinux_2_28_x86_64.whl.metadata (4.0 kB)\n",
            "Requirement already satisfied: numpy in /usr/local/lib/python3.11/dist-packages (from rdkit) (2.0.2)\n",
            "Requirement already satisfied: Pillow in /usr/local/lib/python3.11/dist-packages (from rdkit) (11.1.0)\n",
            "Downloading rdkit-2024.9.6-cp311-cp311-manylinux_2_28_x86_64.whl (34.3 MB)\n",
            "\u001b[2K   \u001b[90m━━━━━━━━━━━━━━━━━━━━━━━━━━━━━━━━━━━━━━━━\u001b[0m \u001b[32m34.3/34.3 MB\u001b[0m \u001b[31m22.3 MB/s\u001b[0m eta \u001b[36m0:00:00\u001b[0m\n",
            "\u001b[?25hInstalling collected packages: rdkit\n",
            "Successfully installed rdkit-2024.9.6\n"
          ]
        }
      ]
    },
    {
      "cell_type": "code",
      "source": [
        "from rdkit import Chem, DataStructs\n",
        "from rdkit.Chem import AllChem, Descriptors"
      ],
      "metadata": {
        "id": "5k09IkLYDA6L"
      },
      "execution_count": null,
      "outputs": []
    },
    {
      "cell_type": "code",
      "source": [
        "!pip install numpy"
      ],
      "metadata": {
        "colab": {
          "base_uri": "https://localhost:8080/"
        },
        "id": "Doj2OXa-EfgD",
        "outputId": "c1f8aa8f-d90e-404a-9117-7a90419c5374"
      },
      "execution_count": null,
      "outputs": [
        {
          "output_type": "stream",
          "name": "stdout",
          "text": [
            "Requirement already satisfied: numpy in /usr/local/lib/python3.11/dist-packages (2.0.2)\n"
          ]
        }
      ]
    },
    {
      "cell_type": "code",
      "source": [
        "pip install joblib"
      ],
      "metadata": {
        "colab": {
          "base_uri": "https://localhost:8080/"
        },
        "id": "v8TxGhjsFf_5",
        "outputId": "15a84010-e88b-485c-cecf-4db3174eb8e9"
      },
      "execution_count": null,
      "outputs": [
        {
          "output_type": "stream",
          "name": "stdout",
          "text": [
            "Requirement already satisfied: joblib in /usr/local/lib/python3.11/dist-packages (1.4.2)\n"
          ]
        }
      ]
    },
    {
      "cell_type": "code",
      "source": [
        "import sklearn\n",
        "print(sklearn.__version__)"
      ],
      "metadata": {
        "colab": {
          "base_uri": "https://localhost:8080/"
        },
        "id": "LDU-X69jFvFx",
        "outputId": "04b48243-4f2d-469a-f8da-d747baa41552"
      },
      "execution_count": null,
      "outputs": [
        {
          "output_type": "stream",
          "name": "stdout",
          "text": [
            "1.6.1\n"
          ]
        }
      ]
    },
    {
      "cell_type": "code",
      "source": [
        "pip install scikit-learn==1.6.1"
      ],
      "metadata": {
        "colab": {
          "base_uri": "https://localhost:8080/"
        },
        "id": "ecZdlj3XGEdu",
        "outputId": "09fc62c0-3bc9-4643-9d49-4e8907a4f19d"
      },
      "execution_count": null,
      "outputs": [
        {
          "output_type": "stream",
          "name": "stdout",
          "text": [
            "Requirement already satisfied: scikit-learn==1.6.1 in /usr/local/lib/python3.11/dist-packages (1.6.1)\n",
            "Requirement already satisfied: numpy>=1.19.5 in /usr/local/lib/python3.11/dist-packages (from scikit-learn==1.6.1) (2.0.2)\n",
            "Requirement already satisfied: scipy>=1.6.0 in /usr/local/lib/python3.11/dist-packages (from scikit-learn==1.6.1) (1.14.1)\n",
            "Requirement already satisfied: joblib>=1.2.0 in /usr/local/lib/python3.11/dist-packages (from scikit-learn==1.6.1) (1.4.2)\n",
            "Requirement already satisfied: threadpoolctl>=3.1.0 in /usr/local/lib/python3.11/dist-packages (from scikit-learn==1.6.1) (3.6.0)\n"
          ]
        }
      ]
    },
    {
      "cell_type": "code",
      "source": [
        "import numpy as np\n",
        "from sklearn.svm import SVC\n",
        "from sklearn.ensemble import RandomForestClassifier, GradientBoostingClassifier\n",
        "from sklearn.model_selection import train_test_split, StratifiedKFold, GridSearchCV\n",
        "from sklearn.preprocessing import StandardScaler\n",
        "from sklearn.metrics import accuracy_score, cohen_kappa_score, matthews_corrcoef\n",
        "import joblib"
      ],
      "metadata": {
        "id": "lEGq6OxiEKqt"
      },
      "execution_count": null,
      "outputs": []
    },
    {
      "cell_type": "markdown",
      "source": [
        "# Reading molecules and activity from SDF"
      ],
      "metadata": {
        "id": "Mc6hBLKhGRxS"
      }
    },
    {
      "cell_type": "code",
      "source": [
        "from google.colab import files\n",
        "uploaded = files.upload()\n",
        "# This code allows you to upload files from your local machine to Colab for subsequent file reading.\n",
        "\n",
        "fname = \"logBB.sdf\"\n",
        "# Assign the value \"data/logBB.sdf\" to the variable fname,\n",
        "# or name the data \"data/logBB.sdf\" as fname,\n",
        "# or put the data \"data/logBB.sdf\" into a box named fname.\n",
        "\n",
        "# When processing chemical data, molecular objects and their corresponding labels are usually stored in mols and y, respectively, in a one-to-one manner.\n",
        "mols = []\n",
        "# Create an empty list and assign it to the variable mols.\n",
        "# [] is used to define a list, which is a mutable and ordered data structure.\n",
        "# In the field of chemoinformatics, especially when using tools like RDKit, mols is typically used to store a list of molecular objects.\n",
        "# For example, when reading molecules from a file using RDKit, each molecular object can be added to the mols list for further processing.\n",
        "\n",
        "y = []\n",
        "# Create an empty list and assign it to the variable y.\n",
        "# y is typically used to store the bioactivity values or other related properties of molecules.\n",
        "\n",
        "for mol in Chem.SDMolSupplier(fname):\n",
        "# Chem.SDMolSupplier(fname) is a function in the RDKit library\n",
        "# is used to read molecular data from a specified SDF (Structure-Data File).\n",
        "# This function returns an iterator, allowing sequential access to each molecule in the file.\n",
        "    if mol is not None: # Check if the variable mol is not None\n",
        "      # The append method in this context is used to add a new element to each respective list, allowing for subsequent processing or analysis.\n",
        "        mols.append(mol) # Add the current molecule object mol to the end of the mols list\n",
        "        y.append(mol.GetIntProp(\"logBB_class\"))\n",
        "        # Call the GetIntProp method on the molecule object mol and retrieve its \"logBB_class\" property value.\n",
        "        # append that integer value to the y list"
      ],
      "metadata": {
        "colab": {
          "base_uri": "https://localhost:8080/",
          "height": 1000
        },
        "id": "RAHSPAKoGSlX",
        "outputId": "99bcdd73-1188-4447-b51a-ee4ccf1acdd4"
      },
      "execution_count": null,
      "outputs": [
        {
          "output_type": "display_data",
          "data": {
            "text/plain": [
              "<IPython.core.display.HTML object>"
            ],
            "text/html": [
              "\n",
              "     <input type=\"file\" id=\"files-6d700a3d-df72-4b98-a7a1-f28f55fd2a46\" name=\"files[]\" multiple disabled\n",
              "        style=\"border:none\" />\n",
              "     <output id=\"result-6d700a3d-df72-4b98-a7a1-f28f55fd2a46\">\n",
              "      Upload widget is only available when the cell has been executed in the\n",
              "      current browser session. Please rerun this cell to enable.\n",
              "      </output>\n",
              "      <script>// Copyright 2017 Google LLC\n",
              "//\n",
              "// Licensed under the Apache License, Version 2.0 (the \"License\");\n",
              "// you may not use this file except in compliance with the License.\n",
              "// You may obtain a copy of the License at\n",
              "//\n",
              "//      http://www.apache.org/licenses/LICENSE-2.0\n",
              "//\n",
              "// Unless required by applicable law or agreed to in writing, software\n",
              "// distributed under the License is distributed on an \"AS IS\" BASIS,\n",
              "// WITHOUT WARRANTIES OR CONDITIONS OF ANY KIND, either express or implied.\n",
              "// See the License for the specific language governing permissions and\n",
              "// limitations under the License.\n",
              "\n",
              "/**\n",
              " * @fileoverview Helpers for google.colab Python module.\n",
              " */\n",
              "(function(scope) {\n",
              "function span(text, styleAttributes = {}) {\n",
              "  const element = document.createElement('span');\n",
              "  element.textContent = text;\n",
              "  for (const key of Object.keys(styleAttributes)) {\n",
              "    element.style[key] = styleAttributes[key];\n",
              "  }\n",
              "  return element;\n",
              "}\n",
              "\n",
              "// Max number of bytes which will be uploaded at a time.\n",
              "const MAX_PAYLOAD_SIZE = 100 * 1024;\n",
              "\n",
              "function _uploadFiles(inputId, outputId) {\n",
              "  const steps = uploadFilesStep(inputId, outputId);\n",
              "  const outputElement = document.getElementById(outputId);\n",
              "  // Cache steps on the outputElement to make it available for the next call\n",
              "  // to uploadFilesContinue from Python.\n",
              "  outputElement.steps = steps;\n",
              "\n",
              "  return _uploadFilesContinue(outputId);\n",
              "}\n",
              "\n",
              "// This is roughly an async generator (not supported in the browser yet),\n",
              "// where there are multiple asynchronous steps and the Python side is going\n",
              "// to poll for completion of each step.\n",
              "// This uses a Promise to block the python side on completion of each step,\n",
              "// then passes the result of the previous step as the input to the next step.\n",
              "function _uploadFilesContinue(outputId) {\n",
              "  const outputElement = document.getElementById(outputId);\n",
              "  const steps = outputElement.steps;\n",
              "\n",
              "  const next = steps.next(outputElement.lastPromiseValue);\n",
              "  return Promise.resolve(next.value.promise).then((value) => {\n",
              "    // Cache the last promise value to make it available to the next\n",
              "    // step of the generator.\n",
              "    outputElement.lastPromiseValue = value;\n",
              "    return next.value.response;\n",
              "  });\n",
              "}\n",
              "\n",
              "/**\n",
              " * Generator function which is called between each async step of the upload\n",
              " * process.\n",
              " * @param {string} inputId Element ID of the input file picker element.\n",
              " * @param {string} outputId Element ID of the output display.\n",
              " * @return {!Iterable<!Object>} Iterable of next steps.\n",
              " */\n",
              "function* uploadFilesStep(inputId, outputId) {\n",
              "  const inputElement = document.getElementById(inputId);\n",
              "  inputElement.disabled = false;\n",
              "\n",
              "  const outputElement = document.getElementById(outputId);\n",
              "  outputElement.innerHTML = '';\n",
              "\n",
              "  const pickedPromise = new Promise((resolve) => {\n",
              "    inputElement.addEventListener('change', (e) => {\n",
              "      resolve(e.target.files);\n",
              "    });\n",
              "  });\n",
              "\n",
              "  const cancel = document.createElement('button');\n",
              "  inputElement.parentElement.appendChild(cancel);\n",
              "  cancel.textContent = 'Cancel upload';\n",
              "  const cancelPromise = new Promise((resolve) => {\n",
              "    cancel.onclick = () => {\n",
              "      resolve(null);\n",
              "    };\n",
              "  });\n",
              "\n",
              "  // Wait for the user to pick the files.\n",
              "  const files = yield {\n",
              "    promise: Promise.race([pickedPromise, cancelPromise]),\n",
              "    response: {\n",
              "      action: 'starting',\n",
              "    }\n",
              "  };\n",
              "\n",
              "  cancel.remove();\n",
              "\n",
              "  // Disable the input element since further picks are not allowed.\n",
              "  inputElement.disabled = true;\n",
              "\n",
              "  if (!files) {\n",
              "    return {\n",
              "      response: {\n",
              "        action: 'complete',\n",
              "      }\n",
              "    };\n",
              "  }\n",
              "\n",
              "  for (const file of files) {\n",
              "    const li = document.createElement('li');\n",
              "    li.append(span(file.name, {fontWeight: 'bold'}));\n",
              "    li.append(span(\n",
              "        `(${file.type || 'n/a'}) - ${file.size} bytes, ` +\n",
              "        `last modified: ${\n",
              "            file.lastModifiedDate ? file.lastModifiedDate.toLocaleDateString() :\n",
              "                                    'n/a'} - `));\n",
              "    const percent = span('0% done');\n",
              "    li.appendChild(percent);\n",
              "\n",
              "    outputElement.appendChild(li);\n",
              "\n",
              "    const fileDataPromise = new Promise((resolve) => {\n",
              "      const reader = new FileReader();\n",
              "      reader.onload = (e) => {\n",
              "        resolve(e.target.result);\n",
              "      };\n",
              "      reader.readAsArrayBuffer(file);\n",
              "    });\n",
              "    // Wait for the data to be ready.\n",
              "    let fileData = yield {\n",
              "      promise: fileDataPromise,\n",
              "      response: {\n",
              "        action: 'continue',\n",
              "      }\n",
              "    };\n",
              "\n",
              "    // Use a chunked sending to avoid message size limits. See b/62115660.\n",
              "    let position = 0;\n",
              "    do {\n",
              "      const length = Math.min(fileData.byteLength - position, MAX_PAYLOAD_SIZE);\n",
              "      const chunk = new Uint8Array(fileData, position, length);\n",
              "      position += length;\n",
              "\n",
              "      const base64 = btoa(String.fromCharCode.apply(null, chunk));\n",
              "      yield {\n",
              "        response: {\n",
              "          action: 'append',\n",
              "          file: file.name,\n",
              "          data: base64,\n",
              "        },\n",
              "      };\n",
              "\n",
              "      let percentDone = fileData.byteLength === 0 ?\n",
              "          100 :\n",
              "          Math.round((position / fileData.byteLength) * 100);\n",
              "      percent.textContent = `${percentDone}% done`;\n",
              "\n",
              "    } while (position < fileData.byteLength);\n",
              "  }\n",
              "\n",
              "  // All done.\n",
              "  yield {\n",
              "    response: {\n",
              "      action: 'complete',\n",
              "    }\n",
              "  };\n",
              "}\n",
              "\n",
              "scope.google = scope.google || {};\n",
              "scope.google.colab = scope.google.colab || {};\n",
              "scope.google.colab._files = {\n",
              "  _uploadFiles,\n",
              "  _uploadFilesContinue,\n",
              "};\n",
              "})(self);\n",
              "</script> "
            ]
          },
          "metadata": {}
        },
        {
          "output_type": "stream",
          "name": "stdout",
          "text": [
            "Saving logBB.sdf to logBB.sdf\n"
          ]
        },
        {
          "output_type": "stream",
          "name": "stderr",
          "text": [
            "[00:20:16] Can't kekulize mol.  Unkekulized atoms: 13 14 15 16 17 18 19 20 21\n",
            "[00:20:16] ERROR: Could not sanitize molecule ending on line 3192\n",
            "[00:20:16] ERROR: Can't kekulize mol.  Unkekulized atoms: 13 14 15 16 17 18 19 20 21\n",
            "[00:20:16] Can't kekulize mol.  Unkekulized atoms: 10 11 12 13 14 15 16 17 18\n",
            "[00:20:16] ERROR: Could not sanitize molecule ending on line 4541\n",
            "[00:20:16] ERROR: Can't kekulize mol.  Unkekulized atoms: 10 11 12 13 14 15 16 17 18\n",
            "[00:20:16] Can't kekulize mol.  Unkekulized atoms: 8 9 10 11 12 13 14 15 16\n",
            "[00:20:16] ERROR: Could not sanitize molecule ending on line 5314\n",
            "[00:20:16] ERROR: Can't kekulize mol.  Unkekulized atoms: 8 9 10 11 12 13 14 15 16\n",
            "[00:20:16] Can't kekulize mol.  Unkekulized atoms: 9 10 11 12 14 15 16 17 18\n",
            "[00:20:16] ERROR: Could not sanitize molecule ending on line 7252\n",
            "[00:20:16] ERROR: Can't kekulize mol.  Unkekulized atoms: 9 10 11 12 14 15 16 17 18\n",
            "[00:20:16] Can't kekulize mol.  Unkekulized atoms: 6 7 8 9 11 12 13 14 15\n",
            "[00:20:16] ERROR: Could not sanitize molecule ending on line 8176\n",
            "[00:20:16] ERROR: Can't kekulize mol.  Unkekulized atoms: 6 7 8 9 11 12 13 14 15\n",
            "[00:20:16] Can't kekulize mol.  Unkekulized atoms: 2 3 10 11 12\n",
            "[00:20:16] ERROR: Could not sanitize molecule ending on line 9891\n",
            "[00:20:16] ERROR: Can't kekulize mol.  Unkekulized atoms: 2 3 10 11 12\n",
            "[00:20:16] Can't kekulize mol.  Unkekulized atoms: 6 7 8 9 10\n",
            "[00:20:16] ERROR: Could not sanitize molecule ending on line 10135\n",
            "[00:20:16] ERROR: Can't kekulize mol.  Unkekulized atoms: 6 7 8 9 10\n",
            "[00:20:16] Can't kekulize mol.  Unkekulized atoms: 5 6 7 8 9 10 11 12 13\n",
            "[00:20:16] ERROR: Could not sanitize molecule ending on line 11509\n",
            "[00:20:16] ERROR: Can't kekulize mol.  Unkekulized atoms: 5 6 7 8 9 10 11 12 13\n",
            "[00:20:16] Can't kekulize mol.  Unkekulized atoms: 9 10 11 12 14\n",
            "[00:20:16] ERROR: Could not sanitize molecule ending on line 15380\n",
            "[00:20:16] ERROR: Can't kekulize mol.  Unkekulized atoms: 9 10 11 12 14\n",
            "[00:20:16] Can't kekulize mol.  Unkekulized atoms: 8 9 10 11 12\n",
            "[00:20:16] ERROR: Could not sanitize molecule ending on line 16624\n",
            "[00:20:16] ERROR: Can't kekulize mol.  Unkekulized atoms: 8 9 10 11 12\n",
            "[00:20:16] Can't kekulize mol.  Unkekulized atoms: 11 12 13 14 15\n",
            "[00:20:16] ERROR: Could not sanitize molecule ending on line 17857\n",
            "[00:20:16] ERROR: Can't kekulize mol.  Unkekulized atoms: 11 12 13 14 15\n",
            "[00:20:16] Can't kekulize mol.  Unkekulized atoms: 11 12 13 14 15\n",
            "[00:20:16] ERROR: Could not sanitize molecule ending on line 19071\n",
            "[00:20:16] ERROR: Can't kekulize mol.  Unkekulized atoms: 11 12 13 14 15\n",
            "[00:20:16] Can't kekulize mol.  Unkekulized atoms: 11 12 13 14 15\n",
            "[00:20:16] ERROR: Could not sanitize molecule ending on line 19989\n",
            "[00:20:16] ERROR: Can't kekulize mol.  Unkekulized atoms: 11 12 13 14 15\n",
            "[00:20:16] Can't kekulize mol.  Unkekulized atoms: 2 3 4 5 6 7 8 9 10\n",
            "[00:20:16] ERROR: Could not sanitize molecule ending on line 20499\n",
            "[00:20:16] ERROR: Can't kekulize mol.  Unkekulized atoms: 2 3 4 5 6 7 8 9 10\n",
            "[00:20:16] Can't kekulize mol.  Unkekulized atoms: 13 14 15 16 17\n",
            "[00:20:16] ERROR: Could not sanitize molecule ending on line 20991\n",
            "[00:20:16] ERROR: Can't kekulize mol.  Unkekulized atoms: 13 14 15 16 17\n",
            "[00:20:16] Can't kekulize mol.  Unkekulized atoms: 4 5 14 15 16\n",
            "[00:20:16] ERROR: Could not sanitize molecule ending on line 22232\n",
            "[00:20:16] ERROR: Can't kekulize mol.  Unkekulized atoms: 4 5 14 15 16\n",
            "[00:20:16] Can't kekulize mol.  Unkekulized atoms: 13 14 15 16 17\n",
            "[00:20:16] ERROR: Could not sanitize molecule ending on line 22880\n",
            "[00:20:16] ERROR: Can't kekulize mol.  Unkekulized atoms: 13 14 15 16 17\n",
            "[00:20:16] Can't kekulize mol.  Unkekulized atoms: 14 15 16 17 18\n",
            "[00:20:16] ERROR: Could not sanitize molecule ending on line 23525\n",
            "[00:20:16] ERROR: Can't kekulize mol.  Unkekulized atoms: 14 15 16 17 18\n",
            "[00:20:16] Can't kekulize mol.  Unkekulized atoms: 7 8 9 10 11\n",
            "[00:20:16] ERROR: Could not sanitize molecule ending on line 24332\n",
            "[00:20:16] ERROR: Can't kekulize mol.  Unkekulized atoms: 7 8 9 10 11\n",
            "[00:20:16] Can't kekulize mol.  Unkekulized atoms: 11 12 13 21 22\n",
            "[00:20:16] ERROR: Could not sanitize molecule ending on line 25521\n",
            "[00:20:16] ERROR: Can't kekulize mol.  Unkekulized atoms: 11 12 13 21 22\n",
            "[00:20:16] Can't kekulize mol.  Unkekulized atoms: 14 15 16 17 18\n",
            "[00:20:16] ERROR: Could not sanitize molecule ending on line 26324\n",
            "[00:20:16] ERROR: Can't kekulize mol.  Unkekulized atoms: 14 15 16 17 18\n",
            "[00:20:16] Can't kekulize mol.  Unkekulized atoms: 1 2 3 4 5 6 7 8 9\n",
            "[00:20:16] ERROR: Could not sanitize molecule ending on line 28376\n",
            "[00:20:16] ERROR: Can't kekulize mol.  Unkekulized atoms: 1 2 3 4 5 6 7 8 9\n"
          ]
        }
      ]
    },
    {
      "cell_type": "markdown",
      "source": [
        "Molecular fingerprints: These are bit vectors that represent molecular structural features and are used to calculate molecular similarity.\n",
        "\n",
        "Converting to a NumPy array: The descriptors or fingerprints are converted into a NumPy array format, making it easier for numerical computations and machine learning modeling in Python."
      ],
      "metadata": {
        "id": "CmWqgRa2XnvF"
      }
    },
    {
      "cell_type": "markdown",
      "source": [
        "Call the Chem.SDMolSupplier(fname) function to iterate through each molecule object mol and its feature information in the SDF file fname. Use indexing to view each molecule object and its feature information."
      ],
      "metadata": {
        "id": "itVLDy4iaEgR"
      }
    },
    {
      "cell_type": "code",
      "source": [
        "supplier=Chem.SDMolSupplier(fname)\n",
        "mol=supplier[0]\n",
        "mol"
      ],
      "metadata": {
        "colab": {
          "base_uri": "https://localhost:8080/",
          "height": 262
        },
        "id": "czpnc575aFFA",
        "outputId": "4f4ae886-6179-4b93-d5b9-1b35d46d57fd"
      },
      "execution_count": null,
      "outputs": [
        {
          "output_type": "execute_result",
          "data": {
            "text/plain": [
              "<rdkit.Chem.rdchem.Mol at 0x7a513911d4d0>"
            ],
            "text/html": [
              "<table><tr><td colspan=\"2\" style=\"text-align: center;\"><image src=\"data:image/png;base64,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\"></td></tr>\n",
              "<tr><th style=\"text-align: right\">name</th><td style=\"text-align: left\">methylchloroform</td></tr>\n",
              "<tr><th style=\"text-align: right\">logBB</th><td style=\"text-align: left\">0.4</td></tr>\n",
              "<tr><th style=\"text-align: right\">logBB_class</th><td style=\"text-align: left\">1</td></tr>\n",
              "<tr><th style=\"text-align: right\">HAC</th><td style=\"text-align: left\">5</td></tr></table>"
            ],
            "image/png": "[encoded data removed]"
          },
          "metadata": {},
          "execution_count": 9
        }
      ]
    },
    {
      "cell_type": "markdown",
      "source": [
        "View the length of the list mols, which contains the molecule objects and their corresponding feature information, to check the number of molecule objects in the list."
      ],
      "metadata": {
        "id": "88V40NzIaQec"
      }
    },
    {
      "cell_type": "code",
      "source": [
        "len(mols)"
      ],
      "metadata": {
        "colab": {
          "base_uri": "https://localhost:8080/"
        },
        "id": "XrNqYjsraRD7",
        "outputId": "7388a136-c790-42e3-bb82-1b9541894e57"
      },
      "execution_count": null,
      "outputs": [
        {
          "output_type": "execute_result",
          "data": {
            "text/plain": [
              "299"
            ]
          },
          "metadata": {},
          "execution_count": 10
        }
      ]
    },
    {
      "cell_type": "markdown",
      "source": [
        "Print the list mols.\n",
        "Print the SMILES format using the following method:"
      ],
      "metadata": {
        "id": "9e7XTc_RaVTT"
      }
    },
    {
      "cell_type": "code",
      "source": [
        "for mol in mols:\n",
        "    smiles = Chem.MolToSmiles(mol)  # Convert the Mol object to a SMILES string\n",
        "    print(smiles)"
      ],
      "metadata": {
        "colab": {
          "base_uri": "https://localhost:8080/"
        },
        "id": "x8_rIzvHaX58",
        "outputId": "b3cfa5d6-e3a6-48d8-965a-15c6507971d6"
      },
      "execution_count": null,
      "outputs": [
        {
          "output_type": "stream",
          "name": "stdout",
          "text": [
            "CC(Cl)(Cl)Cl\n",
            "ClCC(Cl)Cl\n",
            "FC(F)=CCl\n",
            "CCCCO\n",
            "CCC(C)=O\n",
            "C=COC=C\n",
            "CCOCC\n",
            "CC(C)CO\n",
            "COC(C)=O\n",
            "ClCC(Cl)(Cl)Cl\n",
            "CCCCCO\n",
            "CCC(C)(C)C\n",
            "CCCC(C)C\n",
            "CCCC(C)=O\n",
            "CCC(C)CC\n",
            "CCC(C)(C)O\n",
            "c1ccccc1\n",
            "C1CCCCC1\n",
            "CCOC(C)=O\n",
            "CC1CCCC1\n",
            "CN1CCN2c3ccccc3Cc3ccccc3C2C1\n",
            "Cc1ncc2n1-c1ccc(Cl)cc1C(c1ccccc1F)=NC2\n",
            "COn1cc(C(=O)O)c(=O)c2cc3c(cc21)OCO3\n",
            "CN1CCN2c3ncccc3Cc3ccccc3C2C1\n",
            "CN1CCC23c4c5ccc(O)c4OC2C(O)C=CC3C1C5\n",
            "Cc1cccc(C)c1\n",
            "[H]/N=C(\\N)Nc1nc(-c2ccccc2)cs1\n",
            "CN(C)CCc1ccccn1\n",
            "CCn1cc(C(=O)O)c(=O)c2ccc(C)nc21\n",
            "Cc1c(O)cccc1C(=O)NC(CSc1ccccc1)C(O)CN1CC2CCCCC2CC1C(=O)NC(C)(C)C\n",
            "Cc1ccnc2c1NC(=O)c1cccnc1N2C1CC1\n",
            "CCCCCC\n",
            "CN1CCCC1c1cccnc1\n",
            "CN1CN(c2ccccc2)C2(CCN(CCCC(=O)c3ccc(F)cc3)CC2)C1=O\n",
            "CCCCCCCCC\n",
            "CNCCCN1c2ccccc2Sc2ccc(Cl)cc21\n",
            "O=C1CC(=O)N(c2ccccc2)c2cc(Cl)ccc2N1\n",
            "O=C1CN=C(c2ccccc2)c2cc(Cl)ccc2N1\n",
            "c1cncc(C2CCCN2)c1\n",
            "CSc1ccc2c(c1)N(CCC1CCCNC1)c1ccccc1S2\n",
            "COc1ccc(CCNCCCC(C#N)(c2ccc(OC)c(OC)c2)C(C)C)cc1OC\n",
            "CCC1(C)C(=O)NC(=O)NC1=O\n",
            "CCCCCCCC\n",
            "Cc1cc2c(s1)Nc1ccccc1N=C2N1CCN(C)CC1\n",
            "Clc1ccc2c(c1)C1CNCC1c1ccccc1O2\n",
            "CN1CC2c3ccccc3Oc3ccc(Cl)cc3C2C1\n",
            "CCCCCCC1(CC)C(=O)NC(=O)NC1=O\n",
            "O=C1Nc2ccc(Cl)cc2C(c2ccccc2)=NC1O\n",
            "C1CO1\n",
            "Cc1ccccc1C\n",
            "Cc1nc2n(c(=O)c1CCN1CCC(c3noc4cc(F)ccc34)CC1)CCCC2O\n",
            "CC(=O)Nc1ccc(O)cc1\n",
            "Cn1c(=O)[nH]c2ncn(C)c2c1=O\n",
            "O=C(CCCN1CCC2(CC1)C(=O)NCN2c1ccc(Br)cc1)c1ccc(F)cc1\n",
            "CCCCC\n",
            "CC(C)=CCN1CCC2(C)c3cc(O)ccc3CC1C2C\n",
            "CCCC(C)C1(CC)C(=O)NC(=O)NC1=O\n",
            "CCCCCOC(C)=O\n",
            "C1CCc2nnnn2CC1\n",
            "ClC(Cl)=C(Cl)Cl\n",
            "CNC(C)Cc1ccccc1\n",
            "c1ccc(C2(N3CCCCC3)CCCCC2)cc1\n",
            "CN(C)CCCN1c2ccccc2S(=O)c2ccccc21\n",
            "CN1CCC2(C)c3cc(OC(=O)Nc4ccccc4)ccc3N(C)C12\n",
            "CCCCc1c(O)n(-c2ccccc2)n(-c2ccccc2)c1=O\n",
            "CC(C)(C)/[N+]([O-])=C/c1ccccc1\n",
            "CNC(=O)Oc1ccc2c(c1)C1(C)CCN(C)C1N2C\n",
            "CCC(C)N(C)C(=O)c1cc2ccccc2c(-c2ccccc2Cl)n1\n",
            "CCC1(c2ccccc2)C(=O)NCNC1=O\n",
            "CCN(CC)CCOC(=O)c1ccc(N)cc1\n",
            "CN(C)CCCN1c2ccccc2Sc2ccccc21\n",
            "C=CC\n",
            "CC(C)c1cccc(C(C)C)c1O\n",
            "CC(C)NCC(O)COc1cccc2ccccc12\n",
            "CCCOC(C)=O\n",
            "CNC(C)CC1CCCCC1\n",
            "Cc1ccc(C)c(C)c1\n",
            "Cc1ccc(C)cc1\n",
            "c1cc2ccc3cccc4ccc(c1)c2c34\n",
            "COc1ccc(CN(CCN(C)C)c2ccccn2)cc1\n",
            "C=CC1CC2CCC1CC2C(O)c1ccnc2ccc(OC)cc12\n",
            "CN=C(C[N+](=O)[O-])NCCSCc1ccc(CN(C)C)o1\n",
            "NC(=O)c1ncn(C2OC(CO)C(O)C2O)n1\n",
            "CCCOC(=O)c1ccc(N)cc1\n",
            "Cc1nc2n(c(=O)c1CCN1CCC(c3noc4cc(F)ccc34)CC1)CCCC2\n",
            "CCN(C)C(=O)Oc1cccc(C(C)N(C)C)c1\n",
            "CN1Cc2c(C(=O)OC(C)(C)C)ncn2-c2ccsc2C1=O\n",
            "COc1ccc(C2CNC(=O)C2)cc1OC1CCCC1\n",
            "CC(C)(C)NCC(O)c1ccc(O)c(CO)c1\n",
            "O=C(O)c1ccccc1O\n",
            "O=C(O)CNC(=O)c1ccccc1O\n",
            "CC(C)(C)NC(=O)[C@@H]1C[C@@H]2CCCC[C@@H]2CN1C[C@@H](O)[C@H](Cc1ccccc1)NC(=O)[C@H](CC(N)=O)NC(=O)c1ccc2ccccc2n1\n",
            "CN1C2CC(OC(=O)C(CO)c3ccccc3)CC1C1OC12\n",
            "CCC(C)CO\n",
            "C=CCC1(C(C)CCC)C(=O)NC(=O)NC1=O\n",
            "CNC1CCC(c2ccc(Cl)c(Cl)c2)c2ccccc21\n",
            "FCOC(C(F)(F)F)C(F)(F)F\n",
            "[H]/N=C(/N)SC\n",
            "CC(C)NCC(O)c1ccc(NS(C)(=O)=O)cc1\n",
            "O=C(CCCN1CCC2(CC1)C(=O)NCN2c1ccccc1)c1ccc(F)cc1\n",
            "Clc1ccc(NC2=NCCN2)c(Cl)c1\n",
            "Cc1cn(C2C=CC(CO)O2)c(=O)[nH]c1=O\n",
            "CN1CCCCC1CCN1c2ccccc2Sc2ccc(S(C)(=O)=O)cc21\n",
            "FC(F)OC(F)C(F)(F)F\n",
            "O=C1NC(=O)C(c2ccccc2)(c2ccccc2)N1\n",
            "CCC(=C(c1ccccc1)c1ccc(OCCN(C)C)cc1)c1ccccc1\n",
            "CC(C)(C)C1CCCCC1\n",
            "FC(Br)C(F)(F)F\n",
            "Cc1ccc(Cc2cnc(NCCCCc3ncc(Br)cc3C)[nH]c2=O)cn1\n",
            "CN(CC=CC#CC(C)(C)C)Cc1cccc2ccccc12\n",
            "CC(C)(C)c1ccc(C(O)CCCN2CCC(C(O)(c3ccccc3)c3ccccc3)CC2)cc1\n",
            "CCC(C)(C)OC\n",
            "CC(C)(C)O\n",
            "CC(C)(C)c1ccccc1\n",
            "CCOC(C)(C)C\n",
            "COC(C)(C)C\n",
            "Cn1cnc2c1c(=O)[nH]c(=O)n2C\n",
            "NCCc1nccs1\n",
            "CCCC(C)C1(CC)C(=O)NC(=S)NC1=O\n",
            "CSc1ccc2c(c1)N(CCC1CCCCN1C)c1ccccc1S2\n",
            "C#CC1(O)CCC2C3C(C)CC4=C(CCC(=O)C4)C3CCC21C\n",
            "Cc1cccc(OCC(O)CNC(C)C)c1\n",
            "Cc1ccccc1\n",
            "CC(C=CC1=C(C)CCCC1(C)C)=CC=CC(C)=CC(=O)O\n",
            "ClC=C(Cl)Cl\n",
            "OCCN1CCN(CCCN2c3ccccc3Sc3ccc(C(F)(F)F)cc32)CC1\n",
            "Fc1ccnc(F)c1F\n",
            "CN(C)CCCN1c2ccccc2Sc2ccc(C(F)(F)F)cc21\n",
            "C1CC1\n",
            "CC1CCC(C)C(C)C1\n",
            "NC(N)=O\n",
            "COc1ccc(CCN(C)CCCC(C#N)(c2ccc(OC)c(OC)c2)C(C)C)cc1OC\n",
            "C=Cc1ccccc1\n",
            "CCNc1nccs1\n",
            "Nc1ccn(C2CCC(CO)O2)c(=O)n1\n",
            "O=C(CCC1CCN(Cc2ccccc2)CC1)c1ccc2c(c1)NCCCC2\n",
            "Cc1cn(C2CC([N-][N+]#N)C(CO)O2)c(=O)[nH]c1=O\n",
            "NCCc1nc(-c2ccccc2)cs1\n",
            "c1cc(CN2CCCCC2)cc(OCCCNc2nc3ccccc3s2)c1\n",
            "Cc1ccc(-c2nc3ccc(C)cn3c2CC(=O)N(C)C)cc1\n",
            "[H]/N=C(/N)SCCF\n",
            "CCCC(C)CC\n",
            "[CH2][C]([CH]CC)CC\n",
            "CC1CCCCC1\n",
            "CCCCCCC\n",
            "CC(=O)OC(C)C\n",
            "FC(F)(F)CC(Cl)Br\n",
            "C=CCCCCCC\n",
            "CCCCCC(C)C\n",
            "CCCCOC(C)=O\n",
            "FC(Br)CC(F)(F)F\n",
            "CCc1ccccc1\n",
            "C=COCC(F)(F)F\n",
            "CC1CCCCC1C\n",
            "CC(=O)OCC(C)C\n",
            "C=CCCCCCCC\n",
            "CCCCCCC(C)C\n",
            "CC(=O)OCCC(C)C\n",
            "FC(F)OC(F)(F)C(F)Cl\n",
            "FC(F)OC(Cl)C(F)(F)F\n",
            "C=COCCCCOC=C\n",
            "C=CCCCCCCCC\n",
            "CCCCCCCC(C)C\n",
            "CC(N)Cc1ccccc1\n",
            "CNCCc1ccccn1\n",
            "[H]/N=C(\\N)Nc1nc(C)cs1\n",
            "CCCCCCCCCC\n",
            "c1ccc2c(c1)CCCN2\n",
            "FC(F)(F)c1ccc(Cl)cc1\n",
            "O=C(O)c1cc(O)ccc1O\n",
            "O=NN(CCCl)C(=O)NCCCl\n",
            "NCCc1cn2ccccc2n1\n",
            "CCOC(=O)c1ccc(N)cc1\n",
            "CCOc1ccccc1C(N)=O\n",
            "CC1NC(=O)C2(CCCC2)NC1=O\n",
            "CC(=O)Oc1ccccc1C(=O)O\n",
            "CCC1(CC)C(=O)NC(=O)NC1=O\n",
            "CN1C(=O)CCC1c1cccnc1\n",
            "CCC(O)(CC(N)=O)c1ccccc1\n",
            "CCCC1(CC)C(=O)NC(=O)NC1=O\n",
            "Cc1cc(=O)n(-c2ccccc2)n1C\n",
            "CCCCOC(=O)c1ccc(N)cc1\n",
            "Clc1cccc(Cl)c1NC1=NCCN1\n",
            "O=c1cccc2n1CC1CNCC2C1\n",
            "O=c1cccc2n1CC1CNC(Br)C2C1\n",
            "O=C(O)c1ccc(-c2ccccc2)cc1\n",
            "Cc1cc(=O)n(-c2ccc(F)cc2)n1C\n",
            "Cc1c(I)c(=O)n(-c2ccccc2)n1C\n",
            "Nc1c2c(nc3ccccc13)CCCC2\n",
            "CCCCC1(CC)C(=O)NC(=O)NC1=O\n",
            "O=[N+]([O-])c1nccn1CC(O)COCF\n",
            "CC(C)Cc1ccc(C(C)C(=O)O)cc1\n",
            "CCCCCC1(CC)C(=O)NC(=O)NC1=O\n",
            "Nc1nc2c(ncn2COCCO)c(=O)[nH]1\n",
            "CCC1(CCC(C)C)C(=O)NC(=O)NC1=O\n",
            "CC(NC(C)(C)C)C(=O)c1cccc(Cl)c1\n",
            "[H]/N=C(\\N)Nc1nc(-c2cccc(N)c2)cs1\n",
            "CCC(C)N1CCN(c2ccc(I)cc2)CC1\n",
            "CCC(C)Nc1ccc(I)c(NC(C)CC)c1\n",
            "Cc1cn(C2CC(F)C(CO)O2)c(=O)[nH]c1=O\n",
            "Cc1c(N(C)C)c(=O)n(-c2ccccc2)n1C\n",
            "CC(C)(c1ccc(O)cc1)c1ccc(O)cc1\n",
            "FC(F)(F)c1ccc(N2CCNCC2)nc1Cl\n",
            "O=c1[nH]cnc2c1ncn2C1CCC(CO)O1\n",
            "CN1C(=O)NC(=O)C(C)(C2=CCCCC2)C1=O\n",
            "CCN(CC)CC(=O)Nc1c(C)cccc1C\n",
            "CCCCCCCC1(CC)C(=O)NC(=O)NC1=O\n",
            "C=CCc1ccccc1OCC(O)CNC(C)C\n",
            "NC(=O)N1c2ccccc2C=Cc2ccccc21\n",
            "OCCCOc1cccc(CN2CCCCC2)c1\n",
            "Nc1ccc(-c2nc3ccc(O)cc3s2)cc1I\n",
            "O=C(O)CCCc1ccc(N(CCCl)CCCl)cc1\n",
            "[H]/N=C(\\N)Nc1nc(-c2cccc(NC(C)=O)c2)cs1\n",
            "CCN=C(NC#N)NCCSCc1ncccc1Br\n",
            "NC(=O)N1c2ccccc2C2OC2c2ccccc21\n",
            "NC(=O)N1c2ccccc2C2CC2c2ccccc21\n",
            "O=c1c(-c2ccc(O)cc2)coc2cc(O)ccc12\n",
            "O=C1CN=C(c2ccccc2)c2c(Cl)cccc2N1\n",
            "CNCCCN1c2ccccc2Sc2ccccc21\n",
            "NCCCN1c2ccccc2Sc2ccc(Cl)cc21\n",
            "NCCCN1c2ccccc2CCc2ccccc21\n",
            "CN(C)CCOC(c1ccccc1)c1ccccc1\n",
            "CN1CCC23CCCCC2C1Cc1ccc(O)cc13\n",
            "C=CCC1(C(C)C#CCC)C(=O)NC(=O)N(C)C1=O\n",
            "COCCc1ccc(OCC(O)CNC(C)C)cc1\n",
            "[H]/N=C(/N)Nc1nc(CSCCNC(=NC)NC#N)cs1\n",
            "CN(C)c1ccccc1Sc1ccc(CCF)cc1N\n",
            "N#Cc1ccc(OCC2CCN(CC=CI)CC2)cc1\n",
            "C=CCC(N)c1ccccc1-c1noc2ccccc12\n",
            "CNCCCN1c2ccccc2CCc2ccccc21\n",
            "CN1C(=O)CN=C(c2ccccc2)c2cc(Cl)ccc21\n",
            "CN(C)CCOC(C)(c1ccccc1)c1ccccn1\n",
            "CC12CCC3c4ccc(O)cc4CCC3C1CC(F)C2O\n",
            "CNCCCN1c2ccccc2CCc2cc(O)ccc21\n",
            "CN(C)CCC=C1c2ccccc2CCc2ccccc21\n",
            "CN1C2CCC1CC(OC(=O)C(CO)c1ccccc1)C2\n",
            "CC(=O)NCCCOc1cccc(CN2CCCCC2)c1\n",
            "CN(C)CCCN1c2ccccc2Sc2ccc(Cl)cc21\n",
            "Cc1cccc2c1Oc1ccccc1C1(O)CCNCC21\n",
            "CN1C(=O)CC(=O)N(c2ccccc2)c2cc(Cl)ccc21\n",
            "COc1ccc2c3c1OC1CC(O)C=CC31CCN(C)C2\n",
            "CN(C)CCCN1c2ccccc2CCc2ccccc21\n",
            "O=C1Nc2ccc(Cl)cc2C(c2ccccc2Cl)=NC1O\n",
            "[H]/N=C(/N)Nc1nc(-c2cccc(NC(=NC)NC#N)c2)cs1\n",
            "Cc1nnc2n1-c1ccc(Cl)cc1C(c1ccccc1)=NC2\n",
            "Cc1cccc2c1Oc1ccccc1C1(O)CCN(C)CC21\n",
            "CC(C)NCC(O)COc1ccc(CCOCC2CC2)cc1\n",
            "COC(=O)C1C(OC(=O)c2ccccc2)CC2CCC1N2C\n",
            "CCOC(=O)c1ncn2c1CN(C)C(=O)c1cc(F)ccc1-2\n",
            "CNCCC(Oc1ccc(C(F)(F)F)cc1)c1ccccc1\n",
            "COCCCCC(=NOCCN)c1ccc(C(F)(F)F)cc1\n",
            "CC(C)(C)OC(=O)CCCc1ccc(N(CCCl)CCCl)cc1\n",
            "Cc1nnc2n1C1CCC(Cl)CC1C(c1ccccc1Cl)=NC2\n",
            "Cc1nnc2n1-c1ccc(Cl)cc1C(c1ccccc1)=NC2O\n",
            "OCc1nnc2n1-c1ccc(Cl)cc1C(c1ccccc1)=NC2\n",
            "OC(CCN1CCCCC1)(c1ccccc1)C1CC2C=CC1C2\n",
            "c1cc(CN2CCCCC2)cc(OCCCNc2nccs2)c1\n",
            "CC(F)OC(=O)c1ncn2c1CN(C)C(=O)c1cc(F)ccc1-2\n",
            "CN1C(=O)CN=C(c2ccccc2F)c2cc([N+](=O)[O-])ccc21\n",
            "CN1C2CCCC1CC(NC(=O)c1nn(C)c3ccccc13)C2\n",
            "OCc1ncc2n1-c1ccc(Cl)cc1C(c1ccccc1F)=NC2\n",
            "Cc1ncc2n1-c1ccc(Cl)cc1C(c1ccccc1F)=NC2O\n",
            "CCCC(=O)Nc1ccc(OCC(O)CNC(C)C)c(C(C)=O)c1\n",
            "c1ccc(NCCCOc2cccc(CN3CCCCC3)c2)nc1\n",
            "CCOC(=O)c1ncn2c1CN(CCF)C(=O)c1cc(F)ccc1-2\n",
            "CC(C)c1nc(-c2ncn3c2CN(C)C(=O)c2c(Cl)cccc2-3)no1\n",
            "CCC(=O)N(c1ccccc1)C1CCN(CCc2ccccc2)CC1\n",
            "COc1ccc2c(c1)c(CC(=O)O)c(C)n2C(=O)c1ccc(Cl)cc1\n",
            "O=C(NCCCOc1cccc(CN2CCCCC2)c1)c1ccccc1\n",
            "CC(C)(C)OC(=O)c1ncn2c1C1CCCN1C(=O)c1cc(Br)ccc1-2\n",
            "O=C(CCCN1CCC(O)(c2ccc(Br)cc2)CC1)c1ccc(F)cc1\n",
            "CN1Cc2c(-c3noc(C(C)(C)O)n3)ncn2-c2cccc(Cl)c2C1=O\n",
            "O=C1CCCN1CCCCN1CCN(c2cc(C(F)(F)F)ccn2)CC1\n",
            "O=C(CCCN1CCC(O)(c2ccc(Cl)cc2)CC1)c1ccc(F)cc1\n",
            "OCCOCCN1CCN(C(c2ccccc2)c2ccc(Cl)cc2)CC1\n",
            "OC(c1cc(C(F)(F)F)nc2c(C(F)(F)F)cccc12)C1CCCCN1\n",
            "CN1CCCCC1CCN1c2ccccc2Sc2ccc(S(C)=O)cc21\n",
            "O=C(O)COCCN1CCN(C(c2ccccc2)c2ccc(Cl)cc2)CC1\n",
            "CN1Cc2c(-c3noc(C(C)(O)CO)n3)ncn2-c2cccc(Cl)c2C1=O\n",
            "c1cc(CN2CCCCC2)cc(OCCCNc2nc3ccccc3o2)c1\n",
            "O=C1CC2(CCCC2)CC(=O)N1CCCCN1CCN(c2ncccn2)CC1\n",
            "COc1cc2c(cc1OC)C(=O)C(CC1CCN(Cc3ccccc3)CC1)C2\n",
            "COc1cccnc1CCCCNc1ncc(Cc2ccc(C)nc2)c(=O)[nH]1\n",
            "CCC(NC(=O)c1c(C)c(-c2ccccc2)nc2ccccc12)c1ccccc1\n",
            "CCCC(=O)c1ccc2c(c1)N(CCCN1CCN(C)CC1)c1ccccc1S2\n",
            "CN1CN(c2ccccc2)C2(CCN(CCCC(=O)c3csc(I)c3)CC2)C1=O\n",
            "Cc1ccc(Cc2cnc(NCCSCc3ccc(CN(C)C)o3)[nH]c2=O)cn1\n",
            "O=c1[nH]c2ccccc2n1CCCN1CCC(n2c(=O)[nH]c3cc(Cl)ccc32)CC1\n",
            "O=C(NCCN1CCN(c2cccc3c2OCC(CO)O3)CC1)c1ccc(F)cc1\n",
            "Cc1nc2n(c(=O)c1CCN1CCC(c3noc4cc(F)ccc34)CC1)CC(O)CC2\n",
            "CN1CN(c2ccc(Br)cc2)C2(CCN(CCCC(=O)c3ccc(F)cc3)CC2)C1=O\n",
            "CN(C)Cc1ccc(CSCCNc2ncc(Cc3ccc4ccccc4c3)c(=O)[nH]2)o1\n",
            "CCN1CN(c2ccc(Br)cc2)C2(CCN(CCCC(=O)c3ccc(F)cc3)CC2)C1=O\n",
            "NC(=O)C(c1ccccc1)(c1ccccc1)C1CCN(CCc2ccc3c(c2)CCO3)C1\n",
            "CC1(C(=O)O)CCC2(C)CCC3(C)C(=CC(=O)C4C5(C)CCC(O)C(C)(C)C5CCC43C)C2C1\n",
            "CC(C)CN(CC(O)C(Cc1ccccc1)NC(=O)OC1CCOC1)S(=O)(=O)c1ccc(N)cc1\n",
            "COC1(NC(O)=c2sc(=C(C(N)=O)C(=O)O)s2)C(=O)N2C(C(=O)O)=C(CSc3nnnn3C)CSC21\n",
            "COc1cccc2c1C(=O)c1c(O)c3c(c(O)c1C2=O)C[C@@](O)(C(=O)CO)C[C@@H]3O[C@H]1C[C@H](N)[C@H](O)[C@H](C)O1\n",
            "CC(C)(C)NC(=O)[C@@H]1CN(Cc2cccnc2)CCN1C[C@@H](O)C[C@@H](Cc1ccccc1)C(=O)N[C@H]1c2ccccc2C[C@H]1O\n"
          ]
        }
      ]
    },
    {
      "cell_type": "markdown",
      "source": [
        "View the value of the \"logBB_class\" feature information for each molecule object in the list y using indexing."
      ],
      "metadata": {
        "id": "8-IBCiknafEj"
      }
    },
    {
      "cell_type": "code",
      "source": [
        "y[1]"
      ],
      "metadata": {
        "colab": {
          "base_uri": "https://localhost:8080/"
        },
        "id": "vJjZi1Etaf0v",
        "outputId": "a3602f58-b10a-4050-d06f-15ad1022b760"
      },
      "execution_count": null,
      "outputs": [
        {
          "output_type": "execute_result",
          "data": {
            "text/plain": [
              "0"
            ]
          },
          "metadata": {},
          "execution_count": 12
        }
      ]
    },
    {
      "cell_type": "code",
      "source": [
        "y"
      ],
      "metadata": {
        "colab": {
          "base_uri": "https://localhost:8080/"
        },
        "id": "6smjsJBSaiAk",
        "outputId": "90efa5db-cd84-4a79-a788-efe382d37770"
      },
      "execution_count": null,
      "outputs": [
        {
          "output_type": "execute_result",
          "data": {
            "text/plain": [
              "[1,\n",
              " 0,\n",
              " 0,\n",
              " 0,\n",
              " 0,\n",
              " 1,\n",
              " 0,\n",
              " 0,\n",
              " 0,\n",
              " 1,\n",
              " 1,\n",
              " 1,\n",
              " 1,\n",
              " 0,\n",
              " 1,\n",
              " 1,\n",
              " 1,\n",
              " 1,\n",
              " 0,\n",
              " 1,\n",
              " 1,\n",
              " 1,\n",
              " 0,\n",
              " 1,\n",
              " 0,\n",
              " 1,\n",
              " 0,\n",
              " 0,\n",
              " 0,\n",
              " 0,\n",
              " 0,\n",
              " 1,\n",
              " 1,\n",
              " 1,\n",
              " 1,\n",
              " 1,\n",
              " 1,\n",
              " 1,\n",
              " 1,\n",
              " 1,\n",
              " 0,\n",
              " 0,\n",
              " 1,\n",
              " 1,\n",
              " 1,\n",
              " 1,\n",
              " 1,\n",
              " 1,\n",
              " 1,\n",
              " 1,\n",
              " 0,\n",
              " 0,\n",
              " 1,\n",
              " 1,\n",
              " 1,\n",
              " 1,\n",
              " 1,\n",
              " 1,\n",
              " 0,\n",
              " 1,\n",
              " 1,\n",
              " 1,\n",
              " 0,\n",
              " 1,\n",
              " 0,\n",
              " 1,\n",
              " 1,\n",
              " 1,\n",
              " 0,\n",
              " 1,\n",
              " 1,\n",
              " 0,\n",
              " 1,\n",
              " 1,\n",
              " 1,\n",
              " 1,\n",
              " 1,\n",
              " 1,\n",
              " 1,\n",
              " 1,\n",
              " 1,\n",
              " 0,\n",
              " 0,\n",
              " 1,\n",
              " 0,\n",
              " 1,\n",
              " 0,\n",
              " 1,\n",
              " 0,\n",
              " 0,\n",
              " 0,\n",
              " 0,\n",
              " 1,\n",
              " 1,\n",
              " 1,\n",
              " 1,\n",
              " 1,\n",
              " 0,\n",
              " 0,\n",
              " 1,\n",
              " 1,\n",
              " 0,\n",
              " 1,\n",
              " 1,\n",
              " 0,\n",
              " 1,\n",
              " 1,\n",
              " 1,\n",
              " 0,\n",
              " 1,\n",
              " 1,\n",
              " 1,\n",
              " 1,\n",
              " 1,\n",
              " 1,\n",
              " 1,\n",
              " 0,\n",
              " 0,\n",
              " 0,\n",
              " 1,\n",
              " 1,\n",
              " 1,\n",
              " 1,\n",
              " 0,\n",
              " 1,\n",
              " 1,\n",
              " 1,\n",
              " 1,\n",
              " 1,\n",
              " 1,\n",
              " 0,\n",
              " 0,\n",
              " 1,\n",
              " 0,\n",
              " 0,\n",
              " 1,\n",
              " 0,\n",
              " 0,\n",
              " 1,\n",
              " 0,\n",
              " 0,\n",
              " 1,\n",
              " 1,\n",
              " 1,\n",
              " 1,\n",
              " 1,\n",
              " 1,\n",
              " 1,\n",
              " 1,\n",
              " 1,\n",
              " 1,\n",
              " 1,\n",
              " 1,\n",
              " 1,\n",
              " 1,\n",
              " 1,\n",
              " 1,\n",
              " 1,\n",
              " 1,\n",
              " 1,\n",
              " 1,\n",
              " 1,\n",
              " 1,\n",
              " 1,\n",
              " 0,\n",
              " 0,\n",
              " 1,\n",
              " 1,\n",
              " 1,\n",
              " 1,\n",
              " 0,\n",
              " 0,\n",
              " 1,\n",
              " 0,\n",
              " 0,\n",
              " 0,\n",
              " 0,\n",
              " 0,\n",
              " 1,\n",
              " 1,\n",
              " 0,\n",
              " 1,\n",
              " 1,\n",
              " 0,\n",
              " 0,\n",
              " 0,\n",
              " 0,\n",
              " 0,\n",
              " 0,\n",
              " 1,\n",
              " 0,\n",
              " 0,\n",
              " 1,\n",
              " 0,\n",
              " 1,\n",
              " 1,\n",
              " 0,\n",
              " 1,\n",
              " 1,\n",
              " 0,\n",
              " 0,\n",
              " 0,\n",
              " 1,\n",
              " 0,\n",
              " 1,\n",
              " 1,\n",
              " 1,\n",
              " 0,\n",
              " 0,\n",
              " 0,\n",
              " 1,\n",
              " 0,\n",
              " 0,\n",
              " 0,\n",
              " 0,\n",
              " 0,\n",
              " 0,\n",
              " 1,\n",
              " 1,\n",
              " 1,\n",
              " 1,\n",
              " 1,\n",
              " 0,\n",
              " 0,\n",
              " 1,\n",
              " 0,\n",
              " 1,\n",
              " 1,\n",
              " 0,\n",
              " 1,\n",
              " 1,\n",
              " 1,\n",
              " 0,\n",
              " 1,\n",
              " 1,\n",
              " 0,\n",
              " 0,\n",
              " 1,\n",
              " 1,\n",
              " 1,\n",
              " 1,\n",
              " 1,\n",
              " 1,\n",
              " 0,\n",
              " 1,\n",
              " 1,\n",
              " 1,\n",
              " 1,\n",
              " 0,\n",
              " 1,\n",
              " 1,\n",
              " 1,\n",
              " 1,\n",
              " 0,\n",
              " 0,\n",
              " 1,\n",
              " 1,\n",
              " 0,\n",
              " 1,\n",
              " 0,\n",
              " 0,\n",
              " 0,\n",
              " 0,\n",
              " 1,\n",
              " 0,\n",
              " 0,\n",
              " 1,\n",
              " 0,\n",
              " 0,\n",
              " 0,\n",
              " 1,\n",
              " 0,\n",
              " 1,\n",
              " 1,\n",
              " 1,\n",
              " 1,\n",
              " 0,\n",
              " 0,\n",
              " 0,\n",
              " 1,\n",
              " 1,\n",
              " 1,\n",
              " 0,\n",
              " 1,\n",
              " 1,\n",
              " 0,\n",
              " 0,\n",
              " 0,\n",
              " 0,\n",
              " 0,\n",
              " 0,\n",
              " 0,\n",
              " 0,\n",
              " 0,\n",
              " 0,\n",
              " 0,\n",
              " 0,\n",
              " 0,\n",
              " 0]"
            ]
          },
          "metadata": {},
          "execution_count": 13
        }
      ]
    },
    {
      "cell_type": "markdown",
      "source": [
        "# Calculate descriptors (fingerprints) and convert them into numpy array"
      ],
      "metadata": {
        "id": "VTLZ-hw0_E9T"
      }
    },
    {
      "cell_type": "code",
      "source": [
        "# generate binary Morgan fingerprint with radius 2\n",
        "fp = [AllChem.GetMorganFingerprintAsBitVect(m, 2) for m in mols]"
      ],
      "metadata": {
        "colab": {
          "base_uri": "https://localhost:8080/"
        },
        "id": "IaIrlm6q_Fn6",
        "outputId": "70fa355a-7096-4388-cfcc-4ebb8f9e894a"
      },
      "execution_count": null,
      "outputs": [
        {
          "output_type": "stream",
          "name": "stderr",
          "text": [
            "[00:20:29] DEPRECATION WARNING: please use MorganGenerator\n",
            "[00:20:29] DEPRECATION WARNING: please use MorganGenerator\n",
            "[00:20:29] DEPRECATION WARNING: please use MorganGenerator\n",
            "[00:20:29] DEPRECATION WARNING: please use MorganGenerator\n",
            "[00:20:29] DEPRECATION WARNING: please use MorganGenerator\n",
            "[00:20:29] DEPRECATION WARNING: please use MorganGenerator\n",
            "[00:20:29] DEPRECATION WARNING: please use MorganGenerator\n",
            "[00:20:29] DEPRECATION WARNING: please use MorganGenerator\n",
            "[00:20:29] DEPRECATION WARNING: please use MorganGenerator\n",
            "[00:20:29] DEPRECATION WARNING: please use MorganGenerator\n",
            "[00:20:29] DEPRECATION WARNING: please use MorganGenerator\n",
            "[00:20:29] DEPRECATION WARNING: please use MorganGenerator\n",
            "[00:20:29] DEPRECATION WARNING: please use MorganGenerator\n",
            "[00:20:29] DEPRECATION WARNING: please use MorganGenerator\n",
            "[00:20:29] DEPRECATION WARNING: please use MorganGenerator\n",
            "[00:20:29] DEPRECATION WARNING: please use MorganGenerator\n",
            "[00:20:29] DEPRECATION WARNING: please use MorganGenerator\n",
            "[00:20:29] DEPRECATION WARNING: please use MorganGenerator\n",
            "[00:20:29] DEPRECATION WARNING: please use MorganGenerator\n",
            "[00:20:29] DEPRECATION WARNING: please use MorganGenerator\n",
            "[00:20:29] DEPRECATION WARNING: please use MorganGenerator\n",
            "[00:20:29] DEPRECATION WARNING: please use MorganGenerator\n",
            "[00:20:29] DEPRECATION WARNING: please use MorganGenerator\n",
            "[00:20:29] DEPRECATION WARNING: please use MorganGenerator\n",
            "[00:20:29] DEPRECATION WARNING: please use MorganGenerator\n",
            "[00:20:29] DEPRECATION WARNING: please use MorganGenerator\n",
            "[00:20:29] DEPRECATION WARNING: please use MorganGenerator\n",
            "[00:20:29] DEPRECATION WARNING: please use MorganGenerator\n",
            "[00:20:29] DEPRECATION WARNING: please use MorganGenerator\n",
            "[00:20:29] DEPRECATION WARNING: please use MorganGenerator\n",
            "[00:20:29] DEPRECATION WARNING: please use MorganGenerator\n",
            "[00:20:29] DEPRECATION WARNING: please use MorganGenerator\n",
            "[00:20:29] DEPRECATION WARNING: please use MorganGenerator\n",
            "[00:20:29] DEPRECATION WARNING: please use MorganGenerator\n",
            "[00:20:29] DEPRECATION WARNING: please use MorganGenerator\n",
            "[00:20:29] DEPRECATION WARNING: please use MorganGenerator\n",
            "[00:20:29] DEPRECATION WARNING: please use MorganGenerator\n",
            "[00:20:29] DEPRECATION WARNING: please use MorganGenerator\n",
            "[00:20:29] DEPRECATION WARNING: please use MorganGenerator\n",
            "[00:20:29] DEPRECATION WARNING: please use MorganGenerator\n",
            "[00:20:29] DEPRECATION WARNING: please use MorganGenerator\n",
            "[00:20:29] DEPRECATION WARNING: please use MorganGenerator\n",
            "[00:20:29] DEPRECATION WARNING: please use MorganGenerator\n",
            "[00:20:29] DEPRECATION WARNING: please use MorganGenerator\n",
            "[00:20:29] DEPRECATION WARNING: please use MorganGenerator\n",
            "[00:20:29] DEPRECATION WARNING: please use MorganGenerator\n",
            "[00:20:29] DEPRECATION WARNING: please use MorganGenerator\n",
            "[00:20:29] DEPRECATION WARNING: please use MorganGenerator\n",
            "[00:20:29] DEPRECATION WARNING: please use MorganGenerator\n",
            "[00:20:29] DEPRECATION WARNING: please use MorganGenerator\n",
            "[00:20:29] DEPRECATION WARNING: please use MorganGenerator\n",
            "[00:20:29] DEPRECATION WARNING: please use MorganGenerator\n",
            "[00:20:29] DEPRECATION WARNING: please use MorganGenerator\n",
            "[00:20:29] DEPRECATION WARNING: please use MorganGenerator\n",
            "[00:20:29] DEPRECATION WARNING: please use MorganGenerator\n",
            "[00:20:29] DEPRECATION WARNING: please use MorganGenerator\n",
            "[00:20:29] DEPRECATION WARNING: please use MorganGenerator\n",
            "[00:20:29] DEPRECATION WARNING: please use MorganGenerator\n",
            "[00:20:29] DEPRECATION WARNING: please use MorganGenerator\n",
            "[00:20:29] DEPRECATION WARNING: please use MorganGenerator\n",
            "[00:20:29] DEPRECATION WARNING: please use MorganGenerator\n",
            "[00:20:29] DEPRECATION WARNING: please use MorganGenerator\n",
            "[00:20:29] DEPRECATION WARNING: please use MorganGenerator\n",
            "[00:20:29] DEPRECATION WARNING: please use MorganGenerator\n",
            "[00:20:29] DEPRECATION WARNING: please use MorganGenerator\n",
            "[00:20:29] DEPRECATION WARNING: please use MorganGenerator\n",
            "[00:20:29] DEPRECATION WARNING: please use MorganGenerator\n",
            "[00:20:29] DEPRECATION WARNING: please use MorganGenerator\n",
            "[00:20:29] DEPRECATION WARNING: please use MorganGenerator\n",
            "[00:20:29] DEPRECATION WARNING: please use MorganGenerator\n",
            "[00:20:29] DEPRECATION WARNING: please use MorganGenerator\n",
            "[00:20:29] DEPRECATION WARNING: please use MorganGenerator\n",
            "[00:20:29] DEPRECATION WARNING: please use MorganGenerator\n",
            "[00:20:29] DEPRECATION WARNING: please use MorganGenerator\n",
            "[00:20:29] DEPRECATION WARNING: please use MorganGenerator\n",
            "[00:20:29] DEPRECATION WARNING: please use MorganGenerator\n",
            "[00:20:29] DEPRECATION WARNING: please use MorganGenerator\n",
            "[00:20:29] DEPRECATION WARNING: please use MorganGenerator\n",
            "[00:20:29] DEPRECATION WARNING: please use MorganGenerator\n",
            "[00:20:29] DEPRECATION WARNING: please use MorganGenerator\n",
            "[00:20:29] DEPRECATION WARNING: please use MorganGenerator\n",
            "[00:20:29] DEPRECATION WARNING: please use MorganGenerator\n",
            "[00:20:29] DEPRECATION WARNING: please use MorganGenerator\n",
            "[00:20:29] DEPRECATION WARNING: please use MorganGenerator\n",
            "[00:20:29] DEPRECATION WARNING: please use MorganGenerator\n",
            "[00:20:29] DEPRECATION WARNING: please use MorganGenerator\n",
            "[00:20:29] DEPRECATION WARNING: please use MorganGenerator\n",
            "[00:20:29] DEPRECATION WARNING: please use MorganGenerator\n",
            "[00:20:29] DEPRECATION WARNING: please use MorganGenerator\n",
            "[00:20:29] DEPRECATION WARNING: please use MorganGenerator\n",
            "[00:20:29] DEPRECATION WARNING: please use MorganGenerator\n",
            "[00:20:29] DEPRECATION WARNING: please use MorganGenerator\n",
            "[00:20:29] DEPRECATION WARNING: please use MorganGenerator\n",
            "[00:20:29] DEPRECATION WARNING: please use MorganGenerator\n",
            "[00:20:29] DEPRECATION WARNING: please use MorganGenerator\n",
            "[00:20:29] DEPRECATION WARNING: please use MorganGenerator\n",
            "[00:20:29] DEPRECATION WARNING: please use MorganGenerator\n",
            "[00:20:29] DEPRECATION WARNING: please use MorganGenerator\n",
            "[00:20:29] DEPRECATION WARNING: please use MorganGenerator\n",
            "[00:20:29] DEPRECATION WARNING: please use MorganGenerator\n",
            "[00:20:29] DEPRECATION WARNING: please use MorganGenerator\n",
            "[00:20:29] DEPRECATION WARNING: please use MorganGenerator\n",
            "[00:20:29] DEPRECATION WARNING: please use MorganGenerator\n",
            "[00:20:29] DEPRECATION WARNING: please use MorganGenerator\n",
            "[00:20:29] DEPRECATION WARNING: please use MorganGenerator\n",
            "[00:20:29] DEPRECATION WARNING: please use MorganGenerator\n",
            "[00:20:29] DEPRECATION WARNING: please use MorganGenerator\n",
            "[00:20:29] DEPRECATION WARNING: please use MorganGenerator\n",
            "[00:20:29] DEPRECATION WARNING: please use MorganGenerator\n",
            "[00:20:29] DEPRECATION WARNING: please use MorganGenerator\n",
            "[00:20:29] DEPRECATION WARNING: please use MorganGenerator\n",
            "[00:20:29] DEPRECATION WARNING: please use MorganGenerator\n",
            "[00:20:29] DEPRECATION WARNING: please use MorganGenerator\n",
            "[00:20:29] DEPRECATION WARNING: please use MorganGenerator\n",
            "[00:20:29] DEPRECATION WARNING: please use MorganGenerator\n",
            "[00:20:29] DEPRECATION WARNING: please use MorganGenerator\n",
            "[00:20:29] DEPRECATION WARNING: please use MorganGenerator\n",
            "[00:20:29] DEPRECATION WARNING: please use MorganGenerator\n",
            "[00:20:29] DEPRECATION WARNING: please use MorganGenerator\n",
            "[00:20:29] DEPRECATION WARNING: please use MorganGenerator\n",
            "[00:20:29] DEPRECATION WARNING: please use MorganGenerator\n",
            "[00:20:29] DEPRECATION WARNING: please use MorganGenerator\n",
            "[00:20:29] DEPRECATION WARNING: please use MorganGenerator\n",
            "[00:20:29] DEPRECATION WARNING: please use MorganGenerator\n",
            "[00:20:29] DEPRECATION WARNING: please use MorganGenerator\n",
            "[00:20:29] DEPRECATION WARNING: please use MorganGenerator\n",
            "[00:20:29] DEPRECATION WARNING: please use MorganGenerator\n",
            "[00:20:29] DEPRECATION WARNING: please use MorganGenerator\n",
            "[00:20:29] DEPRECATION WARNING: please use MorganGenerator\n",
            "[00:20:29] DEPRECATION WARNING: please use MorganGenerator\n",
            "[00:20:29] DEPRECATION WARNING: please use MorganGenerator\n",
            "[00:20:29] DEPRECATION WARNING: please use MorganGenerator\n",
            "[00:20:29] DEPRECATION WARNING: please use MorganGenerator\n",
            "[00:20:29] DEPRECATION WARNING: please use MorganGenerator\n",
            "[00:20:29] DEPRECATION WARNING: please use MorganGenerator\n",
            "[00:20:29] DEPRECATION WARNING: please use MorganGenerator\n",
            "[00:20:29] DEPRECATION WARNING: please use MorganGenerator\n",
            "[00:20:29] DEPRECATION WARNING: please use MorganGenerator\n",
            "[00:20:29] DEPRECATION WARNING: please use MorganGenerator\n",
            "[00:20:29] DEPRECATION WARNING: please use MorganGenerator\n",
            "[00:20:29] DEPRECATION WARNING: please use MorganGenerator\n",
            "[00:20:29] DEPRECATION WARNING: please use MorganGenerator\n",
            "[00:20:29] DEPRECATION WARNING: please use MorganGenerator\n",
            "[00:20:29] DEPRECATION WARNING: please use MorganGenerator\n",
            "[00:20:29] DEPRECATION WARNING: please use MorganGenerator\n",
            "[00:20:29] DEPRECATION WARNING: please use MorganGenerator\n",
            "[00:20:29] DEPRECATION WARNING: please use MorganGenerator\n",
            "[00:20:29] DEPRECATION WARNING: please use MorganGenerator\n",
            "[00:20:29] DEPRECATION WARNING: please use MorganGenerator\n",
            "[00:20:29] DEPRECATION WARNING: please use MorganGenerator\n",
            "[00:20:29] DEPRECATION WARNING: please use MorganGenerator\n",
            "[00:20:29] DEPRECATION WARNING: please use MorganGenerator\n",
            "[00:20:29] DEPRECATION WARNING: please use MorganGenerator\n",
            "[00:20:29] DEPRECATION WARNING: please use MorganGenerator\n",
            "[00:20:29] DEPRECATION WARNING: please use MorganGenerator\n",
            "[00:20:29] DEPRECATION WARNING: please use MorganGenerator\n",
            "[00:20:29] DEPRECATION WARNING: please use MorganGenerator\n",
            "[00:20:29] DEPRECATION WARNING: please use MorganGenerator\n",
            "[00:20:29] DEPRECATION WARNING: please use MorganGenerator\n",
            "[00:20:29] DEPRECATION WARNING: please use MorganGenerator\n",
            "[00:20:29] DEPRECATION WARNING: please use MorganGenerator\n",
            "[00:20:29] DEPRECATION WARNING: please use MorganGenerator\n",
            "[00:20:29] DEPRECATION WARNING: please use MorganGenerator\n",
            "[00:20:29] DEPRECATION WARNING: please use MorganGenerator\n",
            "[00:20:29] DEPRECATION WARNING: please use MorganGenerator\n",
            "[00:20:29] DEPRECATION WARNING: please use MorganGenerator\n",
            "[00:20:29] DEPRECATION WARNING: please use MorganGenerator\n",
            "[00:20:29] DEPRECATION WARNING: please use MorganGenerator\n",
            "[00:20:29] DEPRECATION WARNING: please use MorganGenerator\n",
            "[00:20:29] DEPRECATION WARNING: please use MorganGenerator\n",
            "[00:20:29] DEPRECATION WARNING: please use MorganGenerator\n",
            "[00:20:29] DEPRECATION WARNING: please use MorganGenerator\n",
            "[00:20:29] DEPRECATION WARNING: please use MorganGenerator\n",
            "[00:20:29] DEPRECATION WARNING: please use MorganGenerator\n",
            "[00:20:29] DEPRECATION WARNING: please use MorganGenerator\n",
            "[00:20:29] DEPRECATION WARNING: please use MorganGenerator\n",
            "[00:20:29] DEPRECATION WARNING: please use MorganGenerator\n",
            "[00:20:29] DEPRECATION WARNING: please use MorganGenerator\n",
            "[00:20:29] DEPRECATION WARNING: please use MorganGenerator\n",
            "[00:20:29] DEPRECATION WARNING: please use MorganGenerator\n",
            "[00:20:29] DEPRECATION WARNING: please use MorganGenerator\n",
            "[00:20:29] DEPRECATION WARNING: please use MorganGenerator\n",
            "[00:20:29] DEPRECATION WARNING: please use MorganGenerator\n",
            "[00:20:29] DEPRECATION WARNING: please use MorganGenerator\n",
            "[00:20:29] DEPRECATION WARNING: please use MorganGenerator\n",
            "[00:20:29] DEPRECATION WARNING: please use MorganGenerator\n",
            "[00:20:29] DEPRECATION WARNING: please use MorganGenerator\n",
            "[00:20:29] DEPRECATION WARNING: please use MorganGenerator\n",
            "[00:20:29] DEPRECATION WARNING: please use MorganGenerator\n",
            "[00:20:29] DEPRECATION WARNING: please use MorganGenerator\n",
            "[00:20:29] DEPRECATION WARNING: please use MorganGenerator\n",
            "[00:20:29] DEPRECATION WARNING: please use MorganGenerator\n",
            "[00:20:29] DEPRECATION WARNING: please use MorganGenerator\n",
            "[00:20:29] DEPRECATION WARNING: please use MorganGenerator\n",
            "[00:20:29] DEPRECATION WARNING: please use MorganGenerator\n",
            "[00:20:29] DEPRECATION WARNING: please use MorganGenerator\n",
            "[00:20:29] DEPRECATION WARNING: please use MorganGenerator\n",
            "[00:20:29] DEPRECATION WARNING: please use MorganGenerator\n",
            "[00:20:29] DEPRECATION WARNING: please use MorganGenerator\n",
            "[00:20:29] DEPRECATION WARNING: please use MorganGenerator\n",
            "[00:20:29] DEPRECATION WARNING: please use MorganGenerator\n",
            "[00:20:29] DEPRECATION WARNING: please use MorganGenerator\n",
            "[00:20:29] DEPRECATION WARNING: please use MorganGenerator\n",
            "[00:20:29] DEPRECATION WARNING: please use MorganGenerator\n",
            "[00:20:29] DEPRECATION WARNING: please use MorganGenerator\n",
            "[00:20:29] DEPRECATION WARNING: please use MorganGenerator\n",
            "[00:20:29] DEPRECATION WARNING: please use MorganGenerator\n",
            "[00:20:29] DEPRECATION WARNING: please use MorganGenerator\n",
            "[00:20:29] DEPRECATION WARNING: please use MorganGenerator\n",
            "[00:20:29] DEPRECATION WARNING: please use MorganGenerator\n",
            "[00:20:29] DEPRECATION WARNING: please use MorganGenerator\n",
            "[00:20:29] DEPRECATION WARNING: please use MorganGenerator\n",
            "[00:20:29] DEPRECATION WARNING: please use MorganGenerator\n",
            "[00:20:29] DEPRECATION WARNING: please use MorganGenerator\n",
            "[00:20:29] DEPRECATION WARNING: please use MorganGenerator\n",
            "[00:20:29] DEPRECATION WARNING: please use MorganGenerator\n",
            "[00:20:29] DEPRECATION WARNING: please use MorganGenerator\n",
            "[00:20:29] DEPRECATION WARNING: please use MorganGenerator\n",
            "[00:20:29] DEPRECATION WARNING: please use MorganGenerator\n",
            "[00:20:29] DEPRECATION WARNING: please use MorganGenerator\n",
            "[00:20:29] DEPRECATION WARNING: please use MorganGenerator\n",
            "[00:20:29] DEPRECATION WARNING: please use MorganGenerator\n",
            "[00:20:29] DEPRECATION WARNING: please use MorganGenerator\n",
            "[00:20:29] DEPRECATION WARNING: please use MorganGenerator\n",
            "[00:20:29] DEPRECATION WARNING: please use MorganGenerator\n",
            "[00:20:29] DEPRECATION WARNING: please use MorganGenerator\n",
            "[00:20:29] DEPRECATION WARNING: please use MorganGenerator\n",
            "[00:20:29] DEPRECATION WARNING: please use MorganGenerator\n",
            "[00:20:29] DEPRECATION WARNING: please use MorganGenerator\n",
            "[00:20:29] DEPRECATION WARNING: please use MorganGenerator\n",
            "[00:20:29] DEPRECATION WARNING: please use MorganGenerator\n",
            "[00:20:29] DEPRECATION WARNING: please use MorganGenerator\n",
            "[00:20:29] DEPRECATION WARNING: please use MorganGenerator\n",
            "[00:20:29] DEPRECATION WARNING: please use MorganGenerator\n",
            "[00:20:29] DEPRECATION WARNING: please use MorganGenerator\n",
            "[00:20:29] DEPRECATION WARNING: please use MorganGenerator\n",
            "[00:20:29] DEPRECATION WARNING: please use MorganGenerator\n",
            "[00:20:29] DEPRECATION WARNING: please use MorganGenerator\n",
            "[00:20:29] DEPRECATION WARNING: please use MorganGenerator\n",
            "[00:20:29] DEPRECATION WARNING: please use MorganGenerator\n",
            "[00:20:29] DEPRECATION WARNING: please use MorganGenerator\n",
            "[00:20:29] DEPRECATION WARNING: please use MorganGenerator\n",
            "[00:20:29] DEPRECATION WARNING: please use MorganGenerator\n",
            "[00:20:29] DEPRECATION WARNING: please use MorganGenerator\n",
            "[00:20:29] DEPRECATION WARNING: please use MorganGenerator\n",
            "[00:20:29] DEPRECATION WARNING: please use MorganGenerator\n",
            "[00:20:29] DEPRECATION WARNING: please use MorganGenerator\n",
            "[00:20:29] DEPRECATION WARNING: please use MorganGenerator\n",
            "[00:20:29] DEPRECATION WARNING: please use MorganGenerator\n",
            "[00:20:29] DEPRECATION WARNING: please use MorganGenerator\n",
            "[00:20:29] DEPRECATION WARNING: please use MorganGenerator\n",
            "[00:20:29] DEPRECATION WARNING: please use MorganGenerator\n",
            "[00:20:29] DEPRECATION WARNING: please use MorganGenerator\n",
            "[00:20:29] DEPRECATION WARNING: please use MorganGenerator\n",
            "[00:20:29] DEPRECATION WARNING: please use MorganGenerator\n",
            "[00:20:29] DEPRECATION WARNING: please use MorganGenerator\n",
            "[00:20:29] DEPRECATION WARNING: please use MorganGenerator\n",
            "[00:20:29] DEPRECATION WARNING: please use MorganGenerator\n",
            "[00:20:29] DEPRECATION WARNING: please use MorganGenerator\n",
            "[00:20:29] DEPRECATION WARNING: please use MorganGenerator\n",
            "[00:20:29] DEPRECATION WARNING: please use MorganGenerator\n",
            "[00:20:29] DEPRECATION WARNING: please use MorganGenerator\n",
            "[00:20:29] DEPRECATION WARNING: please use MorganGenerator\n",
            "[00:20:29] DEPRECATION WARNING: please use MorganGenerator\n",
            "[00:20:29] DEPRECATION WARNING: please use MorganGenerator\n",
            "[00:20:29] DEPRECATION WARNING: please use MorganGenerator\n",
            "[00:20:29] DEPRECATION WARNING: please use MorganGenerator\n",
            "[00:20:29] DEPRECATION WARNING: please use MorganGenerator\n",
            "[00:20:29] DEPRECATION WARNING: please use MorganGenerator\n",
            "[00:20:29] DEPRECATION WARNING: please use MorganGenerator\n",
            "[00:20:29] DEPRECATION WARNING: please use MorganGenerator\n",
            "[00:20:29] DEPRECATION WARNING: please use MorganGenerator\n",
            "[00:20:29] DEPRECATION WARNING: please use MorganGenerator\n",
            "[00:20:29] DEPRECATION WARNING: please use MorganGenerator\n",
            "[00:20:29] DEPRECATION WARNING: please use MorganGenerator\n",
            "[00:20:29] DEPRECATION WARNING: please use MorganGenerator\n",
            "[00:20:29] DEPRECATION WARNING: please use MorganGenerator\n",
            "[00:20:29] DEPRECATION WARNING: please use MorganGenerator\n",
            "[00:20:29] DEPRECATION WARNING: please use MorganGenerator\n",
            "[00:20:29] DEPRECATION WARNING: please use MorganGenerator\n",
            "[00:20:29] DEPRECATION WARNING: please use MorganGenerator\n",
            "[00:20:29] DEPRECATION WARNING: please use MorganGenerator\n",
            "[00:20:29] DEPRECATION WARNING: please use MorganGenerator\n",
            "[00:20:29] DEPRECATION WARNING: please use MorganGenerator\n",
            "[00:20:29] DEPRECATION WARNING: please use MorganGenerator\n",
            "[00:20:29] DEPRECATION WARNING: please use MorganGenerator\n",
            "[00:20:29] DEPRECATION WARNING: please use MorganGenerator\n",
            "[00:20:29] DEPRECATION WARNING: please use MorganGenerator\n",
            "[00:20:29] DEPRECATION WARNING: please use MorganGenerator\n",
            "[00:20:29] DEPRECATION WARNING: please use MorganGenerator\n",
            "[00:20:29] DEPRECATION WARNING: please use MorganGenerator\n",
            "[00:20:29] DEPRECATION WARNING: please use MorganGenerator\n",
            "[00:20:29] DEPRECATION WARNING: please use MorganGenerator\n",
            "[00:20:29] DEPRECATION WARNING: please use MorganGenerator\n",
            "[00:20:29] DEPRECATION WARNING: please use MorganGenerator\n",
            "[00:20:29] DEPRECATION WARNING: please use MorganGenerator\n",
            "[00:20:29] DEPRECATION WARNING: please use MorganGenerator\n",
            "[00:20:29] DEPRECATION WARNING: please use MorganGenerator\n",
            "[00:20:29] DEPRECATION WARNING: please use MorganGenerator\n"
          ]
        }
      ]
    },
    {
      "cell_type": "code",
      "source": [
        "def rdkit_numpy_convert(fp): # Define a function using the def keyword, where fp is the function parameter\n",
        "    output = []\n",
        "    for f in fp:\n",
        "        arr = np.zeros((1,)) # Create a NumPy array of length 1 initialized to 0 using the zeros\n",
        "        DataStructs.ConvertToNumpyArray(f, arr)\n",
        "        # Use the RDKit function DataStructs.ConvertToNumpyArray to convert the molecular fingerprint f into a NumPy array, and store the result in the previously created array arr.\n",
        "        output.append(arr) # Add the converted array arr to the output list\n",
        "    return np.asarray(output) # # Convert the output list to a NumPy array and return it\n",
        "    # asarray is a function provided by NumPy, used to convert input data into a NumPy array (ndarray)"
      ],
      "metadata": {
        "id": "lQu5sbIe__-J"
      },
      "execution_count": null,
      "outputs": []
    },
    {
      "cell_type": "markdown",
      "source": [
        "In Python, def is a keyword used to define a function. By using def, you can create a function that encapsulates a group of statements so that it can be called multiple times when needed.\n",
        "\n",
        "rdkit_numpy_convert is a custom function name and is not a built-in Python function. From its name, it is likely used to convert molecular fingerprints generated by RDKit into NumPy arrays for further computation and analysis."
      ],
      "metadata": {
        "id": "Llz9316XU-Xu"
      }
    },
    {
      "cell_type": "code",
      "source": [
        "x = rdkit_numpy_convert(fp)\n",
        "# Call the custom function rdkit_numpy_convert, where fp is the function's parameter. Convert fp into a NumPy array and assign the result to x"
      ],
      "metadata": {
        "id": "dNo_WSWaHWCM"
      },
      "execution_count": null,
      "outputs": []
    },
    {
      "cell_type": "code",
      "source": [
        "x.shape # Get the shape information of the NumPy array x."
      ],
      "metadata": {
        "colab": {
          "base_uri": "https://localhost:8080/"
        },
        "id": "_Xvs-U5vXLnl",
        "outputId": "4e98fa97-fd38-44fc-fc32-e7958136851e"
      },
      "execution_count": null,
      "outputs": [
        {
          "output_type": "execute_result",
          "data": {
            "text/plain": [
              "(299, 2048)"
            ]
          },
          "metadata": {},
          "execution_count": 17
        }
      ]
    },
    {
      "cell_type": "markdown",
      "source": [
        "shape is an attribute of a NumPy array used to get the dimension information of the array.\n",
        "\n",
        "x.shape returns a tuple that represents the size of the array in each dimension. For example, for a two-dimensional array, shape returns (number of rows, number of columns)."
      ],
      "metadata": {
        "id": "4dLjb7D3eovN"
      }
    },
    {
      "cell_type": "code",
      "source": [
        "# check wether the data set is balanced\n",
        "sum(y) / len(y)"
      ],
      "metadata": {
        "colab": {
          "base_uri": "https://localhost:8080/"
        },
        "id": "QJaYu4DAYBMI",
        "outputId": "f938018d-e0e5-40f8-a858-7c2d61246c0f"
      },
      "execution_count": null,
      "outputs": [
        {
          "output_type": "execute_result",
          "data": {
            "text/plain": [
              "0.5886287625418061"
            ]
          },
          "metadata": {},
          "execution_count": 18
        }
      ]
    },
    {
      "cell_type": "markdown",
      "source": [
        "This line of code calculates the proportion of positive samples in the label array y, i.e., the proportion of positive samples (also called the positive class frequency). In binary classification problems, 1 is typically used to represent the positive class, and 0 represents the negative class.\n",
        "\n",
        "sum(y): Calculates the total sum of all elements in the array y. Since the elements of y are typically 0 or 1 (with 1 representing the positive class and 0 representing the negative class), sum(y) equals the number of positive samples.\n",
        "\n",
        "len(y): Retrieves the length of the array y, which is the total number of samples.\n",
        "\n",
        "sum(y) / len(y): Calculates the proportion of positive samples, i.e., the number of positive samples divided by the total number of samples."
      ],
      "metadata": {
        "id": "yqBQL6yqYsPs"
      }
    },
    {
      "cell_type": "markdown",
      "source": [
        "# Set random seed to make all further calculations reproducible"
      ],
      "metadata": {
        "id": "pKDikZUEYSq-"
      }
    },
    {
      "cell_type": "code",
      "source": [
        "seed = 42"
      ],
      "metadata": {
        "id": "frG0gK9SYUKT"
      },
      "execution_count": null,
      "outputs": []
    },
    {
      "cell_type": "markdown",
      "source": [
        "# Split the whole set on training and test sets"
      ],
      "metadata": {
        "id": "c0IsdTw9jOt3"
      }
    },
    {
      "cell_type": "code",
      "source": [
        "# randomly select 20% of compounds as test set\n",
        "x_tr, x_ts, y_tr, y_ts = train_test_split(x, y, test_size=0.20, random_state=seed)"
      ],
      "metadata": {
        "id": "DYqL8Oeajm6v"
      },
      "execution_count": null,
      "outputs": []
    },
    {
      "cell_type": "markdown",
      "source": [
        "# Create folds for cross-validation"
      ],
      "metadata": {
        "id": "4sopzsZGj0kW"
      }
    },
    {
      "cell_type": "code",
      "source": [
        "from sklearn.model_selection import StratifiedKFold\n",
        "cv = StratifiedKFold(n_splits=5, shuffle=True, random_state=seed) # cross-validation"
      ],
      "metadata": {
        "id": "bsVwyQpPj4yQ"
      },
      "execution_count": null,
      "outputs": []
    },
    {
      "cell_type": "code",
      "source": [
        "# print out ids of folds\n",
        "for i, (train_index, test_index) in enumerate(cv.split(x_tr, y_tr)):\n",
        "    print(\"\\nFold_\" + str(i+1))\n",
        "    print(\"TRAIN:\", train_index)\n",
        "    print(\"TEST:\", test_index)"
      ],
      "metadata": {
        "colab": {
          "base_uri": "https://localhost:8080/"
        },
        "id": "wlJ9NdG1kBtn",
        "outputId": "26f222cc-0683-4f91-d566-dbb3e5b74dbb"
      },
      "execution_count": null,
      "outputs": [
        {
          "output_type": "stream",
          "name": "stdout",
          "text": [
            "\n",
            "Fold_1\n",
            "TRAIN: [  0   1   2   4   5   6   8   9  10  11  12  16  19  20  23  24  25  26\n",
            "  27  30  31  32  33  34  36  38  39  40  41  42  44  45  47  48  49  50\n",
            "  51  52  53  55  56  58  59  60  61  62  64  65  66  67  68  69  70  72\n",
            "  75  76  77  78  79  80  83  84  85  86  87  88  89  91  92  93  94  95\n",
            "  96  97  99 100 102 103 104 105 106 107 108 109 110 111 113 114 115 116\n",
            " 117 118 119 121 122 123 126 127 128 129 130 132 133 134 137 138 139 140\n",
            " 141 142 143 144 145 146 147 149 150 151 152 153 154 155 156 157 158 160\n",
            " 161 162 163 164 165 166 167 168 169 170 171 172 173 175 176 179 180 182\n",
            " 183 184 187 188 189 190 191 192 193 194 195 196 197 198 199 200 201 202\n",
            " 203 204 205 206 208 209 210 212 213 214 215 216 218 219 220 221 222 223\n",
            " 226 227 228 229 230 233 234 235 236 237 238]\n",
            "TEST: [  3   7  13  14  15  17  18  21  22  28  29  35  37  43  46  54  57  63\n",
            "  71  73  74  81  82  90  98 101 112 120 124 125 131 135 136 148 159 174\n",
            " 177 178 181 185 186 207 211 217 224 225 231 232]\n",
            "\n",
            "Fold_2\n",
            "TRAIN: [  0   1   2   3   4   5   7  10  11  12  13  14  15  16  17  18  19  21\n",
            "  22  23  26  27  28  29  30  31  33  35  36  37  38  39  41  42  43  44\n",
            "  45  46  47  50  51  52  54  55  57  58  59  60  62  63  64  65  66  68\n",
            "  69  70  71  72  73  74  75  76  77  78  80  81  82  83  85  86  87  90\n",
            "  91  92  93  94  95  97  98 100 101 102 103 104 105 106 107 108 109 110\n",
            " 112 113 115 116 117 118 119 120 122 123 124 125 127 128 130 131 132 133\n",
            " 134 135 136 137 138 139 141 142 143 144 145 148 149 150 153 155 156 157\n",
            " 158 159 160 162 163 164 165 166 167 169 170 172 173 174 175 176 177 178\n",
            " 179 180 181 182 183 184 185 186 187 188 190 192 193 194 195 197 198 199\n",
            " 200 202 203 204 207 208 211 212 214 215 216 217 218 219 221 222 223 224\n",
            " 225 226 227 230 231 232 233 234 235 237 238]\n",
            "TEST: [  6   8   9  20  24  25  32  34  40  48  49  53  56  61  67  79  84  88\n",
            "  89  96  99 111 114 121 126 129 140 146 147 151 152 154 161 168 171 189\n",
            " 191 196 201 205 206 209 210 213 220 228 229 236]\n",
            "\n",
            "Fold_3\n",
            "TRAIN: [  0   2   3   4   6   7   8   9  12  13  14  15  16  17  18  19  20  21\n",
            "  22  23  24  25  27  28  29  31  32  33  34  35  36  37  38  39  40  42\n",
            "  43  44  46  47  48  49  50  51  52  53  54  56  57  58  59  61  62  63\n",
            "  64  65  67  68  69  70  71  72  73  74  76  77  79  80  81  82  84  85\n",
            "  87  88  89  90  91  92  93  94  96  97  98  99 100 101 105 106 107 108\n",
            " 110 111 112 113 114 115 118 119 120 121 122 123 124 125 126 129 130 131\n",
            " 132 133 134 135 136 138 139 140 141 143 146 147 148 149 151 152 153 154\n",
            " 155 156 159 160 161 162 165 166 167 168 170 171 173 174 177 178 180 181\n",
            " 182 183 184 185 186 189 190 191 192 193 194 196 197 198 200 201 202 203\n",
            " 204 205 206 207 209 210 211 212 213 214 216 217 218 219 220 221 222 223\n",
            " 224 225 228 229 230 231 232 233 234 236 237]\n",
            "TEST: [  1   5  10  11  26  30  41  45  55  60  66  75  78  83  86  95 102 103\n",
            " 104 109 116 117 127 128 137 142 144 145 150 157 158 163 164 169 172 175\n",
            " 176 179 187 188 195 199 208 215 226 227 235 238]\n",
            "\n",
            "Fold_4\n",
            "TRAIN: [  0   1   3   5   6   7   8   9  10  11  13  14  15  16  17  18  19  20\n",
            "  21  22  23  24  25  26  28  29  30  31  32  33  34  35  37  39  40  41\n",
            "  43  45  46  48  49  51  52  53  54  55  56  57  58  60  61  63  64  66\n",
            "  67  68  70  71  72  73  74  75  76  78  79  80  81  82  83  84  85  86\n",
            "  87  88  89  90  92  93  95  96  98  99 101 102 103 104 106 108 109 110\n",
            " 111 112 113 114 116 117 119 120 121 124 125 126 127 128 129 130 131 132\n",
            " 135 136 137 139 140 142 143 144 145 146 147 148 149 150 151 152 153 154\n",
            " 156 157 158 159 161 163 164 167 168 169 171 172 174 175 176 177 178 179\n",
            " 181 183 184 185 186 187 188 189 191 192 194 195 196 199 201 203 205 206\n",
            " 207 208 209 210 211 213 214 215 216 217 219 220 221 222 223 224 225 226\n",
            " 227 228 229 231 232 233 234 235 236 237 238]\n",
            "TEST: [  2   4  12  27  36  38  42  44  47  50  59  62  65  69  77  91  94  97\n",
            " 100 105 107 115 118 122 123 133 134 138 141 155 160 162 165 166 170 173\n",
            " 180 182 190 193 197 198 200 202 204 212 218 230]\n",
            "\n",
            "Fold_5\n",
            "TRAIN: [  1   2   3   4   5   6   7   8   9  10  11  12  13  14  15  17  18  20\n",
            "  21  22  24  25  26  27  28  29  30  32  34  35  36  37  38  40  41  42\n",
            "  43  44  45  46  47  48  49  50  53  54  55  56  57  59  60  61  62  63\n",
            "  65  66  67  69  71  73  74  75  77  78  79  81  82  83  84  86  88  89\n",
            "  90  91  94  95  96  97  98  99 100 101 102 103 104 105 107 109 111 112\n",
            " 114 115 116 117 118 120 121 122 123 124 125 126 127 128 129 131 133 134\n",
            " 135 136 137 138 140 141 142 144 145 146 147 148 150 151 152 154 155 157\n",
            " 158 159 160 161 162 163 164 165 166 168 169 170 171 172 173 174 175 176\n",
            " 177 178 179 180 181 182 185 186 187 188 189 190 191 193 195 196 197 198\n",
            " 199 200 201 202 204 205 206 207 208 209 210 211 212 213 215 217 218 220\n",
            " 224 225 226 227 228 229 230 231 232 235 236 238]\n",
            "TEST: [  0  16  19  23  31  33  39  51  52  58  64  68  70  72  76  80  85  87\n",
            "  92  93 106 108 110 113 119 130 132 139 143 149 153 156 167 183 184 192\n",
            " 194 203 214 216 219 221 222 223 233 234 237]\n"
          ]
        }
      ]
    },
    {
      "cell_type": "markdown",
      "source": [
        "# **Scale X**"
      ],
      "metadata": {
        "id": "hdLD803BnVuG"
      }
    },
    {
      "cell_type": "markdown",
      "source": [
        "This step may be crucial for certain modeling approaches lke SVM. In the case of binary fingerprints it may be less useful."
      ],
      "metadata": {
        "id": "jrVUGWXNnXOr"
      }
    },
    {
      "cell_type": "code",
      "source": [
        "# obtain scale object which can be further applied to scale any data to fit the training set\n",
        "scale = StandardScaler().fit(x_tr) # Get a StandardScaler object that can be used to scale any data to the same distribution as the training set\n",
        "# StandardScaler()：Create a StandardScaler object\n",
        "# .fit(x_tr)：Calculate the mean and standard deviation of the training data x_tr and store these statistics in the StandardScaler object\n",
        "x_tr = scale.transform(x_tr) # Transform the training data using the calculated mean and standard deviation\n",
        "# .transform(x_tr)：Use the previously calculated mean and standard deviation to transform the training data x_tr into a standard normal distribution, i.e., making the mean of each feature 0 and the standard deviation 1."
      ],
      "metadata": {
        "id": "GZ0ChJAPnmsj"
      },
      "execution_count": null,
      "outputs": []
    },
    {
      "cell_type": "code",
      "source": [
        "# it is a good idea to save it for future use\n",
        "import joblib\n",
        "joblib.dump(scale, \"logBB_scale.pkl\", compress=3)"
      ],
      "metadata": {
        "colab": {
          "base_uri": "https://localhost:8080/"
        },
        "id": "vG5zcmbxu2Pl",
        "outputId": "aa97b844-58e3-4b61-a1c1-af75ee9bc3d2"
      },
      "execution_count": null,
      "outputs": [
        {
          "output_type": "execute_result",
          "data": {
            "text/plain": [
              "['logBB_scale.pkl']"
            ]
          },
          "metadata": {},
          "execution_count": 24
        }
      ]
    },
    {
      "cell_type": "markdown",
      "source": [
        "# Search for optimal tuning parameters and build the model\n",
        "使用网格搜索字典进行超参数优化"
      ],
      "metadata": {
        "id": "NOuG09BYxBq6"
      }
    },
    {
      "cell_type": "code",
      "source": [
        "# create grid search dictionary\n",
        "param_grid = {\"max_features\": [x_tr.shape[1] // 10, x_tr.shape[1] // 7, x_tr.shape[1] // 5, x_tr.shape[1] // 3],\n",
        "              \"n_estimators\": [100, 250, 500]}\n",
        "# Define the hyperparameter search space."
      ],
      "metadata": {
        "id": "ce0YE_rxxDZj"
      },
      "execution_count": null,
      "outputs": []
    },
    {
      "cell_type": "code",
      "source": [
        "# setup model building  Create a GridSearchCV for hyperparameter search.\n",
        "m = GridSearchCV(RandomForestClassifier(), param_grid, n_jobs=2, cv=cv, verbose=1)\n",
        "#Use Grid Search to perform hyperparameter optimization on RandomForestClassifier and search for the best parameter combination in parallel"
      ],
      "metadata": {
        "id": "TiTMTE9yxN5d"
      },
      "execution_count": null,
      "outputs": []
    },
    {
      "cell_type": "code",
      "source": [
        "# run model building # Train the grid search.\n",
        "m.fit(x_tr, y_tr)"
      ],
      "metadata": {
        "colab": {
          "base_uri": "https://localhost:8080/",
          "height": 184
        },
        "id": "MKVdR3mYxPHD",
        "outputId": "bae56458-96af-4f3c-de25-805bcb1fede4"
      },
      "execution_count": null,
      "outputs": [
        {
          "output_type": "stream",
          "name": "stdout",
          "text": [
            "Fitting 5 folds for each of 12 candidates, totalling 60 fits\n"
          ]
        },
        {
          "output_type": "execute_result",
          "data": {
            "text/plain": [
              "GridSearchCV(cv=StratifiedKFold(n_splits=5, random_state=42, shuffle=True),\n",
              "             estimator=RandomForestClassifier(), n_jobs=2,\n",
              "             param_grid={'max_features': [204, 292, 409, 682],\n",
              "                         'n_estimators': [100, 250, 500]},\n",
              "             verbose=1)"
            ],
            "text/html": [
              "<style>#sk-container-id-1 {\n",
              "  /* Definition of color scheme common for light and dark mode */\n",
              "  --sklearn-color-text: #000;\n",
              "  --sklearn-color-text-muted: #666;\n",
              "  --sklearn-color-line: gray;\n",
              "  /* Definition of color scheme for unfitted estimators */\n",
              "  --sklearn-color-unfitted-level-0: #fff5e6;\n",
              "  --sklearn-color-unfitted-level-1: #f6e4d2;\n",
              "  --sklearn-color-unfitted-level-2: #ffe0b3;\n",
              "  --sklearn-color-unfitted-level-3: chocolate;\n",
              "  /* Definition of color scheme for fitted estimators */\n",
              "  --sklearn-color-fitted-level-0: #f0f8ff;\n",
              "  --sklearn-color-fitted-level-1: #d4ebff;\n",
              "  --sklearn-color-fitted-level-2: #b3dbfd;\n",
              "  --sklearn-color-fitted-level-3: cornflowerblue;\n",
              "\n",
              "  /* Specific color for light theme */\n",
              "  --sklearn-color-text-on-default-background: var(--sg-text-color, var(--theme-code-foreground, var(--jp-content-font-color1, black)));\n",
              "  --sklearn-color-background: var(--sg-background-color, var(--theme-background, var(--jp-layout-color0, white)));\n",
              "  --sklearn-color-border-box: var(--sg-text-color, var(--theme-code-foreground, var(--jp-content-font-color1, black)));\n",
              "  --sklearn-color-icon: #696969;\n",
              "\n",
              "  @media (prefers-color-scheme: dark) {\n",
              "    /* Redefinition of color scheme for dark theme */\n",
              "    --sklearn-color-text-on-default-background: var(--sg-text-color, var(--theme-code-foreground, var(--jp-content-font-color1, white)));\n",
              "    --sklearn-color-background: var(--sg-background-color, var(--theme-background, var(--jp-layout-color0, #111)));\n",
              "    --sklearn-color-border-box: var(--sg-text-color, var(--theme-code-foreground, var(--jp-content-font-color1, white)));\n",
              "    --sklearn-color-icon: #878787;\n",
              "  }\n",
              "}\n",
              "\n",
              "#sk-container-id-1 {\n",
              "  color: var(--sklearn-color-text);\n",
              "}\n",
              "\n",
              "#sk-container-id-1 pre {\n",
              "  padding: 0;\n",
              "}\n",
              "\n",
              "#sk-container-id-1 input.sk-hidden--visually {\n",
              "  border: 0;\n",
              "  clip: rect(1px 1px 1px 1px);\n",
              "  clip: rect(1px, 1px, 1px, 1px);\n",
              "  height: 1px;\n",
              "  margin: -1px;\n",
              "  overflow: hidden;\n",
              "  padding: 0;\n",
              "  position: absolute;\n",
              "  width: 1px;\n",
              "}\n",
              "\n",
              "#sk-container-id-1 div.sk-dashed-wrapped {\n",
              "  border: 1px dashed var(--sklearn-color-line);\n",
              "  margin: 0 0.4em 0.5em 0.4em;\n",
              "  box-sizing: border-box;\n",
              "  padding-bottom: 0.4em;\n",
              "  background-color: var(--sklearn-color-background);\n",
              "}\n",
              "\n",
              "#sk-container-id-1 div.sk-container {\n",
              "  /* jupyter's `normalize.less` sets `[hidden] { display: none; }`\n",
              "     but bootstrap.min.css set `[hidden] { display: none !important; }`\n",
              "     so we also need the `!important` here to be able to override the\n",
              "     default hidden behavior on the sphinx rendered scikit-learn.org.\n",
              "     See: https://github.com/scikit-learn/scikit-learn/issues/21755 */\n",
              "  display: inline-block !important;\n",
              "  position: relative;\n",
              "}\n",
              "\n",
              "#sk-container-id-1 div.sk-text-repr-fallback {\n",
              "  display: none;\n",
              "}\n",
              "\n",
              "div.sk-parallel-item,\n",
              "div.sk-serial,\n",
              "div.sk-item {\n",
              "  /* draw centered vertical line to link estimators */\n",
              "  background-image: linear-gradient(var(--sklearn-color-text-on-default-background), var(--sklearn-color-text-on-default-background));\n",
              "  background-size: 2px 100%;\n",
              "  background-repeat: no-repeat;\n",
              "  background-position: center center;\n",
              "}\n",
              "\n",
              "/* Parallel-specific style estimator block */\n",
              "\n",
              "#sk-container-id-1 div.sk-parallel-item::after {\n",
              "  content: \"\";\n",
              "  width: 100%;\n",
              "  border-bottom: 2px solid var(--sklearn-color-text-on-default-background);\n",
              "  flex-grow: 1;\n",
              "}\n",
              "\n",
              "#sk-container-id-1 div.sk-parallel {\n",
              "  display: flex;\n",
              "  align-items: stretch;\n",
              "  justify-content: center;\n",
              "  background-color: var(--sklearn-color-background);\n",
              "  position: relative;\n",
              "}\n",
              "\n",
              "#sk-container-id-1 div.sk-parallel-item {\n",
              "  display: flex;\n",
              "  flex-direction: column;\n",
              "}\n",
              "\n",
              "#sk-container-id-1 div.sk-parallel-item:first-child::after {\n",
              "  align-self: flex-end;\n",
              "  width: 50%;\n",
              "}\n",
              "\n",
              "#sk-container-id-1 div.sk-parallel-item:last-child::after {\n",
              "  align-self: flex-start;\n",
              "  width: 50%;\n",
              "}\n",
              "\n",
              "#sk-container-id-1 div.sk-parallel-item:only-child::after {\n",
              "  width: 0;\n",
              "}\n",
              "\n",
              "/* Serial-specific style estimator block */\n",
              "\n",
              "#sk-container-id-1 div.sk-serial {\n",
              "  display: flex;\n",
              "  flex-direction: column;\n",
              "  align-items: center;\n",
              "  background-color: var(--sklearn-color-background);\n",
              "  padding-right: 1em;\n",
              "  padding-left: 1em;\n",
              "}\n",
              "\n",
              "\n",
              "/* Toggleable style: style used for estimator/Pipeline/ColumnTransformer box that is\n",
              "clickable and can be expanded/collapsed.\n",
              "- Pipeline and ColumnTransformer use this feature and define the default style\n",
              "- Estimators will overwrite some part of the style using the `sk-estimator` class\n",
              "*/\n",
              "\n",
              "/* Pipeline and ColumnTransformer style (default) */\n",
              "\n",
              "#sk-container-id-1 div.sk-toggleable {\n",
              "  /* Default theme specific background. It is overwritten whether we have a\n",
              "  specific estimator or a Pipeline/ColumnTransformer */\n",
              "  background-color: var(--sklearn-color-background);\n",
              "}\n",
              "\n",
              "/* Toggleable label */\n",
              "#sk-container-id-1 label.sk-toggleable__label {\n",
              "  cursor: pointer;\n",
              "  display: flex;\n",
              "  width: 100%;\n",
              "  margin-bottom: 0;\n",
              "  padding: 0.5em;\n",
              "  box-sizing: border-box;\n",
              "  text-align: center;\n",
              "  align-items: start;\n",
              "  justify-content: space-between;\n",
              "  gap: 0.5em;\n",
              "}\n",
              "\n",
              "#sk-container-id-1 label.sk-toggleable__label .caption {\n",
              "  font-size: 0.6rem;\n",
              "  font-weight: lighter;\n",
              "  color: var(--sklearn-color-text-muted);\n",
              "}\n",
              "\n",
              "#sk-container-id-1 label.sk-toggleable__label-arrow:before {\n",
              "  /* Arrow on the left of the label */\n",
              "  content: \"▸\";\n",
              "  float: left;\n",
              "  margin-right: 0.25em;\n",
              "  color: var(--sklearn-color-icon);\n",
              "}\n",
              "\n",
              "#sk-container-id-1 label.sk-toggleable__label-arrow:hover:before {\n",
              "  color: var(--sklearn-color-text);\n",
              "}\n",
              "\n",
              "/* Toggleable content - dropdown */\n",
              "\n",
              "#sk-container-id-1 div.sk-toggleable__content {\n",
              "  max-height: 0;\n",
              "  max-width: 0;\n",
              "  overflow: hidden;\n",
              "  text-align: left;\n",
              "  /* unfitted */\n",
              "  background-color: var(--sklearn-color-unfitted-level-0);\n",
              "}\n",
              "\n",
              "#sk-container-id-1 div.sk-toggleable__content.fitted {\n",
              "  /* fitted */\n",
              "  background-color: var(--sklearn-color-fitted-level-0);\n",
              "}\n",
              "\n",
              "#sk-container-id-1 div.sk-toggleable__content pre {\n",
              "  margin: 0.2em;\n",
              "  border-radius: 0.25em;\n",
              "  color: var(--sklearn-color-text);\n",
              "  /* unfitted */\n",
              "  background-color: var(--sklearn-color-unfitted-level-0);\n",
              "}\n",
              "\n",
              "#sk-container-id-1 div.sk-toggleable__content.fitted pre {\n",
              "  /* unfitted */\n",
              "  background-color: var(--sklearn-color-fitted-level-0);\n",
              "}\n",
              "\n",
              "#sk-container-id-1 input.sk-toggleable__control:checked~div.sk-toggleable__content {\n",
              "  /* Expand drop-down */\n",
              "  max-height: 200px;\n",
              "  max-width: 100%;\n",
              "  overflow: auto;\n",
              "}\n",
              "\n",
              "#sk-container-id-1 input.sk-toggleable__control:checked~label.sk-toggleable__label-arrow:before {\n",
              "  content: \"▾\";\n",
              "}\n",
              "\n",
              "/* Pipeline/ColumnTransformer-specific style */\n",
              "\n",
              "#sk-container-id-1 div.sk-label input.sk-toggleable__control:checked~label.sk-toggleable__label {\n",
              "  color: var(--sklearn-color-text);\n",
              "  background-color: var(--sklearn-color-unfitted-level-2);\n",
              "}\n",
              "\n",
              "#sk-container-id-1 div.sk-label.fitted input.sk-toggleable__control:checked~label.sk-toggleable__label {\n",
              "  background-color: var(--sklearn-color-fitted-level-2);\n",
              "}\n",
              "\n",
              "/* Estimator-specific style */\n",
              "\n",
              "/* Colorize estimator box */\n",
              "#sk-container-id-1 div.sk-estimator input.sk-toggleable__control:checked~label.sk-toggleable__label {\n",
              "  /* unfitted */\n",
              "  background-color: var(--sklearn-color-unfitted-level-2);\n",
              "}\n",
              "\n",
              "#sk-container-id-1 div.sk-estimator.fitted input.sk-toggleable__control:checked~label.sk-toggleable__label {\n",
              "  /* fitted */\n",
              "  background-color: var(--sklearn-color-fitted-level-2);\n",
              "}\n",
              "\n",
              "#sk-container-id-1 div.sk-label label.sk-toggleable__label,\n",
              "#sk-container-id-1 div.sk-label label {\n",
              "  /* The background is the default theme color */\n",
              "  color: var(--sklearn-color-text-on-default-background);\n",
              "}\n",
              "\n",
              "/* On hover, darken the color of the background */\n",
              "#sk-container-id-1 div.sk-label:hover label.sk-toggleable__label {\n",
              "  color: var(--sklearn-color-text);\n",
              "  background-color: var(--sklearn-color-unfitted-level-2);\n",
              "}\n",
              "\n",
              "/* Label box, darken color on hover, fitted */\n",
              "#sk-container-id-1 div.sk-label.fitted:hover label.sk-toggleable__label.fitted {\n",
              "  color: var(--sklearn-color-text);\n",
              "  background-color: var(--sklearn-color-fitted-level-2);\n",
              "}\n",
              "\n",
              "/* Estimator label */\n",
              "\n",
              "#sk-container-id-1 div.sk-label label {\n",
              "  font-family: monospace;\n",
              "  font-weight: bold;\n",
              "  display: inline-block;\n",
              "  line-height: 1.2em;\n",
              "}\n",
              "\n",
              "#sk-container-id-1 div.sk-label-container {\n",
              "  text-align: center;\n",
              "}\n",
              "\n",
              "/* Estimator-specific */\n",
              "#sk-container-id-1 div.sk-estimator {\n",
              "  font-family: monospace;\n",
              "  border: 1px dotted var(--sklearn-color-border-box);\n",
              "  border-radius: 0.25em;\n",
              "  box-sizing: border-box;\n",
              "  margin-bottom: 0.5em;\n",
              "  /* unfitted */\n",
              "  background-color: var(--sklearn-color-unfitted-level-0);\n",
              "}\n",
              "\n",
              "#sk-container-id-1 div.sk-estimator.fitted {\n",
              "  /* fitted */\n",
              "  background-color: var(--sklearn-color-fitted-level-0);\n",
              "}\n",
              "\n",
              "/* on hover */\n",
              "#sk-container-id-1 div.sk-estimator:hover {\n",
              "  /* unfitted */\n",
              "  background-color: var(--sklearn-color-unfitted-level-2);\n",
              "}\n",
              "\n",
              "#sk-container-id-1 div.sk-estimator.fitted:hover {\n",
              "  /* fitted */\n",
              "  background-color: var(--sklearn-color-fitted-level-2);\n",
              "}\n",
              "\n",
              "/* Specification for estimator info (e.g. \"i\" and \"?\") */\n",
              "\n",
              "/* Common style for \"i\" and \"?\" */\n",
              "\n",
              ".sk-estimator-doc-link,\n",
              "a:link.sk-estimator-doc-link,\n",
              "a:visited.sk-estimator-doc-link {\n",
              "  float: right;\n",
              "  font-size: smaller;\n",
              "  line-height: 1em;\n",
              "  font-family: monospace;\n",
              "  background-color: var(--sklearn-color-background);\n",
              "  border-radius: 1em;\n",
              "  height: 1em;\n",
              "  width: 1em;\n",
              "  text-decoration: none !important;\n",
              "  margin-left: 0.5em;\n",
              "  text-align: center;\n",
              "  /* unfitted */\n",
              "  border: var(--sklearn-color-unfitted-level-1) 1pt solid;\n",
              "  color: var(--sklearn-color-unfitted-level-1);\n",
              "}\n",
              "\n",
              ".sk-estimator-doc-link.fitted,\n",
              "a:link.sk-estimator-doc-link.fitted,\n",
              "a:visited.sk-estimator-doc-link.fitted {\n",
              "  /* fitted */\n",
              "  border: var(--sklearn-color-fitted-level-1) 1pt solid;\n",
              "  color: var(--sklearn-color-fitted-level-1);\n",
              "}\n",
              "\n",
              "/* On hover */\n",
              "div.sk-estimator:hover .sk-estimator-doc-link:hover,\n",
              ".sk-estimator-doc-link:hover,\n",
              "div.sk-label-container:hover .sk-estimator-doc-link:hover,\n",
              ".sk-estimator-doc-link:hover {\n",
              "  /* unfitted */\n",
              "  background-color: var(--sklearn-color-unfitted-level-3);\n",
              "  color: var(--sklearn-color-background);\n",
              "  text-decoration: none;\n",
              "}\n",
              "\n",
              "div.sk-estimator.fitted:hover .sk-estimator-doc-link.fitted:hover,\n",
              ".sk-estimator-doc-link.fitted:hover,\n",
              "div.sk-label-container:hover .sk-estimator-doc-link.fitted:hover,\n",
              ".sk-estimator-doc-link.fitted:hover {\n",
              "  /* fitted */\n",
              "  background-color: var(--sklearn-color-fitted-level-3);\n",
              "  color: var(--sklearn-color-background);\n",
              "  text-decoration: none;\n",
              "}\n",
              "\n",
              "/* Span, style for the box shown on hovering the info icon */\n",
              ".sk-estimator-doc-link span {\n",
              "  display: none;\n",
              "  z-index: 9999;\n",
              "  position: relative;\n",
              "  font-weight: normal;\n",
              "  right: .2ex;\n",
              "  padding: .5ex;\n",
              "  margin: .5ex;\n",
              "  width: min-content;\n",
              "  min-width: 20ex;\n",
              "  max-width: 50ex;\n",
              "  color: var(--sklearn-color-text);\n",
              "  box-shadow: 2pt 2pt 4pt #999;\n",
              "  /* unfitted */\n",
              "  background: var(--sklearn-color-unfitted-level-0);\n",
              "  border: .5pt solid var(--sklearn-color-unfitted-level-3);\n",
              "}\n",
              "\n",
              ".sk-estimator-doc-link.fitted span {\n",
              "  /* fitted */\n",
              "  background: var(--sklearn-color-fitted-level-0);\n",
              "  border: var(--sklearn-color-fitted-level-3);\n",
              "}\n",
              "\n",
              ".sk-estimator-doc-link:hover span {\n",
              "  display: block;\n",
              "}\n",
              "\n",
              "/* \"?\"-specific style due to the `<a>` HTML tag */\n",
              "\n",
              "#sk-container-id-1 a.estimator_doc_link {\n",
              "  float: right;\n",
              "  font-size: 1rem;\n",
              "  line-height: 1em;\n",
              "  font-family: monospace;\n",
              "  background-color: var(--sklearn-color-background);\n",
              "  border-radius: 1rem;\n",
              "  height: 1rem;\n",
              "  width: 1rem;\n",
              "  text-decoration: none;\n",
              "  /* unfitted */\n",
              "  color: var(--sklearn-color-unfitted-level-1);\n",
              "  border: var(--sklearn-color-unfitted-level-1) 1pt solid;\n",
              "}\n",
              "\n",
              "#sk-container-id-1 a.estimator_doc_link.fitted {\n",
              "  /* fitted */\n",
              "  border: var(--sklearn-color-fitted-level-1) 1pt solid;\n",
              "  color: var(--sklearn-color-fitted-level-1);\n",
              "}\n",
              "\n",
              "/* On hover */\n",
              "#sk-container-id-1 a.estimator_doc_link:hover {\n",
              "  /* unfitted */\n",
              "  background-color: var(--sklearn-color-unfitted-level-3);\n",
              "  color: var(--sklearn-color-background);\n",
              "  text-decoration: none;\n",
              "}\n",
              "\n",
              "#sk-container-id-1 a.estimator_doc_link.fitted:hover {\n",
              "  /* fitted */\n",
              "  background-color: var(--sklearn-color-fitted-level-3);\n",
              "}\n",
              "</style><div id=\"sk-container-id-1\" class=\"sk-top-container\"><div class=\"sk-text-repr-fallback\"><pre>GridSearchCV(cv=StratifiedKFold(n_splits=5, random_state=42, shuffle=True),\n",
              "             estimator=RandomForestClassifier(), n_jobs=2,\n",
              "             param_grid={&#x27;max_features&#x27;: [204, 292, 409, 682],\n",
              "                         &#x27;n_estimators&#x27;: [100, 250, 500]},\n",
              "             verbose=1)</pre><b>In a Jupyter environment, please rerun this cell to show the HTML representation or trust the notebook. <br />On GitHub, the HTML representation is unable to render, please try loading this page with nbviewer.org.</b></div><div class=\"sk-container\" hidden><div class=\"sk-item sk-dashed-wrapped\"><div class=\"sk-label-container\"><div class=\"sk-label fitted sk-toggleable\"><input class=\"sk-toggleable__control sk-hidden--visually\" id=\"sk-estimator-id-1\" type=\"checkbox\" ><label for=\"sk-estimator-id-1\" class=\"sk-toggleable__label fitted sk-toggleable__label-arrow\"><div><div>GridSearchCV</div></div><div><a class=\"sk-estimator-doc-link fitted\" rel=\"noreferrer\" target=\"_blank\" href=\"https://scikit-learn.org/1.6/modules/generated/sklearn.model_selection.GridSearchCV.html\">?<span>Documentation for GridSearchCV</span></a><span class=\"sk-estimator-doc-link fitted\">i<span>Fitted</span></span></div></label><div class=\"sk-toggleable__content fitted\"><pre>GridSearchCV(cv=StratifiedKFold(n_splits=5, random_state=42, shuffle=True),\n",
              "             estimator=RandomForestClassifier(), n_jobs=2,\n",
              "             param_grid={&#x27;max_features&#x27;: [204, 292, 409, 682],\n",
              "                         &#x27;n_estimators&#x27;: [100, 250, 500]},\n",
              "             verbose=1)</pre></div> </div></div><div class=\"sk-parallel\"><div class=\"sk-parallel-item\"><div class=\"sk-item\"><div class=\"sk-label-container\"><div class=\"sk-label fitted sk-toggleable\"><input class=\"sk-toggleable__control sk-hidden--visually\" id=\"sk-estimator-id-2\" type=\"checkbox\" ><label for=\"sk-estimator-id-2\" class=\"sk-toggleable__label fitted sk-toggleable__label-arrow\"><div><div>best_estimator_: RandomForestClassifier</div></div></label><div class=\"sk-toggleable__content fitted\"><pre>RandomForestClassifier(max_features=204, n_estimators=250)</pre></div> </div></div><div class=\"sk-serial\"><div class=\"sk-item\"><div class=\"sk-estimator fitted sk-toggleable\"><input class=\"sk-toggleable__control sk-hidden--visually\" id=\"sk-estimator-id-3\" type=\"checkbox\" ><label for=\"sk-estimator-id-3\" class=\"sk-toggleable__label fitted sk-toggleable__label-arrow\"><div><div>RandomForestClassifier</div></div><div><a class=\"sk-estimator-doc-link fitted\" rel=\"noreferrer\" target=\"_blank\" href=\"https://scikit-learn.org/1.6/modules/generated/sklearn.ensemble.RandomForestClassifier.html\">?<span>Documentation for RandomForestClassifier</span></a></div></label><div class=\"sk-toggleable__content fitted\"><pre>RandomForestClassifier(max_features=204, n_estimators=250)</pre></div> </div></div></div></div></div></div></div></div></div>"
            ]
          },
          "metadata": {},
          "execution_count": 27
        }
      ]
    },
    {
      "cell_type": "code",
      "source": [
        "m.best_params_"
      ],
      "metadata": {
        "colab": {
          "base_uri": "https://localhost:8080/"
        },
        "id": "saQxAx-WjB01",
        "outputId": "d820f92a-6d79-4404-9889-3e8fe62d0db1"
      },
      "execution_count": null,
      "outputs": [
        {
          "output_type": "execute_result",
          "data": {
            "text/plain": [
              "{'max_features': 204, 'n_estimators': 250}"
            ]
          },
          "metadata": {},
          "execution_count": 28
        }
      ]
    },
    {
      "cell_type": "code",
      "source": [
        "m.best_score_"
      ],
      "metadata": {
        "colab": {
          "base_uri": "https://localhost:8080/"
        },
        "id": "gGBoMWiFt9O2",
        "outputId": "5ef4e0d5-b5ef-46c6-f9a8-5e894e1873df"
      },
      "execution_count": null,
      "outputs": [
        {
          "output_type": "execute_result",
          "data": {
            "text/plain": [
              "np.float64(0.7699468085106382)"
            ]
          },
          "metadata": {},
          "execution_count": 29
        }
      ]
    },
    {
      "cell_type": "code",
      "source": [
        "m.cv_results_"
      ],
      "metadata": {
        "colab": {
          "base_uri": "https://localhost:8080/"
        },
        "id": "unpVPBnmt_PQ",
        "outputId": "85fe7807-a53d-4e3d-cae6-467a85006432"
      },
      "execution_count": null,
      "outputs": [
        {
          "output_type": "execute_result",
          "data": {
            "text/plain": [
              "{'mean_fit_time': array([0.88215442, 1.29012599, 2.41227927, 0.57401705, 1.83516402,\n",
              "        2.69872942, 0.6790823 , 1.9830976 , 4.87316685, 1.42536502,\n",
              "        4.37366047, 4.75711017]),\n",
              " 'std_fit_time': array([0.13148285, 0.11636599, 0.03484734, 0.03521702, 0.40353149,\n",
              "        0.03958642, 0.12729664, 0.44113687, 1.66752249, 0.22038896,\n",
              "        0.78300161, 0.97080751]),\n",
              " 'mean_score_time': array([0.02347312, 0.03227739, 0.06185021, 0.01687169, 0.0437449 ,\n",
              "        0.06599908, 0.01672363, 0.03573251, 0.11881814, 0.02804747,\n",
              "        0.05481644, 0.05468216]),\n",
              " 'std_score_time': array([0.00860641, 0.000645  , 0.00124869, 0.00401902, 0.01989808,\n",
              "        0.00574004, 0.00515417, 0.00836061, 0.0466418 , 0.00727125,\n",
              "        0.02311372, 0.0113337 ]),\n",
              " 'param_max_features': masked_array(data=[204, 204, 204, 292, 292, 292, 409, 409, 409, 682, 682,\n",
              "                    682],\n",
              "              mask=[False, False, False, False, False, False, False, False,\n",
              "                    False, False, False, False],\n",
              "        fill_value=999999),\n",
              " 'param_n_estimators': masked_array(data=[100, 250, 500, 100, 250, 500, 100, 250, 500, 100, 250,\n",
              "                    500],\n",
              "              mask=[False, False, False, False, False, False, False, False,\n",
              "                    False, False, False, False],\n",
              "        fill_value=999999),\n",
              " 'params': [{'max_features': 204, 'n_estimators': 100},\n",
              "  {'max_features': 204, 'n_estimators': 250},\n",
              "  {'max_features': 204, 'n_estimators': 500},\n",
              "  {'max_features': 292, 'n_estimators': 100},\n",
              "  {'max_features': 292, 'n_estimators': 250},\n",
              "  {'max_features': 292, 'n_estimators': 500},\n",
              "  {'max_features': 409, 'n_estimators': 100},\n",
              "  {'max_features': 409, 'n_estimators': 250},\n",
              "  {'max_features': 409, 'n_estimators': 500},\n",
              "  {'max_features': 682, 'n_estimators': 100},\n",
              "  {'max_features': 682, 'n_estimators': 250},\n",
              "  {'max_features': 682, 'n_estimators': 500}],\n",
              " 'split0_test_score': array([0.75      , 0.79166667, 0.75      , 0.75      , 0.75      ,\n",
              "        0.77083333, 0.79166667, 0.75      , 0.77083333, 0.72916667,\n",
              "        0.77083333, 0.72916667]),\n",
              " 'split1_test_score': array([0.72916667, 0.75      , 0.72916667, 0.75      , 0.75      ,\n",
              "        0.72916667, 0.72916667, 0.75      , 0.77083333, 0.75      ,\n",
              "        0.79166667, 0.8125    ]),\n",
              " 'split2_test_score': array([0.77083333, 0.83333333, 0.83333333, 0.8125    , 0.8125    ,\n",
              "        0.79166667, 0.79166667, 0.79166667, 0.83333333, 0.79166667,\n",
              "        0.75      , 0.79166667]),\n",
              " 'split3_test_score': array([0.72916667, 0.6875    , 0.72916667, 0.72916667, 0.72916667,\n",
              "        0.6875    , 0.72916667, 0.70833333, 0.70833333, 0.6875    ,\n",
              "        0.6875    , 0.70833333]),\n",
              " 'split4_test_score': array([0.76595745, 0.78723404, 0.78723404, 0.76595745, 0.78723404,\n",
              "        0.78723404, 0.76595745, 0.78723404, 0.76595745, 0.76595745,\n",
              "        0.76595745, 0.76595745]),\n",
              " 'mean_test_score': array([0.74902482, 0.76994681, 0.76578014, 0.76152482, 0.76578014,\n",
              "        0.75328014, 0.76152482, 0.75744681, 0.76985816, 0.74485816,\n",
              "        0.75319149, 0.76152482]),\n",
              " 'std_test_score': array([0.01761799, 0.04895672, 0.03988436, 0.02803858, 0.02993856,\n",
              "        0.03960554, 0.02803858, 0.03026986, 0.03957656, 0.03521033,\n",
              "        0.03544038, 0.03847865]),\n",
              " 'rank_test_score': array([11,  1,  3,  5,  3,  9,  5,  8,  2, 12, 10,  5], dtype=int32)}"
            ]
          },
          "metadata": {},
          "execution_count": 30
        }
      ]
    },
    {
      "cell_type": "code",
      "source": [
        "m.cv_results_['mean_test_score']"
      ],
      "metadata": {
        "colab": {
          "base_uri": "https://localhost:8080/"
        },
        "id": "mHbEKKtPuBlD",
        "outputId": "85ef8870-6928-44a3-e3d9-e5b14a320f84"
      },
      "execution_count": null,
      "outputs": [
        {
          "output_type": "execute_result",
          "data": {
            "text/plain": [
              "array([0.74902482, 0.76994681, 0.76578014, 0.76152482, 0.76578014,\n",
              "       0.75328014, 0.76152482, 0.75744681, 0.76985816, 0.74485816,\n",
              "       0.75319149, 0.76152482])"
            ]
          },
          "metadata": {},
          "execution_count": 31
        }
      ]
    },
    {
      "cell_type": "code",
      "source": [
        "m.cv_results_['params']"
      ],
      "metadata": {
        "colab": {
          "base_uri": "https://localhost:8080/"
        },
        "id": "v0PZ9IxouDfd",
        "outputId": "a6929456-5ccb-4fb7-feb6-6113e2d1120d"
      },
      "execution_count": null,
      "outputs": [
        {
          "output_type": "execute_result",
          "data": {
            "text/plain": [
              "[{'max_features': 204, 'n_estimators': 100},\n",
              " {'max_features': 204, 'n_estimators': 250},\n",
              " {'max_features': 204, 'n_estimators': 500},\n",
              " {'max_features': 292, 'n_estimators': 100},\n",
              " {'max_features': 292, 'n_estimators': 250},\n",
              " {'max_features': 292, 'n_estimators': 500},\n",
              " {'max_features': 409, 'n_estimators': 100},\n",
              " {'max_features': 409, 'n_estimators': 250},\n",
              " {'max_features': 409, 'n_estimators': 500},\n",
              " {'max_features': 682, 'n_estimators': 100},\n",
              " {'max_features': 682, 'n_estimators': 250},\n",
              " {'max_features': 682, 'n_estimators': 500}]"
            ]
          },
          "metadata": {},
          "execution_count": 32
        }
      ]
    },
    {
      "cell_type": "markdown",
      "source": [
        "# Save model"
      ],
      "metadata": {
        "id": "VZlMer85zxwC"
      }
    },
    {
      "cell_type": "code",
      "source": [
        "joblib.dump(m, \"logBB_rf_morgan.pkl\", compress=3)\n",
        "# joblib.dump()：Used to save an object (such as a trained model) to a file so that it can be loaded and used later without having to retrain the model\n",
        "# m：The object to be saved is usually a trained machine learning model (e.g., RandomForestRegressor() or GridSearchCV)\n",
        "# \"logBB_rf_morgan.pkl\"：The saved file path, with the file format being .pkl (Pickle format), represents a Python serialized object\n",
        "# compress=3：An optional parameter that represents the compression level"
      ],
      "metadata": {
        "colab": {
          "base_uri": "https://localhost:8080/"
        },
        "id": "kgkd_QI9zyxl",
        "outputId": "2ea5b551-9c3f-4282-cc49-06a07691b48d"
      },
      "execution_count": null,
      "outputs": [
        {
          "output_type": "execute_result",
          "data": {
            "text/plain": [
              "['logBB_rf_morgan.pkl']"
            ]
          },
          "metadata": {},
          "execution_count": 33
        }
      ]
    },
    {
      "cell_type": "markdown",
      "source": [
        "# Predict test set compounds"
      ],
      "metadata": {
        "id": "_jsVh6al4MEW"
      }
    },
    {
      "cell_type": "code",
      "source": [
        "# load scale if necessary # Load the saved model\n",
        "scale = joblib.load(\"logBB_scale.pkl\")"
      ],
      "metadata": {
        "id": "FISqxiwi4NE9"
      },
      "execution_count": null,
      "outputs": []
    },
    {
      "cell_type": "code",
      "source": [
        "# scale descriptors of the test set compounds\n",
        "x_ts = scale.transform(x_ts)"
      ],
      "metadata": {
        "id": "uBDzu4Ep4Wqv"
      },
      "execution_count": null,
      "outputs": []
    },
    {
      "cell_type": "code",
      "source": [
        "# predict logBB class\n",
        "pred_rf = m.predict(x_ts)"
      ],
      "metadata": {
        "id": "ulJkr5Gx4ljt"
      },
      "execution_count": null,
      "outputs": []
    },
    {
      "cell_type": "code",
      "source": [
        "pred_rf"
      ],
      "metadata": {
        "colab": {
          "base_uri": "https://localhost:8080/"
        },
        "id": "nYNR9dkH4oco",
        "outputId": "202ffb26-4c2e-4510-95b8-0cce0b4fa64d"
      },
      "execution_count": null,
      "outputs": [
        {
          "output_type": "execute_result",
          "data": {
            "text/plain": [
              "array([0, 0, 0, 1, 1, 0, 1, 1, 1, 0, 1, 0, 0, 0, 1, 1, 1, 0, 1, 0, 1, 0,\n",
              "       0, 1, 1, 1, 1, 0, 1, 0, 1, 1, 0, 1, 1, 1, 1, 1, 1, 0, 1, 0, 1, 1,\n",
              "       1, 1, 0, 0, 1, 0, 1, 0, 0, 0, 1, 1, 1, 1, 1, 1])"
            ]
          },
          "metadata": {},
          "execution_count": 37
        }
      ]
    },
    {
      "cell_type": "markdown",
      "source": [
        "# calc statistics for test set preditions\n",
        "# 计算不同评估指标"
      ],
      "metadata": {
        "id": "iJm45eCv4rvB"
      }
    },
    {
      "cell_type": "code",
      "source": [
        "accuracy_score(y_ts, pred_rf)\n",
        "# Calculate the classification accuracy"
      ],
      "metadata": {
        "colab": {
          "base_uri": "https://localhost:8080/"
        },
        "id": "rXr2nFrb4vbB",
        "outputId": "e4fc7495-10a3-4d43-a248-05b725b4f61d"
      },
      "execution_count": null,
      "outputs": [
        {
          "output_type": "execute_result",
          "data": {
            "text/plain": [
              "0.75"
            ]
          },
          "metadata": {},
          "execution_count": 38
        }
      ]
    },
    {
      "cell_type": "code",
      "source": [
        "y_ts"
      ],
      "metadata": {
        "colab": {
          "base_uri": "https://localhost:8080/"
        },
        "id": "sqH7esCa1-4k",
        "outputId": "60596c8b-d8aa-4859-bc9a-3870208c7073"
      },
      "execution_count": null,
      "outputs": [
        {
          "output_type": "execute_result",
          "data": {
            "text/plain": [
              "[1,\n",
              " 0,\n",
              " 0,\n",
              " 1,\n",
              " 1,\n",
              " 0,\n",
              " 1,\n",
              " 1,\n",
              " 1,\n",
              " 0,\n",
              " 0,\n",
              " 1,\n",
              " 0,\n",
              " 1,\n",
              " 1,\n",
              " 1,\n",
              " 1,\n",
              " 0,\n",
              " 1,\n",
              " 0,\n",
              " 1,\n",
              " 0,\n",
              " 1,\n",
              " 1,\n",
              " 1,\n",
              " 1,\n",
              " 1,\n",
              " 0,\n",
              " 0,\n",
              " 0,\n",
              " 1,\n",
              " 1,\n",
              " 1,\n",
              " 0,\n",
              " 1,\n",
              " 0,\n",
              " 1,\n",
              " 1,\n",
              " 1,\n",
              " 1,\n",
              " 1,\n",
              " 0,\n",
              " 0,\n",
              " 1,\n",
              " 1,\n",
              " 1,\n",
              " 1,\n",
              " 0,\n",
              " 1,\n",
              " 1,\n",
              " 1,\n",
              " 0,\n",
              " 0,\n",
              " 0,\n",
              " 0,\n",
              " 1,\n",
              " 1,\n",
              " 1,\n",
              " 0,\n",
              " 1]"
            ]
          },
          "metadata": {},
          "execution_count": 39
        }
      ]
    },
    {
      "cell_type": "code",
      "source": [
        "matthews_corrcoef(y_ts, pred_rf)\n",
        "# Calculate the Matthews correlation coefficient (MCC)"
      ],
      "metadata": {
        "colab": {
          "base_uri": "https://localhost:8080/"
        },
        "id": "gktQOSm848Md",
        "outputId": "245c2794-0eba-4b0d-b6d2-cb021e0c4f5d"
      },
      "execution_count": null,
      "outputs": [
        {
          "output_type": "execute_result",
          "data": {
            "text/plain": [
              "np.float64(0.4671198287892241)"
            ]
          },
          "metadata": {},
          "execution_count": 40
        }
      ]
    },
    {
      "cell_type": "code",
      "source": [
        "cohen_kappa_score(y_ts, pred_rf)\n",
        "# Calculate Cohen's Kappa score"
      ],
      "metadata": {
        "colab": {
          "base_uri": "https://localhost:8080/"
        },
        "id": "qPGXedzJ5Btx",
        "outputId": "80e9feb4-7771-49cf-8d46-60b31ff45ed0"
      },
      "execution_count": null,
      "outputs": [
        {
          "output_type": "execute_result",
          "data": {
            "text/plain": [
              "np.float64(0.466824644549763)"
            ]
          },
          "metadata": {},
          "execution_count": 41
        }
      ]
    },
    {
      "cell_type": "markdown",
      "source": [
        "# applicability domain estimates"
      ],
      "metadata": {
        "id": "hUBnCvNF6QIl"
      }
    },
    {
      "cell_type": "code",
      "source": [
        "# if the model includes several ones like RF models or consensus models (or for probabilistic models)\n",
        "# we can calculate consistency of predictions amongs those models and use it for estimation of applicability domain\n",
        "pred_prob = m.predict_proba(x_ts)\n",
        "# predict_proba is a method of scikit-learn classification models that returns the probability of each input sample x_ts belonging to each class.\n",
        "# x_ts is the test data (which can be a NumPy array or a Pandas DataFrame)."
      ],
      "metadata": {
        "id": "jGu0OA8L6RND"
      },
      "execution_count": null,
      "outputs": []
    },
    {
      "cell_type": "code",
      "source": [
        "# probablity\n",
        "pred_prob"
      ],
      "metadata": {
        "colab": {
          "base_uri": "https://localhost:8080/"
        },
        "id": "5Nacz_0jvESq",
        "outputId": "463e3494-e067-493e-b704-737c46de254d"
      },
      "execution_count": null,
      "outputs": [
        {
          "output_type": "execute_result",
          "data": {
            "text/plain": [
              "array([[0.612, 0.388],\n",
              "       [0.668, 0.332],\n",
              "       [0.592, 0.408],\n",
              "       [0.196, 0.804],\n",
              "       [0.04 , 0.96 ],\n",
              "       [0.892, 0.108],\n",
              "       [0.312, 0.688],\n",
              "       [0.464, 0.536],\n",
              "       [0.148, 0.852],\n",
              "       [0.772, 0.228],\n",
              "       [0.496, 0.504],\n",
              "       [0.58 , 0.42 ],\n",
              "       [0.7  , 0.3  ],\n",
              "       [0.516, 0.484],\n",
              "       [0.168, 0.832],\n",
              "       [0.032, 0.968],\n",
              "       [0.08 , 0.92 ],\n",
              "       [0.864, 0.136],\n",
              "       [0.34 , 0.66 ],\n",
              "       [0.556, 0.444],\n",
              "       [0.08 , 0.92 ],\n",
              "       [0.548, 0.452],\n",
              "       [0.784, 0.216],\n",
              "       [0.016, 0.984],\n",
              "       [0.   , 1.   ],\n",
              "       [0.344, 0.656],\n",
              "       [0.44 , 0.56 ],\n",
              "       [0.528, 0.472],\n",
              "       [0.468, 0.532],\n",
              "       [0.692, 0.308],\n",
              "       [0.008, 0.992],\n",
              "       [0.36 , 0.64 ],\n",
              "       [0.784, 0.216],\n",
              "       [0.408, 0.592],\n",
              "       [0.084, 0.916],\n",
              "       [0.244, 0.756],\n",
              "       [0.016, 0.984],\n",
              "       [0.328, 0.672],\n",
              "       [0.012, 0.988],\n",
              "       [0.9  , 0.1  ],\n",
              "       [0.04 , 0.96 ],\n",
              "       [0.952, 0.048],\n",
              "       [0.204, 0.796],\n",
              "       [0.044, 0.956],\n",
              "       [0.08 , 0.92 ],\n",
              "       [0.092, 0.908],\n",
              "       [0.6  , 0.4  ],\n",
              "       [0.648, 0.352],\n",
              "       [0.072, 0.928],\n",
              "       [0.764, 0.236],\n",
              "       [0.   , 1.   ],\n",
              "       [0.852, 0.148],\n",
              "       [0.88 , 0.12 ],\n",
              "       [0.908, 0.092],\n",
              "       [0.48 , 0.52 ],\n",
              "       [0.416, 0.584],\n",
              "       [0.484, 0.516],\n",
              "       [0.024, 0.976],\n",
              "       [0.292, 0.708],\n",
              "       [0.172, 0.828]])"
            ]
          },
          "metadata": {},
          "execution_count": 43
        }
      ]
    },
    {
      "cell_type": "code",
      "source": [
        "# setup threshold\n",
        "threshold = 0.8\n",
        "# In classification problems, setting a threshold is primarily used to determine the decision boundary for the prediction results.\n",
        "# For example, in a binary classification problem, the predict_proba method returns the probability of a certain class, and we can set a threshold to decide the final classification result."
      ],
      "metadata": {
        "id": "TxJ8DTPWwLLm"
      },
      "execution_count": null,
      "outputs": []
    },
    {
      "cell_type": "code",
      "source": [
        "# calc maximum predicted probability for each row (compound) and compare to the threshold\n",
        "da = np.amax(pred_prob, axis=1) > threshold"
      ],
      "metadata": {
        "id": "dr0D8wk9wh__"
      },
      "execution_count": null,
      "outputs": []
    },
    {
      "cell_type": "code",
      "source": [
        "da"
      ],
      "metadata": {
        "colab": {
          "base_uri": "https://localhost:8080/"
        },
        "id": "kbwbPwotwtlD",
        "outputId": "9f16945b-ac3f-4081-d25b-0049ad056b76"
      },
      "execution_count": null,
      "outputs": [
        {
          "output_type": "execute_result",
          "data": {
            "text/plain": [
              "array([False, False, False,  True,  True,  True, False, False,  True,\n",
              "       False, False, False, False, False,  True,  True,  True,  True,\n",
              "       False, False,  True, False, False,  True,  True, False, False,\n",
              "       False, False, False,  True, False, False, False,  True, False,\n",
              "        True, False,  True,  True,  True,  True, False,  True,  True,\n",
              "        True, False, False,  True, False,  True,  True,  True,  True,\n",
              "       False, False, False,  True, False,  True])"
            ]
          },
          "metadata": {},
          "execution_count": 46
        }
      ]
    },
    {
      "cell_type": "code",
      "source": [
        "# calc statistics\n",
        "accuracy_score(np.asarray(y_ts)[da], pred_rf[da])\n",
        "# accuracy_score is a function in the scikit-learn library that calculates the accuracy of a classification task"
      ],
      "metadata": {
        "colab": {
          "base_uri": "https://localhost:8080/"
        },
        "id": "hqcx2I6SwyDy",
        "outputId": "2f4e198d-dff2-4982-c751-775b9357eece"
      },
      "execution_count": null,
      "outputs": [
        {
          "output_type": "execute_result",
          "data": {
            "text/plain": [
              "0.9642857142857143"
            ]
          },
          "metadata": {},
          "execution_count": 47
        }
      ]
    },
    {
      "cell_type": "code",
      "source": [
        "np.asarray(y_ts)[da]"
      ],
      "metadata": {
        "colab": {
          "base_uri": "https://localhost:8080/"
        },
        "id": "om35_2ti4-3D",
        "outputId": "66cec90b-6ed9-415d-c145-bd88c46268f5"
      },
      "execution_count": null,
      "outputs": [
        {
          "output_type": "execute_result",
          "data": {
            "text/plain": [
              "array([1, 1, 0, 1, 1, 1, 1, 0, 1, 1, 1, 1, 1, 1, 1, 1, 1, 0, 1, 1, 1, 1,\n",
              "       1, 0, 0, 0, 1, 1])"
            ]
          },
          "metadata": {},
          "execution_count": 48
        }
      ]
    },
    {
      "cell_type": "code",
      "source": [
        "pred_rf[da]"
      ],
      "metadata": {
        "colab": {
          "base_uri": "https://localhost:8080/"
        },
        "id": "CNOnRHih5Do1",
        "outputId": "74b4d6db-9902-42af-eccf-811993f6f650"
      },
      "execution_count": null,
      "outputs": [
        {
          "output_type": "execute_result",
          "data": {
            "text/plain": [
              "array([1, 1, 0, 1, 1, 1, 1, 0, 1, 1, 1, 1, 1, 1, 1, 0, 1, 0, 1, 1, 1, 1,\n",
              "       1, 0, 0, 0, 1, 1])"
            ]
          },
          "metadata": {},
          "execution_count": 49
        }
      ]
    },
    {
      "cell_type": "code",
      "source": [
        "pred_rf"
      ],
      "metadata": {
        "colab": {
          "base_uri": "https://localhost:8080/"
        },
        "id": "9W8movyn5REK",
        "outputId": "cd782dda-1150-411d-a093-ab988bf0e8e4"
      },
      "execution_count": null,
      "outputs": [
        {
          "output_type": "execute_result",
          "data": {
            "text/plain": [
              "array([0, 0, 0, 1, 1, 0, 1, 1, 1, 0, 1, 0, 0, 0, 1, 1, 1, 0, 1, 0, 1, 0,\n",
              "       0, 1, 1, 1, 1, 0, 1, 0, 1, 1, 0, 1, 1, 1, 1, 1, 1, 0, 1, 0, 1, 1,\n",
              "       1, 1, 0, 0, 1, 0, 1, 0, 0, 0, 1, 1, 1, 1, 1, 1])"
            ]
          },
          "metadata": {},
          "execution_count": 50
        }
      ]
    },
    {
      "cell_type": "code",
      "source": [
        "matthews_corrcoef(np.asarray(y_ts)[da], pred_rf[da])"
      ],
      "metadata": {
        "colab": {
          "base_uri": "https://localhost:8080/"
        },
        "id": "pBlF_GXpw51Z",
        "outputId": "1c2a2e3b-299e-49ed-f35e-f20857d464b7"
      },
      "execution_count": null,
      "outputs": [
        {
          "output_type": "execute_result",
          "data": {
            "text/plain": [
              "np.float64(0.9045340337332909)"
            ]
          },
          "metadata": {},
          "execution_count": 51
        }
      ]
    },
    {
      "cell_type": "code",
      "source": [
        "cohen_kappa_score(np.asarray(y_ts)[da], pred_rf[da])"
      ],
      "metadata": {
        "colab": {
          "base_uri": "https://localhost:8080/"
        },
        "id": "bUu8Nr4_w8A8",
        "outputId": "c94319ca-12f3-4f7a-98ff-03b1c09926f3"
      },
      "execution_count": null,
      "outputs": [
        {
          "output_type": "execute_result",
          "data": {
            "text/plain": [
              "np.float64(0.9)"
            ]
          },
          "metadata": {},
          "execution_count": 52
        }
      ]
    },
    {
      "cell_type": "code",
      "source": [
        "# calc coverage\n",
        "sum(da) / len(da)"
      ],
      "metadata": {
        "colab": {
          "base_uri": "https://localhost:8080/"
        },
        "id": "Jj1oWqwbxAtu",
        "outputId": "54c6d5db-7b51-4ec3-a50c-9724469b7c74"
      },
      "execution_count": null,
      "outputs": [
        {
          "output_type": "execute_result",
          "data": {
            "text/plain": [
              "np.float64(0.4666666666666667)"
            ]
          },
          "metadata": {},
          "execution_count": 53
        }
      ]
    },
    {
      "cell_type": "markdown",
      "source": [
        "# Build SVM model"
      ],
      "metadata": {
        "id": "RZxazkc7xDjj"
      }
    },
    {
      "cell_type": "code",
      "source": [
        "# create grid search dictionary\n",
        "param_grid = {\"C\": [10 ** i for i in range(0, 5)],\n",
        "              \"gamma\": [10 ** i for i in range(-6, 0)]}"
      ],
      "metadata": {
        "id": "I9k-6hPGxEjQ"
      },
      "execution_count": null,
      "outputs": []
    },
    {
      "cell_type": "code",
      "source": [
        "# setup model building\n",
        "svm = GridSearchCV(SVC(kernel='rbf', probability=True), param_grid, n_jobs=2, cv=cv, verbose=1)"
      ],
      "metadata": {
        "id": "TcH9i4glxtMZ"
      },
      "execution_count": null,
      "outputs": []
    },
    {
      "cell_type": "code",
      "source": [
        "# run model building\n",
        "svm.fit(x_tr, y_tr)"
      ],
      "metadata": {
        "colab": {
          "base_uri": "https://localhost:8080/",
          "height": 184
        },
        "id": "QzEWm5cjxzxs",
        "outputId": "63fa62a1-7703-468f-bb90-b485226cb789"
      },
      "execution_count": null,
      "outputs": [
        {
          "output_type": "stream",
          "name": "stdout",
          "text": [
            "Fitting 5 folds for each of 30 candidates, totalling 150 fits\n"
          ]
        },
        {
          "output_type": "execute_result",
          "data": {
            "text/plain": [
              "GridSearchCV(cv=StratifiedKFold(n_splits=5, random_state=42, shuffle=True),\n",
              "             estimator=SVC(probability=True), n_jobs=2,\n",
              "             param_grid={'C': [1, 10, 100, 1000, 10000],\n",
              "                         'gamma': [1e-06, 1e-05, 0.0001, 0.001, 0.01, 0.1]},\n",
              "             verbose=1)"
            ],
            "text/html": [
              "<style>#sk-container-id-2 {\n",
              "  /* Definition of color scheme common for light and dark mode */\n",
              "  --sklearn-color-text: #000;\n",
              "  --sklearn-color-text-muted: #666;\n",
              "  --sklearn-color-line: gray;\n",
              "  /* Definition of color scheme for unfitted estimators */\n",
              "  --sklearn-color-unfitted-level-0: #fff5e6;\n",
              "  --sklearn-color-unfitted-level-1: #f6e4d2;\n",
              "  --sklearn-color-unfitted-level-2: #ffe0b3;\n",
              "  --sklearn-color-unfitted-level-3: chocolate;\n",
              "  /* Definition of color scheme for fitted estimators */\n",
              "  --sklearn-color-fitted-level-0: #f0f8ff;\n",
              "  --sklearn-color-fitted-level-1: #d4ebff;\n",
              "  --sklearn-color-fitted-level-2: #b3dbfd;\n",
              "  --sklearn-color-fitted-level-3: cornflowerblue;\n",
              "\n",
              "  /* Specific color for light theme */\n",
              "  --sklearn-color-text-on-default-background: var(--sg-text-color, var(--theme-code-foreground, var(--jp-content-font-color1, black)));\n",
              "  --sklearn-color-background: var(--sg-background-color, var(--theme-background, var(--jp-layout-color0, white)));\n",
              "  --sklearn-color-border-box: var(--sg-text-color, var(--theme-code-foreground, var(--jp-content-font-color1, black)));\n",
              "  --sklearn-color-icon: #696969;\n",
              "\n",
              "  @media (prefers-color-scheme: dark) {\n",
              "    /* Redefinition of color scheme for dark theme */\n",
              "    --sklearn-color-text-on-default-background: var(--sg-text-color, var(--theme-code-foreground, var(--jp-content-font-color1, white)));\n",
              "    --sklearn-color-background: var(--sg-background-color, var(--theme-background, var(--jp-layout-color0, #111)));\n",
              "    --sklearn-color-border-box: var(--sg-text-color, var(--theme-code-foreground, var(--jp-content-font-color1, white)));\n",
              "    --sklearn-color-icon: #878787;\n",
              "  }\n",
              "}\n",
              "\n",
              "#sk-container-id-2 {\n",
              "  color: var(--sklearn-color-text);\n",
              "}\n",
              "\n",
              "#sk-container-id-2 pre {\n",
              "  padding: 0;\n",
              "}\n",
              "\n",
              "#sk-container-id-2 input.sk-hidden--visually {\n",
              "  border: 0;\n",
              "  clip: rect(1px 1px 1px 1px);\n",
              "  clip: rect(1px, 1px, 1px, 1px);\n",
              "  height: 1px;\n",
              "  margin: -1px;\n",
              "  overflow: hidden;\n",
              "  padding: 0;\n",
              "  position: absolute;\n",
              "  width: 1px;\n",
              "}\n",
              "\n",
              "#sk-container-id-2 div.sk-dashed-wrapped {\n",
              "  border: 1px dashed var(--sklearn-color-line);\n",
              "  margin: 0 0.4em 0.5em 0.4em;\n",
              "  box-sizing: border-box;\n",
              "  padding-bottom: 0.4em;\n",
              "  background-color: var(--sklearn-color-background);\n",
              "}\n",
              "\n",
              "#sk-container-id-2 div.sk-container {\n",
              "  /* jupyter's `normalize.less` sets `[hidden] { display: none; }`\n",
              "     but bootstrap.min.css set `[hidden] { display: none !important; }`\n",
              "     so we also need the `!important` here to be able to override the\n",
              "     default hidden behavior on the sphinx rendered scikit-learn.org.\n",
              "     See: https://github.com/scikit-learn/scikit-learn/issues/21755 */\n",
              "  display: inline-block !important;\n",
              "  position: relative;\n",
              "}\n",
              "\n",
              "#sk-container-id-2 div.sk-text-repr-fallback {\n",
              "  display: none;\n",
              "}\n",
              "\n",
              "div.sk-parallel-item,\n",
              "div.sk-serial,\n",
              "div.sk-item {\n",
              "  /* draw centered vertical line to link estimators */\n",
              "  background-image: linear-gradient(var(--sklearn-color-text-on-default-background), var(--sklearn-color-text-on-default-background));\n",
              "  background-size: 2px 100%;\n",
              "  background-repeat: no-repeat;\n",
              "  background-position: center center;\n",
              "}\n",
              "\n",
              "/* Parallel-specific style estimator block */\n",
              "\n",
              "#sk-container-id-2 div.sk-parallel-item::after {\n",
              "  content: \"\";\n",
              "  width: 100%;\n",
              "  border-bottom: 2px solid var(--sklearn-color-text-on-default-background);\n",
              "  flex-grow: 1;\n",
              "}\n",
              "\n",
              "#sk-container-id-2 div.sk-parallel {\n",
              "  display: flex;\n",
              "  align-items: stretch;\n",
              "  justify-content: center;\n",
              "  background-color: var(--sklearn-color-background);\n",
              "  position: relative;\n",
              "}\n",
              "\n",
              "#sk-container-id-2 div.sk-parallel-item {\n",
              "  display: flex;\n",
              "  flex-direction: column;\n",
              "}\n",
              "\n",
              "#sk-container-id-2 div.sk-parallel-item:first-child::after {\n",
              "  align-self: flex-end;\n",
              "  width: 50%;\n",
              "}\n",
              "\n",
              "#sk-container-id-2 div.sk-parallel-item:last-child::after {\n",
              "  align-self: flex-start;\n",
              "  width: 50%;\n",
              "}\n",
              "\n",
              "#sk-container-id-2 div.sk-parallel-item:only-child::after {\n",
              "  width: 0;\n",
              "}\n",
              "\n",
              "/* Serial-specific style estimator block */\n",
              "\n",
              "#sk-container-id-2 div.sk-serial {\n",
              "  display: flex;\n",
              "  flex-direction: column;\n",
              "  align-items: center;\n",
              "  background-color: var(--sklearn-color-background);\n",
              "  padding-right: 1em;\n",
              "  padding-left: 1em;\n",
              "}\n",
              "\n",
              "\n",
              "/* Toggleable style: style used for estimator/Pipeline/ColumnTransformer box that is\n",
              "clickable and can be expanded/collapsed.\n",
              "- Pipeline and ColumnTransformer use this feature and define the default style\n",
              "- Estimators will overwrite some part of the style using the `sk-estimator` class\n",
              "*/\n",
              "\n",
              "/* Pipeline and ColumnTransformer style (default) */\n",
              "\n",
              "#sk-container-id-2 div.sk-toggleable {\n",
              "  /* Default theme specific background. It is overwritten whether we have a\n",
              "  specific estimator or a Pipeline/ColumnTransformer */\n",
              "  background-color: var(--sklearn-color-background);\n",
              "}\n",
              "\n",
              "/* Toggleable label */\n",
              "#sk-container-id-2 label.sk-toggleable__label {\n",
              "  cursor: pointer;\n",
              "  display: flex;\n",
              "  width: 100%;\n",
              "  margin-bottom: 0;\n",
              "  padding: 0.5em;\n",
              "  box-sizing: border-box;\n",
              "  text-align: center;\n",
              "  align-items: start;\n",
              "  justify-content: space-between;\n",
              "  gap: 0.5em;\n",
              "}\n",
              "\n",
              "#sk-container-id-2 label.sk-toggleable__label .caption {\n",
              "  font-size: 0.6rem;\n",
              "  font-weight: lighter;\n",
              "  color: var(--sklearn-color-text-muted);\n",
              "}\n",
              "\n",
              "#sk-container-id-2 label.sk-toggleable__label-arrow:before {\n",
              "  /* Arrow on the left of the label */\n",
              "  content: \"▸\";\n",
              "  float: left;\n",
              "  margin-right: 0.25em;\n",
              "  color: var(--sklearn-color-icon);\n",
              "}\n",
              "\n",
              "#sk-container-id-2 label.sk-toggleable__label-arrow:hover:before {\n",
              "  color: var(--sklearn-color-text);\n",
              "}\n",
              "\n",
              "/* Toggleable content - dropdown */\n",
              "\n",
              "#sk-container-id-2 div.sk-toggleable__content {\n",
              "  max-height: 0;\n",
              "  max-width: 0;\n",
              "  overflow: hidden;\n",
              "  text-align: left;\n",
              "  /* unfitted */\n",
              "  background-color: var(--sklearn-color-unfitted-level-0);\n",
              "}\n",
              "\n",
              "#sk-container-id-2 div.sk-toggleable__content.fitted {\n",
              "  /* fitted */\n",
              "  background-color: var(--sklearn-color-fitted-level-0);\n",
              "}\n",
              "\n",
              "#sk-container-id-2 div.sk-toggleable__content pre {\n",
              "  margin: 0.2em;\n",
              "  border-radius: 0.25em;\n",
              "  color: var(--sklearn-color-text);\n",
              "  /* unfitted */\n",
              "  background-color: var(--sklearn-color-unfitted-level-0);\n",
              "}\n",
              "\n",
              "#sk-container-id-2 div.sk-toggleable__content.fitted pre {\n",
              "  /* unfitted */\n",
              "  background-color: var(--sklearn-color-fitted-level-0);\n",
              "}\n",
              "\n",
              "#sk-container-id-2 input.sk-toggleable__control:checked~div.sk-toggleable__content {\n",
              "  /* Expand drop-down */\n",
              "  max-height: 200px;\n",
              "  max-width: 100%;\n",
              "  overflow: auto;\n",
              "}\n",
              "\n",
              "#sk-container-id-2 input.sk-toggleable__control:checked~label.sk-toggleable__label-arrow:before {\n",
              "  content: \"▾\";\n",
              "}\n",
              "\n",
              "/* Pipeline/ColumnTransformer-specific style */\n",
              "\n",
              "#sk-container-id-2 div.sk-label input.sk-toggleable__control:checked~label.sk-toggleable__label {\n",
              "  color: var(--sklearn-color-text);\n",
              "  background-color: var(--sklearn-color-unfitted-level-2);\n",
              "}\n",
              "\n",
              "#sk-container-id-2 div.sk-label.fitted input.sk-toggleable__control:checked~label.sk-toggleable__label {\n",
              "  background-color: var(--sklearn-color-fitted-level-2);\n",
              "}\n",
              "\n",
              "/* Estimator-specific style */\n",
              "\n",
              "/* Colorize estimator box */\n",
              "#sk-container-id-2 div.sk-estimator input.sk-toggleable__control:checked~label.sk-toggleable__label {\n",
              "  /* unfitted */\n",
              "  background-color: var(--sklearn-color-unfitted-level-2);\n",
              "}\n",
              "\n",
              "#sk-container-id-2 div.sk-estimator.fitted input.sk-toggleable__control:checked~label.sk-toggleable__label {\n",
              "  /* fitted */\n",
              "  background-color: var(--sklearn-color-fitted-level-2);\n",
              "}\n",
              "\n",
              "#sk-container-id-2 div.sk-label label.sk-toggleable__label,\n",
              "#sk-container-id-2 div.sk-label label {\n",
              "  /* The background is the default theme color */\n",
              "  color: var(--sklearn-color-text-on-default-background);\n",
              "}\n",
              "\n",
              "/* On hover, darken the color of the background */\n",
              "#sk-container-id-2 div.sk-label:hover label.sk-toggleable__label {\n",
              "  color: var(--sklearn-color-text);\n",
              "  background-color: var(--sklearn-color-unfitted-level-2);\n",
              "}\n",
              "\n",
              "/* Label box, darken color on hover, fitted */\n",
              "#sk-container-id-2 div.sk-label.fitted:hover label.sk-toggleable__label.fitted {\n",
              "  color: var(--sklearn-color-text);\n",
              "  background-color: var(--sklearn-color-fitted-level-2);\n",
              "}\n",
              "\n",
              "/* Estimator label */\n",
              "\n",
              "#sk-container-id-2 div.sk-label label {\n",
              "  font-family: monospace;\n",
              "  font-weight: bold;\n",
              "  display: inline-block;\n",
              "  line-height: 1.2em;\n",
              "}\n",
              "\n",
              "#sk-container-id-2 div.sk-label-container {\n",
              "  text-align: center;\n",
              "}\n",
              "\n",
              "/* Estimator-specific */\n",
              "#sk-container-id-2 div.sk-estimator {\n",
              "  font-family: monospace;\n",
              "  border: 1px dotted var(--sklearn-color-border-box);\n",
              "  border-radius: 0.25em;\n",
              "  box-sizing: border-box;\n",
              "  margin-bottom: 0.5em;\n",
              "  /* unfitted */\n",
              "  background-color: var(--sklearn-color-unfitted-level-0);\n",
              "}\n",
              "\n",
              "#sk-container-id-2 div.sk-estimator.fitted {\n",
              "  /* fitted */\n",
              "  background-color: var(--sklearn-color-fitted-level-0);\n",
              "}\n",
              "\n",
              "/* on hover */\n",
              "#sk-container-id-2 div.sk-estimator:hover {\n",
              "  /* unfitted */\n",
              "  background-color: var(--sklearn-color-unfitted-level-2);\n",
              "}\n",
              "\n",
              "#sk-container-id-2 div.sk-estimator.fitted:hover {\n",
              "  /* fitted */\n",
              "  background-color: var(--sklearn-color-fitted-level-2);\n",
              "}\n",
              "\n",
              "/* Specification for estimator info (e.g. \"i\" and \"?\") */\n",
              "\n",
              "/* Common style for \"i\" and \"?\" */\n",
              "\n",
              ".sk-estimator-doc-link,\n",
              "a:link.sk-estimator-doc-link,\n",
              "a:visited.sk-estimator-doc-link {\n",
              "  float: right;\n",
              "  font-size: smaller;\n",
              "  line-height: 1em;\n",
              "  font-family: monospace;\n",
              "  background-color: var(--sklearn-color-background);\n",
              "  border-radius: 1em;\n",
              "  height: 1em;\n",
              "  width: 1em;\n",
              "  text-decoration: none !important;\n",
              "  margin-left: 0.5em;\n",
              "  text-align: center;\n",
              "  /* unfitted */\n",
              "  border: var(--sklearn-color-unfitted-level-1) 1pt solid;\n",
              "  color: var(--sklearn-color-unfitted-level-1);\n",
              "}\n",
              "\n",
              ".sk-estimator-doc-link.fitted,\n",
              "a:link.sk-estimator-doc-link.fitted,\n",
              "a:visited.sk-estimator-doc-link.fitted {\n",
              "  /* fitted */\n",
              "  border: var(--sklearn-color-fitted-level-1) 1pt solid;\n",
              "  color: var(--sklearn-color-fitted-level-1);\n",
              "}\n",
              "\n",
              "/* On hover */\n",
              "div.sk-estimator:hover .sk-estimator-doc-link:hover,\n",
              ".sk-estimator-doc-link:hover,\n",
              "div.sk-label-container:hover .sk-estimator-doc-link:hover,\n",
              ".sk-estimator-doc-link:hover {\n",
              "  /* unfitted */\n",
              "  background-color: var(--sklearn-color-unfitted-level-3);\n",
              "  color: var(--sklearn-color-background);\n",
              "  text-decoration: none;\n",
              "}\n",
              "\n",
              "div.sk-estimator.fitted:hover .sk-estimator-doc-link.fitted:hover,\n",
              ".sk-estimator-doc-link.fitted:hover,\n",
              "div.sk-label-container:hover .sk-estimator-doc-link.fitted:hover,\n",
              ".sk-estimator-doc-link.fitted:hover {\n",
              "  /* fitted */\n",
              "  background-color: var(--sklearn-color-fitted-level-3);\n",
              "  color: var(--sklearn-color-background);\n",
              "  text-decoration: none;\n",
              "}\n",
              "\n",
              "/* Span, style for the box shown on hovering the info icon */\n",
              ".sk-estimator-doc-link span {\n",
              "  display: none;\n",
              "  z-index: 9999;\n",
              "  position: relative;\n",
              "  font-weight: normal;\n",
              "  right: .2ex;\n",
              "  padding: .5ex;\n",
              "  margin: .5ex;\n",
              "  width: min-content;\n",
              "  min-width: 20ex;\n",
              "  max-width: 50ex;\n",
              "  color: var(--sklearn-color-text);\n",
              "  box-shadow: 2pt 2pt 4pt #999;\n",
              "  /* unfitted */\n",
              "  background: var(--sklearn-color-unfitted-level-0);\n",
              "  border: .5pt solid var(--sklearn-color-unfitted-level-3);\n",
              "}\n",
              "\n",
              ".sk-estimator-doc-link.fitted span {\n",
              "  /* fitted */\n",
              "  background: var(--sklearn-color-fitted-level-0);\n",
              "  border: var(--sklearn-color-fitted-level-3);\n",
              "}\n",
              "\n",
              ".sk-estimator-doc-link:hover span {\n",
              "  display: block;\n",
              "}\n",
              "\n",
              "/* \"?\"-specific style due to the `<a>` HTML tag */\n",
              "\n",
              "#sk-container-id-2 a.estimator_doc_link {\n",
              "  float: right;\n",
              "  font-size: 1rem;\n",
              "  line-height: 1em;\n",
              "  font-family: monospace;\n",
              "  background-color: var(--sklearn-color-background);\n",
              "  border-radius: 1rem;\n",
              "  height: 1rem;\n",
              "  width: 1rem;\n",
              "  text-decoration: none;\n",
              "  /* unfitted */\n",
              "  color: var(--sklearn-color-unfitted-level-1);\n",
              "  border: var(--sklearn-color-unfitted-level-1) 1pt solid;\n",
              "}\n",
              "\n",
              "#sk-container-id-2 a.estimator_doc_link.fitted {\n",
              "  /* fitted */\n",
              "  border: var(--sklearn-color-fitted-level-1) 1pt solid;\n",
              "  color: var(--sklearn-color-fitted-level-1);\n",
              "}\n",
              "\n",
              "/* On hover */\n",
              "#sk-container-id-2 a.estimator_doc_link:hover {\n",
              "  /* unfitted */\n",
              "  background-color: var(--sklearn-color-unfitted-level-3);\n",
              "  color: var(--sklearn-color-background);\n",
              "  text-decoration: none;\n",
              "}\n",
              "\n",
              "#sk-container-id-2 a.estimator_doc_link.fitted:hover {\n",
              "  /* fitted */\n",
              "  background-color: var(--sklearn-color-fitted-level-3);\n",
              "}\n",
              "</style><div id=\"sk-container-id-2\" class=\"sk-top-container\"><div class=\"sk-text-repr-fallback\"><pre>GridSearchCV(cv=StratifiedKFold(n_splits=5, random_state=42, shuffle=True),\n",
              "             estimator=SVC(probability=True), n_jobs=2,\n",
              "             param_grid={&#x27;C&#x27;: [1, 10, 100, 1000, 10000],\n",
              "                         &#x27;gamma&#x27;: [1e-06, 1e-05, 0.0001, 0.001, 0.01, 0.1]},\n",
              "             verbose=1)</pre><b>In a Jupyter environment, please rerun this cell to show the HTML representation or trust the notebook. <br />On GitHub, the HTML representation is unable to render, please try loading this page with nbviewer.org.</b></div><div class=\"sk-container\" hidden><div class=\"sk-item sk-dashed-wrapped\"><div class=\"sk-label-container\"><div class=\"sk-label fitted sk-toggleable\"><input class=\"sk-toggleable__control sk-hidden--visually\" id=\"sk-estimator-id-4\" type=\"checkbox\" ><label for=\"sk-estimator-id-4\" class=\"sk-toggleable__label fitted sk-toggleable__label-arrow\"><div><div>GridSearchCV</div></div><div><a class=\"sk-estimator-doc-link fitted\" rel=\"noreferrer\" target=\"_blank\" href=\"https://scikit-learn.org/1.6/modules/generated/sklearn.model_selection.GridSearchCV.html\">?<span>Documentation for GridSearchCV</span></a><span class=\"sk-estimator-doc-link fitted\">i<span>Fitted</span></span></div></label><div class=\"sk-toggleable__content fitted\"><pre>GridSearchCV(cv=StratifiedKFold(n_splits=5, random_state=42, shuffle=True),\n",
              "             estimator=SVC(probability=True), n_jobs=2,\n",
              "             param_grid={&#x27;C&#x27;: [1, 10, 100, 1000, 10000],\n",
              "                         &#x27;gamma&#x27;: [1e-06, 1e-05, 0.0001, 0.001, 0.01, 0.1]},\n",
              "             verbose=1)</pre></div> </div></div><div class=\"sk-parallel\"><div class=\"sk-parallel-item\"><div class=\"sk-item\"><div class=\"sk-label-container\"><div class=\"sk-label fitted sk-toggleable\"><input class=\"sk-toggleable__control sk-hidden--visually\" id=\"sk-estimator-id-5\" type=\"checkbox\" ><label for=\"sk-estimator-id-5\" class=\"sk-toggleable__label fitted sk-toggleable__label-arrow\"><div><div>best_estimator_: SVC</div></div></label><div class=\"sk-toggleable__content fitted\"><pre>SVC(C=1000, gamma=1e-06, probability=True)</pre></div> </div></div><div class=\"sk-serial\"><div class=\"sk-item\"><div class=\"sk-estimator fitted sk-toggleable\"><input class=\"sk-toggleable__control sk-hidden--visually\" id=\"sk-estimator-id-6\" type=\"checkbox\" ><label for=\"sk-estimator-id-6\" class=\"sk-toggleable__label fitted sk-toggleable__label-arrow\"><div><div>SVC</div></div><div><a class=\"sk-estimator-doc-link fitted\" rel=\"noreferrer\" target=\"_blank\" href=\"https://scikit-learn.org/1.6/modules/generated/sklearn.svm.SVC.html\">?<span>Documentation for SVC</span></a></div></label><div class=\"sk-toggleable__content fitted\"><pre>SVC(C=1000, gamma=1e-06, probability=True)</pre></div> </div></div></div></div></div></div></div></div></div>"
            ]
          },
          "metadata": {},
          "execution_count": 56
        }
      ]
    },
    {
      "cell_type": "code",
      "source": [
        "svm.best_score_"
      ],
      "metadata": {
        "colab": {
          "base_uri": "https://localhost:8080/"
        },
        "id": "V2xO8kwWx5Qg",
        "outputId": "f760388e-404b-40cc-f691-1dfc9def88f7"
      },
      "execution_count": null,
      "outputs": [
        {
          "output_type": "execute_result",
          "data": {
            "text/plain": [
              "np.float64(0.7571808510638297)"
            ]
          },
          "metadata": {},
          "execution_count": 57
        }
      ]
    },
    {
      "cell_type": "code",
      "source": [
        "svm.best_params_"
      ],
      "metadata": {
        "colab": {
          "base_uri": "https://localhost:8080/"
        },
        "id": "N5Y4FZZfx7Ik",
        "outputId": "d1bb17b2-93ad-47cd-a895-e1e86fcdbc23"
      },
      "execution_count": null,
      "outputs": [
        {
          "output_type": "execute_result",
          "data": {
            "text/plain": [
              "{'C': 1000, 'gamma': 1e-06}"
            ]
          },
          "metadata": {},
          "execution_count": 58
        }
      ]
    },
    {
      "cell_type": "code",
      "source": [
        "# save model\n",
        "joblib.dump(svm, \"logBB_svm_morgan.pkl\", compress=3)"
      ],
      "metadata": {
        "colab": {
          "base_uri": "https://localhost:8080/"
        },
        "id": "34V8WYGwx9lF",
        "outputId": "4b6cf605-cbd1-4513-9392-66f1787dda6e"
      },
      "execution_count": null,
      "outputs": [
        {
          "output_type": "execute_result",
          "data": {
            "text/plain": [
              "['logBB_svm_morgan.pkl']"
            ]
          },
          "metadata": {},
          "execution_count": 59
        }
      ]
    },
    {
      "cell_type": "code",
      "source": [
        "# predict logBB for the test set compounds\n",
        "pred_svm = svm.predict(x_ts)"
      ],
      "metadata": {
        "id": "1kwumEPOx_ik"
      },
      "execution_count": null,
      "outputs": []
    },
    {
      "cell_type": "code",
      "source": [
        "pred_svm"
      ],
      "metadata": {
        "colab": {
          "base_uri": "https://localhost:8080/"
        },
        "id": "2fpDXqToyG-3",
        "outputId": "cfef3cee-ad0e-45f0-c7a8-7303828c8523"
      },
      "execution_count": null,
      "outputs": [
        {
          "output_type": "execute_result",
          "data": {
            "text/plain": [
              "array([1, 0, 0, 1, 1, 0, 1, 0, 1, 0, 1, 1, 0, 1, 1, 1, 1, 0, 1, 0, 1, 1,\n",
              "       0, 1, 1, 1, 1, 1, 0, 0, 1, 1, 0, 0, 1, 1, 1, 1, 1, 0, 1, 0, 1, 1,\n",
              "       1, 1, 0, 0, 1, 1, 1, 0, 0, 0, 1, 0, 0, 1, 1, 1])"
            ]
          },
          "metadata": {},
          "execution_count": 61
        }
      ]
    },
    {
      "cell_type": "code",
      "source": [
        "# calc statistics\n",
        "print(\"Accuracy = \", accuracy_score(y_ts, pred_svm))\n",
        "print(\"MCC = \", matthews_corrcoef(y_ts, pred_svm))\n",
        "print(\"Kappa = \", cohen_kappa_score(y_ts, pred_svm))"
      ],
      "metadata": {
        "colab": {
          "base_uri": "https://localhost:8080/"
        },
        "id": "rifbK2x_yJU5",
        "outputId": "987ed08b-6a3c-4d51-e473-7b99cb9009f9"
      },
      "execution_count": null,
      "outputs": [
        {
          "output_type": "stream",
          "name": "stdout",
          "text": [
            "Accuracy =  0.7666666666666667\n",
            "MCC =  0.49760765550239233\n",
            "Kappa =  0.4976076555023924\n"
          ]
        }
      ]
    },
    {
      "cell_type": "code",
      "source": [
        "# estimate applicability domain and calc stat\n",
        "pred_prob = svm.predict_proba(x_ts)"
      ],
      "metadata": {
        "id": "x2y_-S1tyUaS"
      },
      "execution_count": null,
      "outputs": []
    },
    {
      "cell_type": "code",
      "source": [
        "da = np.amax(pred_prob, axis=1) > threshold"
      ],
      "metadata": {
        "id": "65sEXiBvycn0"
      },
      "execution_count": null,
      "outputs": []
    },
    {
      "cell_type": "code",
      "source": [
        "print(\"Accuracy = \", accuracy_score(np.asarray(y_ts)[da], pred_svm[da]))\n",
        "print(\"MCC = \", matthews_corrcoef(np.asarray(y_ts)[da], pred_svm[da]))\n",
        "print(\"Kappa = \", cohen_kappa_score(np.asarray(y_ts)[da], pred_svm[da]))\n",
        "print(\"Coverage = \", sum(da) / len(da))"
      ],
      "metadata": {
        "colab": {
          "base_uri": "https://localhost:8080/"
        },
        "id": "JnHFR1FAyfC-",
        "outputId": "89b96e87-8901-41bd-f6e6-4d7cd090a13a"
      },
      "execution_count": null,
      "outputs": [
        {
          "output_type": "stream",
          "name": "stdout",
          "text": [
            "Accuracy =  0.8285714285714286\n",
            "MCC =  0.648649304898973\n",
            "Kappa =  0.6440677966101696\n",
            "Coverage =  0.5833333333333334\n"
          ]
        }
      ]
    },
    {
      "cell_type": "markdown",
      "source": [
        "# build the third model (GBM) compute consensus predictions from RF, and SVM models"
      ],
      "metadata": {
        "id": "luxFHoB6yxkd"
      }
    },
    {
      "cell_type": "code",
      "source": [
        "# setup model building\n",
        "param_grid = {\"n_estimators\": [100, 200, 300, 400, 500]}\n",
        "gbm = GridSearchCV(GradientBoostingClassifier(subsample=0.5, max_features=0.5),\n",
        "                   param_grid, n_jobs=2, cv=cv, verbose=1)"
      ],
      "metadata": {
        "id": "Xhu0wmm7y1pm"
      },
      "execution_count": null,
      "outputs": []
    },
    {
      "cell_type": "code",
      "source": [
        "# run model building\n",
        "gbm.fit(x_tr, y_tr)"
      ],
      "metadata": {
        "colab": {
          "base_uri": "https://localhost:8080/",
          "height": 184
        },
        "id": "Un3GCCMly5HQ",
        "outputId": "0c253698-9ba9-44cc-9eac-862b434c9514"
      },
      "execution_count": null,
      "outputs": [
        {
          "output_type": "stream",
          "name": "stdout",
          "text": [
            "Fitting 5 folds for each of 5 candidates, totalling 25 fits\n"
          ]
        },
        {
          "output_type": "execute_result",
          "data": {
            "text/plain": [
              "GridSearchCV(cv=StratifiedKFold(n_splits=5, random_state=42, shuffle=True),\n",
              "             estimator=GradientBoostingClassifier(max_features=0.5,\n",
              "                                                  subsample=0.5),\n",
              "             n_jobs=2, param_grid={'n_estimators': [100, 200, 300, 400, 500]},\n",
              "             verbose=1)"
            ],
            "text/html": [
              "<style>#sk-container-id-3 {\n",
              "  /* Definition of color scheme common for light and dark mode */\n",
              "  --sklearn-color-text: #000;\n",
              "  --sklearn-color-text-muted: #666;\n",
              "  --sklearn-color-line: gray;\n",
              "  /* Definition of color scheme for unfitted estimators */\n",
              "  --sklearn-color-unfitted-level-0: #fff5e6;\n",
              "  --sklearn-color-unfitted-level-1: #f6e4d2;\n",
              "  --sklearn-color-unfitted-level-2: #ffe0b3;\n",
              "  --sklearn-color-unfitted-level-3: chocolate;\n",
              "  /* Definition of color scheme for fitted estimators */\n",
              "  --sklearn-color-fitted-level-0: #f0f8ff;\n",
              "  --sklearn-color-fitted-level-1: #d4ebff;\n",
              "  --sklearn-color-fitted-level-2: #b3dbfd;\n",
              "  --sklearn-color-fitted-level-3: cornflowerblue;\n",
              "\n",
              "  /* Specific color for light theme */\n",
              "  --sklearn-color-text-on-default-background: var(--sg-text-color, var(--theme-code-foreground, var(--jp-content-font-color1, black)));\n",
              "  --sklearn-color-background: var(--sg-background-color, var(--theme-background, var(--jp-layout-color0, white)));\n",
              "  --sklearn-color-border-box: var(--sg-text-color, var(--theme-code-foreground, var(--jp-content-font-color1, black)));\n",
              "  --sklearn-color-icon: #696969;\n",
              "\n",
              "  @media (prefers-color-scheme: dark) {\n",
              "    /* Redefinition of color scheme for dark theme */\n",
              "    --sklearn-color-text-on-default-background: var(--sg-text-color, var(--theme-code-foreground, var(--jp-content-font-color1, white)));\n",
              "    --sklearn-color-background: var(--sg-background-color, var(--theme-background, var(--jp-layout-color0, #111)));\n",
              "    --sklearn-color-border-box: var(--sg-text-color, var(--theme-code-foreground, var(--jp-content-font-color1, white)));\n",
              "    --sklearn-color-icon: #878787;\n",
              "  }\n",
              "}\n",
              "\n",
              "#sk-container-id-3 {\n",
              "  color: var(--sklearn-color-text);\n",
              "}\n",
              "\n",
              "#sk-container-id-3 pre {\n",
              "  padding: 0;\n",
              "}\n",
              "\n",
              "#sk-container-id-3 input.sk-hidden--visually {\n",
              "  border: 0;\n",
              "  clip: rect(1px 1px 1px 1px);\n",
              "  clip: rect(1px, 1px, 1px, 1px);\n",
              "  height: 1px;\n",
              "  margin: -1px;\n",
              "  overflow: hidden;\n",
              "  padding: 0;\n",
              "  position: absolute;\n",
              "  width: 1px;\n",
              "}\n",
              "\n",
              "#sk-container-id-3 div.sk-dashed-wrapped {\n",
              "  border: 1px dashed var(--sklearn-color-line);\n",
              "  margin: 0 0.4em 0.5em 0.4em;\n",
              "  box-sizing: border-box;\n",
              "  padding-bottom: 0.4em;\n",
              "  background-color: var(--sklearn-color-background);\n",
              "}\n",
              "\n",
              "#sk-container-id-3 div.sk-container {\n",
              "  /* jupyter's `normalize.less` sets `[hidden] { display: none; }`\n",
              "     but bootstrap.min.css set `[hidden] { display: none !important; }`\n",
              "     so we also need the `!important` here to be able to override the\n",
              "     default hidden behavior on the sphinx rendered scikit-learn.org.\n",
              "     See: https://github.com/scikit-learn/scikit-learn/issues/21755 */\n",
              "  display: inline-block !important;\n",
              "  position: relative;\n",
              "}\n",
              "\n",
              "#sk-container-id-3 div.sk-text-repr-fallback {\n",
              "  display: none;\n",
              "}\n",
              "\n",
              "div.sk-parallel-item,\n",
              "div.sk-serial,\n",
              "div.sk-item {\n",
              "  /* draw centered vertical line to link estimators */\n",
              "  background-image: linear-gradient(var(--sklearn-color-text-on-default-background), var(--sklearn-color-text-on-default-background));\n",
              "  background-size: 2px 100%;\n",
              "  background-repeat: no-repeat;\n",
              "  background-position: center center;\n",
              "}\n",
              "\n",
              "/* Parallel-specific style estimator block */\n",
              "\n",
              "#sk-container-id-3 div.sk-parallel-item::after {\n",
              "  content: \"\";\n",
              "  width: 100%;\n",
              "  border-bottom: 2px solid var(--sklearn-color-text-on-default-background);\n",
              "  flex-grow: 1;\n",
              "}\n",
              "\n",
              "#sk-container-id-3 div.sk-parallel {\n",
              "  display: flex;\n",
              "  align-items: stretch;\n",
              "  justify-content: center;\n",
              "  background-color: var(--sklearn-color-background);\n",
              "  position: relative;\n",
              "}\n",
              "\n",
              "#sk-container-id-3 div.sk-parallel-item {\n",
              "  display: flex;\n",
              "  flex-direction: column;\n",
              "}\n",
              "\n",
              "#sk-container-id-3 div.sk-parallel-item:first-child::after {\n",
              "  align-self: flex-end;\n",
              "  width: 50%;\n",
              "}\n",
              "\n",
              "#sk-container-id-3 div.sk-parallel-item:last-child::after {\n",
              "  align-self: flex-start;\n",
              "  width: 50%;\n",
              "}\n",
              "\n",
              "#sk-container-id-3 div.sk-parallel-item:only-child::after {\n",
              "  width: 0;\n",
              "}\n",
              "\n",
              "/* Serial-specific style estimator block */\n",
              "\n",
              "#sk-container-id-3 div.sk-serial {\n",
              "  display: flex;\n",
              "  flex-direction: column;\n",
              "  align-items: center;\n",
              "  background-color: var(--sklearn-color-background);\n",
              "  padding-right: 1em;\n",
              "  padding-left: 1em;\n",
              "}\n",
              "\n",
              "\n",
              "/* Toggleable style: style used for estimator/Pipeline/ColumnTransformer box that is\n",
              "clickable and can be expanded/collapsed.\n",
              "- Pipeline and ColumnTransformer use this feature and define the default style\n",
              "- Estimators will overwrite some part of the style using the `sk-estimator` class\n",
              "*/\n",
              "\n",
              "/* Pipeline and ColumnTransformer style (default) */\n",
              "\n",
              "#sk-container-id-3 div.sk-toggleable {\n",
              "  /* Default theme specific background. It is overwritten whether we have a\n",
              "  specific estimator or a Pipeline/ColumnTransformer */\n",
              "  background-color: var(--sklearn-color-background);\n",
              "}\n",
              "\n",
              "/* Toggleable label */\n",
              "#sk-container-id-3 label.sk-toggleable__label {\n",
              "  cursor: pointer;\n",
              "  display: flex;\n",
              "  width: 100%;\n",
              "  margin-bottom: 0;\n",
              "  padding: 0.5em;\n",
              "  box-sizing: border-box;\n",
              "  text-align: center;\n",
              "  align-items: start;\n",
              "  justify-content: space-between;\n",
              "  gap: 0.5em;\n",
              "}\n",
              "\n",
              "#sk-container-id-3 label.sk-toggleable__label .caption {\n",
              "  font-size: 0.6rem;\n",
              "  font-weight: lighter;\n",
              "  color: var(--sklearn-color-text-muted);\n",
              "}\n",
              "\n",
              "#sk-container-id-3 label.sk-toggleable__label-arrow:before {\n",
              "  /* Arrow on the left of the label */\n",
              "  content: \"▸\";\n",
              "  float: left;\n",
              "  margin-right: 0.25em;\n",
              "  color: var(--sklearn-color-icon);\n",
              "}\n",
              "\n",
              "#sk-container-id-3 label.sk-toggleable__label-arrow:hover:before {\n",
              "  color: var(--sklearn-color-text);\n",
              "}\n",
              "\n",
              "/* Toggleable content - dropdown */\n",
              "\n",
              "#sk-container-id-3 div.sk-toggleable__content {\n",
              "  max-height: 0;\n",
              "  max-width: 0;\n",
              "  overflow: hidden;\n",
              "  text-align: left;\n",
              "  /* unfitted */\n",
              "  background-color: var(--sklearn-color-unfitted-level-0);\n",
              "}\n",
              "\n",
              "#sk-container-id-3 div.sk-toggleable__content.fitted {\n",
              "  /* fitted */\n",
              "  background-color: var(--sklearn-color-fitted-level-0);\n",
              "}\n",
              "\n",
              "#sk-container-id-3 div.sk-toggleable__content pre {\n",
              "  margin: 0.2em;\n",
              "  border-radius: 0.25em;\n",
              "  color: var(--sklearn-color-text);\n",
              "  /* unfitted */\n",
              "  background-color: var(--sklearn-color-unfitted-level-0);\n",
              "}\n",
              "\n",
              "#sk-container-id-3 div.sk-toggleable__content.fitted pre {\n",
              "  /* unfitted */\n",
              "  background-color: var(--sklearn-color-fitted-level-0);\n",
              "}\n",
              "\n",
              "#sk-container-id-3 input.sk-toggleable__control:checked~div.sk-toggleable__content {\n",
              "  /* Expand drop-down */\n",
              "  max-height: 200px;\n",
              "  max-width: 100%;\n",
              "  overflow: auto;\n",
              "}\n",
              "\n",
              "#sk-container-id-3 input.sk-toggleable__control:checked~label.sk-toggleable__label-arrow:before {\n",
              "  content: \"▾\";\n",
              "}\n",
              "\n",
              "/* Pipeline/ColumnTransformer-specific style */\n",
              "\n",
              "#sk-container-id-3 div.sk-label input.sk-toggleable__control:checked~label.sk-toggleable__label {\n",
              "  color: var(--sklearn-color-text);\n",
              "  background-color: var(--sklearn-color-unfitted-level-2);\n",
              "}\n",
              "\n",
              "#sk-container-id-3 div.sk-label.fitted input.sk-toggleable__control:checked~label.sk-toggleable__label {\n",
              "  background-color: var(--sklearn-color-fitted-level-2);\n",
              "}\n",
              "\n",
              "/* Estimator-specific style */\n",
              "\n",
              "/* Colorize estimator box */\n",
              "#sk-container-id-3 div.sk-estimator input.sk-toggleable__control:checked~label.sk-toggleable__label {\n",
              "  /* unfitted */\n",
              "  background-color: var(--sklearn-color-unfitted-level-2);\n",
              "}\n",
              "\n",
              "#sk-container-id-3 div.sk-estimator.fitted input.sk-toggleable__control:checked~label.sk-toggleable__label {\n",
              "  /* fitted */\n",
              "  background-color: var(--sklearn-color-fitted-level-2);\n",
              "}\n",
              "\n",
              "#sk-container-id-3 div.sk-label label.sk-toggleable__label,\n",
              "#sk-container-id-3 div.sk-label label {\n",
              "  /* The background is the default theme color */\n",
              "  color: var(--sklearn-color-text-on-default-background);\n",
              "}\n",
              "\n",
              "/* On hover, darken the color of the background */\n",
              "#sk-container-id-3 div.sk-label:hover label.sk-toggleable__label {\n",
              "  color: var(--sklearn-color-text);\n",
              "  background-color: var(--sklearn-color-unfitted-level-2);\n",
              "}\n",
              "\n",
              "/* Label box, darken color on hover, fitted */\n",
              "#sk-container-id-3 div.sk-label.fitted:hover label.sk-toggleable__label.fitted {\n",
              "  color: var(--sklearn-color-text);\n",
              "  background-color: var(--sklearn-color-fitted-level-2);\n",
              "}\n",
              "\n",
              "/* Estimator label */\n",
              "\n",
              "#sk-container-id-3 div.sk-label label {\n",
              "  font-family: monospace;\n",
              "  font-weight: bold;\n",
              "  display: inline-block;\n",
              "  line-height: 1.2em;\n",
              "}\n",
              "\n",
              "#sk-container-id-3 div.sk-label-container {\n",
              "  text-align: center;\n",
              "}\n",
              "\n",
              "/* Estimator-specific */\n",
              "#sk-container-id-3 div.sk-estimator {\n",
              "  font-family: monospace;\n",
              "  border: 1px dotted var(--sklearn-color-border-box);\n",
              "  border-radius: 0.25em;\n",
              "  box-sizing: border-box;\n",
              "  margin-bottom: 0.5em;\n",
              "  /* unfitted */\n",
              "  background-color: var(--sklearn-color-unfitted-level-0);\n",
              "}\n",
              "\n",
              "#sk-container-id-3 div.sk-estimator.fitted {\n",
              "  /* fitted */\n",
              "  background-color: var(--sklearn-color-fitted-level-0);\n",
              "}\n",
              "\n",
              "/* on hover */\n",
              "#sk-container-id-3 div.sk-estimator:hover {\n",
              "  /* unfitted */\n",
              "  background-color: var(--sklearn-color-unfitted-level-2);\n",
              "}\n",
              "\n",
              "#sk-container-id-3 div.sk-estimator.fitted:hover {\n",
              "  /* fitted */\n",
              "  background-color: var(--sklearn-color-fitted-level-2);\n",
              "}\n",
              "\n",
              "/* Specification for estimator info (e.g. \"i\" and \"?\") */\n",
              "\n",
              "/* Common style for \"i\" and \"?\" */\n",
              "\n",
              ".sk-estimator-doc-link,\n",
              "a:link.sk-estimator-doc-link,\n",
              "a:visited.sk-estimator-doc-link {\n",
              "  float: right;\n",
              "  font-size: smaller;\n",
              "  line-height: 1em;\n",
              "  font-family: monospace;\n",
              "  background-color: var(--sklearn-color-background);\n",
              "  border-radius: 1em;\n",
              "  height: 1em;\n",
              "  width: 1em;\n",
              "  text-decoration: none !important;\n",
              "  margin-left: 0.5em;\n",
              "  text-align: center;\n",
              "  /* unfitted */\n",
              "  border: var(--sklearn-color-unfitted-level-1) 1pt solid;\n",
              "  color: var(--sklearn-color-unfitted-level-1);\n",
              "}\n",
              "\n",
              ".sk-estimator-doc-link.fitted,\n",
              "a:link.sk-estimator-doc-link.fitted,\n",
              "a:visited.sk-estimator-doc-link.fitted {\n",
              "  /* fitted */\n",
              "  border: var(--sklearn-color-fitted-level-1) 1pt solid;\n",
              "  color: var(--sklearn-color-fitted-level-1);\n",
              "}\n",
              "\n",
              "/* On hover */\n",
              "div.sk-estimator:hover .sk-estimator-doc-link:hover,\n",
              ".sk-estimator-doc-link:hover,\n",
              "div.sk-label-container:hover .sk-estimator-doc-link:hover,\n",
              ".sk-estimator-doc-link:hover {\n",
              "  /* unfitted */\n",
              "  background-color: var(--sklearn-color-unfitted-level-3);\n",
              "  color: var(--sklearn-color-background);\n",
              "  text-decoration: none;\n",
              "}\n",
              "\n",
              "div.sk-estimator.fitted:hover .sk-estimator-doc-link.fitted:hover,\n",
              ".sk-estimator-doc-link.fitted:hover,\n",
              "div.sk-label-container:hover .sk-estimator-doc-link.fitted:hover,\n",
              ".sk-estimator-doc-link.fitted:hover {\n",
              "  /* fitted */\n",
              "  background-color: var(--sklearn-color-fitted-level-3);\n",
              "  color: var(--sklearn-color-background);\n",
              "  text-decoration: none;\n",
              "}\n",
              "\n",
              "/* Span, style for the box shown on hovering the info icon */\n",
              ".sk-estimator-doc-link span {\n",
              "  display: none;\n",
              "  z-index: 9999;\n",
              "  position: relative;\n",
              "  font-weight: normal;\n",
              "  right: .2ex;\n",
              "  padding: .5ex;\n",
              "  margin: .5ex;\n",
              "  width: min-content;\n",
              "  min-width: 20ex;\n",
              "  max-width: 50ex;\n",
              "  color: var(--sklearn-color-text);\n",
              "  box-shadow: 2pt 2pt 4pt #999;\n",
              "  /* unfitted */\n",
              "  background: var(--sklearn-color-unfitted-level-0);\n",
              "  border: .5pt solid var(--sklearn-color-unfitted-level-3);\n",
              "}\n",
              "\n",
              ".sk-estimator-doc-link.fitted span {\n",
              "  /* fitted */\n",
              "  background: var(--sklearn-color-fitted-level-0);\n",
              "  border: var(--sklearn-color-fitted-level-3);\n",
              "}\n",
              "\n",
              ".sk-estimator-doc-link:hover span {\n",
              "  display: block;\n",
              "}\n",
              "\n",
              "/* \"?\"-specific style due to the `<a>` HTML tag */\n",
              "\n",
              "#sk-container-id-3 a.estimator_doc_link {\n",
              "  float: right;\n",
              "  font-size: 1rem;\n",
              "  line-height: 1em;\n",
              "  font-family: monospace;\n",
              "  background-color: var(--sklearn-color-background);\n",
              "  border-radius: 1rem;\n",
              "  height: 1rem;\n",
              "  width: 1rem;\n",
              "  text-decoration: none;\n",
              "  /* unfitted */\n",
              "  color: var(--sklearn-color-unfitted-level-1);\n",
              "  border: var(--sklearn-color-unfitted-level-1) 1pt solid;\n",
              "}\n",
              "\n",
              "#sk-container-id-3 a.estimator_doc_link.fitted {\n",
              "  /* fitted */\n",
              "  border: var(--sklearn-color-fitted-level-1) 1pt solid;\n",
              "  color: var(--sklearn-color-fitted-level-1);\n",
              "}\n",
              "\n",
              "/* On hover */\n",
              "#sk-container-id-3 a.estimator_doc_link:hover {\n",
              "  /* unfitted */\n",
              "  background-color: var(--sklearn-color-unfitted-level-3);\n",
              "  color: var(--sklearn-color-background);\n",
              "  text-decoration: none;\n",
              "}\n",
              "\n",
              "#sk-container-id-3 a.estimator_doc_link.fitted:hover {\n",
              "  /* fitted */\n",
              "  background-color: var(--sklearn-color-fitted-level-3);\n",
              "}\n",
              "</style><div id=\"sk-container-id-3\" class=\"sk-top-container\"><div class=\"sk-text-repr-fallback\"><pre>GridSearchCV(cv=StratifiedKFold(n_splits=5, random_state=42, shuffle=True),\n",
              "             estimator=GradientBoostingClassifier(max_features=0.5,\n",
              "                                                  subsample=0.5),\n",
              "             n_jobs=2, param_grid={&#x27;n_estimators&#x27;: [100, 200, 300, 400, 500]},\n",
              "             verbose=1)</pre><b>In a Jupyter environment, please rerun this cell to show the HTML representation or trust the notebook. <br />On GitHub, the HTML representation is unable to render, please try loading this page with nbviewer.org.</b></div><div class=\"sk-container\" hidden><div class=\"sk-item sk-dashed-wrapped\"><div class=\"sk-label-container\"><div class=\"sk-label fitted sk-toggleable\"><input class=\"sk-toggleable__control sk-hidden--visually\" id=\"sk-estimator-id-7\" type=\"checkbox\" ><label for=\"sk-estimator-id-7\" class=\"sk-toggleable__label fitted sk-toggleable__label-arrow\"><div><div>GridSearchCV</div></div><div><a class=\"sk-estimator-doc-link fitted\" rel=\"noreferrer\" target=\"_blank\" href=\"https://scikit-learn.org/1.6/modules/generated/sklearn.model_selection.GridSearchCV.html\">?<span>Documentation for GridSearchCV</span></a><span class=\"sk-estimator-doc-link fitted\">i<span>Fitted</span></span></div></label><div class=\"sk-toggleable__content fitted\"><pre>GridSearchCV(cv=StratifiedKFold(n_splits=5, random_state=42, shuffle=True),\n",
              "             estimator=GradientBoostingClassifier(max_features=0.5,\n",
              "                                                  subsample=0.5),\n",
              "             n_jobs=2, param_grid={&#x27;n_estimators&#x27;: [100, 200, 300, 400, 500]},\n",
              "             verbose=1)</pre></div> </div></div><div class=\"sk-parallel\"><div class=\"sk-parallel-item\"><div class=\"sk-item\"><div class=\"sk-label-container\"><div class=\"sk-label fitted sk-toggleable\"><input class=\"sk-toggleable__control sk-hidden--visually\" id=\"sk-estimator-id-8\" type=\"checkbox\" ><label for=\"sk-estimator-id-8\" class=\"sk-toggleable__label fitted sk-toggleable__label-arrow\"><div><div>best_estimator_: GradientBoostingClassifier</div></div></label><div class=\"sk-toggleable__content fitted\"><pre>GradientBoostingClassifier(max_features=0.5, n_estimators=200, subsample=0.5)</pre></div> </div></div><div class=\"sk-serial\"><div class=\"sk-item\"><div class=\"sk-estimator fitted sk-toggleable\"><input class=\"sk-toggleable__control sk-hidden--visually\" id=\"sk-estimator-id-9\" type=\"checkbox\" ><label for=\"sk-estimator-id-9\" class=\"sk-toggleable__label fitted sk-toggleable__label-arrow\"><div><div>GradientBoostingClassifier</div></div><div><a class=\"sk-estimator-doc-link fitted\" rel=\"noreferrer\" target=\"_blank\" href=\"https://scikit-learn.org/1.6/modules/generated/sklearn.ensemble.GradientBoostingClassifier.html\">?<span>Documentation for GradientBoostingClassifier</span></a></div></label><div class=\"sk-toggleable__content fitted\"><pre>GradientBoostingClassifier(max_features=0.5, n_estimators=200, subsample=0.5)</pre></div> </div></div></div></div></div></div></div></div></div>"
            ]
          },
          "metadata": {},
          "execution_count": 67
        }
      ]
    },
    {
      "cell_type": "code",
      "source": [
        "gbm.best_score_"
      ],
      "metadata": {
        "colab": {
          "base_uri": "https://localhost:8080/"
        },
        "id": "wohdo47hy8BK",
        "outputId": "df3eacf0-aaac-497a-fbef-8fb4219c3cc3"
      },
      "execution_count": null,
      "outputs": [
        {
          "output_type": "execute_result",
          "data": {
            "text/plain": [
              "np.float64(0.786613475177305)"
            ]
          },
          "metadata": {},
          "execution_count": 68
        }
      ]
    },
    {
      "cell_type": "code",
      "source": [
        "gbm.best_params_"
      ],
      "metadata": {
        "colab": {
          "base_uri": "https://localhost:8080/"
        },
        "id": "KjZQwIGYy9qW",
        "outputId": "bc076d6d-1064-4fdc-a27c-f52a0320622c"
      },
      "execution_count": null,
      "outputs": [
        {
          "output_type": "execute_result",
          "data": {
            "text/plain": [
              "{'n_estimators': 200}"
            ]
          },
          "metadata": {},
          "execution_count": 69
        }
      ]
    },
    {
      "cell_type": "code",
      "source": [
        "pred_gbm = gbm.predict(x_ts)"
      ],
      "metadata": {
        "id": "yk3EXcUNy_yl"
      },
      "execution_count": null,
      "outputs": []
    },
    {
      "cell_type": "code",
      "source": [
        "# calc statistics\n",
        "print(\"Accuracy = \", accuracy_score(y_ts, pred_gbm))\n",
        "print(\"MCC = \", matthews_corrcoef(y_ts, pred_gbm))\n",
        "print(\"Kappa = \", cohen_kappa_score(y_ts, pred_gbm))"
      ],
      "metadata": {
        "colab": {
          "base_uri": "https://localhost:8080/"
        },
        "id": "jn4bwn5GzB-b",
        "outputId": "8fc8507b-60d9-4e05-8079-6ef8b7bc49ee"
      },
      "execution_count": null,
      "outputs": [
        {
          "output_type": "stream",
          "name": "stdout",
          "text": [
            "Accuracy =  0.7666666666666667\n",
            "MCC =  0.5083042452524145\n",
            "Kappa =  0.5070422535211268\n"
          ]
        }
      ]
    },
    {
      "cell_type": "markdown",
      "source": [
        "# consensus model"
      ],
      "metadata": {
        "id": "7yqK28pQzFK4"
      }
    },
    {
      "cell_type": "code",
      "source": [
        "pred_c = 1 * (((pred_rf + pred_svm + pred_gbm) / 3) >= 0.5)"
      ],
      "metadata": {
        "id": "xoJPEcOazGlr"
      },
      "execution_count": null,
      "outputs": []
    },
    {
      "cell_type": "code",
      "source": [
        "pred_c"
      ],
      "metadata": {
        "colab": {
          "base_uri": "https://localhost:8080/"
        },
        "id": "bNTZOxTHzNF3",
        "outputId": "3954b6f0-7a13-4c5d-d984-7fc8e44ae39e"
      },
      "execution_count": null,
      "outputs": [
        {
          "output_type": "execute_result",
          "data": {
            "text/plain": [
              "array([0, 0, 0, 1, 1, 0, 1, 1, 1, 0, 1, 0, 0, 0, 1, 1, 1, 0, 1, 0, 1, 0,\n",
              "       0, 1, 1, 1, 1, 0, 0, 0, 1, 1, 0, 1, 1, 1, 1, 1, 1, 0, 1, 0, 1, 1,\n",
              "       1, 1, 0, 0, 1, 0, 1, 0, 0, 0, 1, 0, 1, 1, 1, 1])"
            ]
          },
          "metadata": {},
          "execution_count": 73
        }
      ]
    },
    {
      "cell_type": "code",
      "source": [
        "# calc statistics\n",
        "print(\"Accuracy = \", accuracy_score(y_ts, pred_c))\n",
        "print(\"MCC = \", matthews_corrcoef(y_ts, pred_c))\n",
        "print(\"Kappa = \", cohen_kappa_score(y_ts, pred_c))"
      ],
      "metadata": {
        "colab": {
          "base_uri": "https://localhost:8080/"
        },
        "id": "z2hUZ_n4zQSV",
        "outputId": "63f86fc1-dd1c-4d69-c991-73ec1694862a"
      },
      "execution_count": null,
      "outputs": [
        {
          "output_type": "stream",
          "name": "stdout",
          "text": [
            "Accuracy =  0.75\n",
            "MCC =  0.47937644619880754\n",
            "Kappa =  0.4767441860465117\n"
          ]
        }
      ]
    },
    {
      "cell_type": "markdown",
      "source": [
        "# Add to Morgan fingerprints some other descriptors and look at the model performance"
      ],
      "metadata": {
        "id": "Gt1ctHn8zT-h"
      }
    },
    {
      "cell_type": "code",
      "source": [
        "# calc some descriptors\n",
        "descr = []\n",
        "for m in mols:\n",
        "    descr.append([Descriptors.MolLogP(m),\n",
        "                  Descriptors.TPSA(m),\n",
        "                  Descriptors.NHOHCount(m),\n",
        "                  Descriptors.NOCount(m),\n",
        "                  Descriptors.NumHAcceptors(m),\n",
        "                  Descriptors.NumHDonors(m),\n",
        "                  Descriptors.NumRotatableBonds(m),\n",
        "                  Descriptors.NumHeteroatoms(m),\n",
        "                  Descriptors.FractionCSP3(m)])\n",
        "descr = np.asarray(descr)"
      ],
      "metadata": {
        "id": "0DltxbqlzVRh"
      },
      "execution_count": null,
      "outputs": []
    },
    {
      "cell_type": "code",
      "source": [
        "descr.shape"
      ],
      "metadata": {
        "colab": {
          "base_uri": "https://localhost:8080/"
        },
        "id": "WHSFDBZMzc-F",
        "outputId": "df654351-75f3-461d-a559-1755a02777e6"
      },
      "execution_count": null,
      "outputs": [
        {
          "output_type": "execute_result",
          "data": {
            "text/plain": [
              "(299, 9)"
            ]
          },
          "metadata": {},
          "execution_count": 76
        }
      ]
    },
    {
      "cell_type": "code",
      "source": [
        "# add them to morgan fingerprints\n",
        "x = np.concatenate((x, descr), axis=1)"
      ],
      "metadata": {
        "id": "_jZOzcrLze71"
      },
      "execution_count": null,
      "outputs": []
    },
    {
      "cell_type": "code",
      "source": [
        "x.shape"
      ],
      "metadata": {
        "colab": {
          "base_uri": "https://localhost:8080/"
        },
        "id": "z6Uh4_hbzhT4",
        "outputId": "91d0addc-1752-49df-f40e-c8a666012d26"
      },
      "execution_count": null,
      "outputs": [
        {
          "output_type": "execute_result",
          "data": {
            "text/plain": [
              "(299, 2057)"
            ]
          },
          "metadata": {},
          "execution_count": 78
        }
      ]
    },
    {
      "cell_type": "code",
      "source": [
        "# randomly select 20% of compounds as test set\n",
        "x_tr, x_ts, y_tr, y_ts = train_test_split(x, y, test_size=0.20, random_state=seed)"
      ],
      "metadata": {
        "id": "jzA6lVp9zlC_"
      },
      "execution_count": null,
      "outputs": []
    },
    {
      "cell_type": "code",
      "source": [
        "scale = StandardScaler().fit(x_tr)\n",
        "x_tr = scale.transform(x_tr)"
      ],
      "metadata": {
        "id": "nAURXUv4znPS"
      },
      "execution_count": null,
      "outputs": []
    },
    {
      "cell_type": "code",
      "source": [
        "# create grid search dictionary\n",
        "param_grid = {\"max_features\": [x_tr.shape[1] // 10, x_tr.shape[1] // 7, x_tr.shape[1] // 5, x_tr.shape[1] // 3],\n",
        "              \"n_estimators\": [100, 250, 500]}"
      ],
      "metadata": {
        "id": "mYw2W631zpOq"
      },
      "execution_count": null,
      "outputs": []
    },
    {
      "cell_type": "code",
      "source": [
        "# setup model building\n",
        "m = GridSearchCV(RandomForestClassifier(), param_grid, n_jobs=2, cv=cv, verbose=1)"
      ],
      "metadata": {
        "id": "HsIHbMlTzrUk"
      },
      "execution_count": null,
      "outputs": []
    },
    {
      "cell_type": "code",
      "source": [
        "# run model building\n",
        "m.fit(x_tr, y_tr)"
      ],
      "metadata": {
        "colab": {
          "base_uri": "https://localhost:8080/",
          "height": 184
        },
        "id": "KQlGTVv-zs7G",
        "outputId": "f02febe5-e0d0-49ff-c100-c1f93b13eba4"
      },
      "execution_count": null,
      "outputs": [
        {
          "output_type": "stream",
          "name": "stdout",
          "text": [
            "Fitting 5 folds for each of 12 candidates, totalling 60 fits\n"
          ]
        },
        {
          "output_type": "execute_result",
          "data": {
            "text/plain": [
              "GridSearchCV(cv=StratifiedKFold(n_splits=5, random_state=42, shuffle=True),\n",
              "             estimator=RandomForestClassifier(), n_jobs=2,\n",
              "             param_grid={'max_features': [205, 293, 411, 685],\n",
              "                         'n_estimators': [100, 250, 500]},\n",
              "             verbose=1)"
            ],
            "text/html": [
              "<style>#sk-container-id-4 {\n",
              "  /* Definition of color scheme common for light and dark mode */\n",
              "  --sklearn-color-text: #000;\n",
              "  --sklearn-color-text-muted: #666;\n",
              "  --sklearn-color-line: gray;\n",
              "  /* Definition of color scheme for unfitted estimators */\n",
              "  --sklearn-color-unfitted-level-0: #fff5e6;\n",
              "  --sklearn-color-unfitted-level-1: #f6e4d2;\n",
              "  --sklearn-color-unfitted-level-2: #ffe0b3;\n",
              "  --sklearn-color-unfitted-level-3: chocolate;\n",
              "  /* Definition of color scheme for fitted estimators */\n",
              "  --sklearn-color-fitted-level-0: #f0f8ff;\n",
              "  --sklearn-color-fitted-level-1: #d4ebff;\n",
              "  --sklearn-color-fitted-level-2: #b3dbfd;\n",
              "  --sklearn-color-fitted-level-3: cornflowerblue;\n",
              "\n",
              "  /* Specific color for light theme */\n",
              "  --sklearn-color-text-on-default-background: var(--sg-text-color, var(--theme-code-foreground, var(--jp-content-font-color1, black)));\n",
              "  --sklearn-color-background: var(--sg-background-color, var(--theme-background, var(--jp-layout-color0, white)));\n",
              "  --sklearn-color-border-box: var(--sg-text-color, var(--theme-code-foreground, var(--jp-content-font-color1, black)));\n",
              "  --sklearn-color-icon: #696969;\n",
              "\n",
              "  @media (prefers-color-scheme: dark) {\n",
              "    /* Redefinition of color scheme for dark theme */\n",
              "    --sklearn-color-text-on-default-background: var(--sg-text-color, var(--theme-code-foreground, var(--jp-content-font-color1, white)));\n",
              "    --sklearn-color-background: var(--sg-background-color, var(--theme-background, var(--jp-layout-color0, #111)));\n",
              "    --sklearn-color-border-box: var(--sg-text-color, var(--theme-code-foreground, var(--jp-content-font-color1, white)));\n",
              "    --sklearn-color-icon: #878787;\n",
              "  }\n",
              "}\n",
              "\n",
              "#sk-container-id-4 {\n",
              "  color: var(--sklearn-color-text);\n",
              "}\n",
              "\n",
              "#sk-container-id-4 pre {\n",
              "  padding: 0;\n",
              "}\n",
              "\n",
              "#sk-container-id-4 input.sk-hidden--visually {\n",
              "  border: 0;\n",
              "  clip: rect(1px 1px 1px 1px);\n",
              "  clip: rect(1px, 1px, 1px, 1px);\n",
              "  height: 1px;\n",
              "  margin: -1px;\n",
              "  overflow: hidden;\n",
              "  padding: 0;\n",
              "  position: absolute;\n",
              "  width: 1px;\n",
              "}\n",
              "\n",
              "#sk-container-id-4 div.sk-dashed-wrapped {\n",
              "  border: 1px dashed var(--sklearn-color-line);\n",
              "  margin: 0 0.4em 0.5em 0.4em;\n",
              "  box-sizing: border-box;\n",
              "  padding-bottom: 0.4em;\n",
              "  background-color: var(--sklearn-color-background);\n",
              "}\n",
              "\n",
              "#sk-container-id-4 div.sk-container {\n",
              "  /* jupyter's `normalize.less` sets `[hidden] { display: none; }`\n",
              "     but bootstrap.min.css set `[hidden] { display: none !important; }`\n",
              "     so we also need the `!important` here to be able to override the\n",
              "     default hidden behavior on the sphinx rendered scikit-learn.org.\n",
              "     See: https://github.com/scikit-learn/scikit-learn/issues/21755 */\n",
              "  display: inline-block !important;\n",
              "  position: relative;\n",
              "}\n",
              "\n",
              "#sk-container-id-4 div.sk-text-repr-fallback {\n",
              "  display: none;\n",
              "}\n",
              "\n",
              "div.sk-parallel-item,\n",
              "div.sk-serial,\n",
              "div.sk-item {\n",
              "  /* draw centered vertical line to link estimators */\n",
              "  background-image: linear-gradient(var(--sklearn-color-text-on-default-background), var(--sklearn-color-text-on-default-background));\n",
              "  background-size: 2px 100%;\n",
              "  background-repeat: no-repeat;\n",
              "  background-position: center center;\n",
              "}\n",
              "\n",
              "/* Parallel-specific style estimator block */\n",
              "\n",
              "#sk-container-id-4 div.sk-parallel-item::after {\n",
              "  content: \"\";\n",
              "  width: 100%;\n",
              "  border-bottom: 2px solid var(--sklearn-color-text-on-default-background);\n",
              "  flex-grow: 1;\n",
              "}\n",
              "\n",
              "#sk-container-id-4 div.sk-parallel {\n",
              "  display: flex;\n",
              "  align-items: stretch;\n",
              "  justify-content: center;\n",
              "  background-color: var(--sklearn-color-background);\n",
              "  position: relative;\n",
              "}\n",
              "\n",
              "#sk-container-id-4 div.sk-parallel-item {\n",
              "  display: flex;\n",
              "  flex-direction: column;\n",
              "}\n",
              "\n",
              "#sk-container-id-4 div.sk-parallel-item:first-child::after {\n",
              "  align-self: flex-end;\n",
              "  width: 50%;\n",
              "}\n",
              "\n",
              "#sk-container-id-4 div.sk-parallel-item:last-child::after {\n",
              "  align-self: flex-start;\n",
              "  width: 50%;\n",
              "}\n",
              "\n",
              "#sk-container-id-4 div.sk-parallel-item:only-child::after {\n",
              "  width: 0;\n",
              "}\n",
              "\n",
              "/* Serial-specific style estimator block */\n",
              "\n",
              "#sk-container-id-4 div.sk-serial {\n",
              "  display: flex;\n",
              "  flex-direction: column;\n",
              "  align-items: center;\n",
              "  background-color: var(--sklearn-color-background);\n",
              "  padding-right: 1em;\n",
              "  padding-left: 1em;\n",
              "}\n",
              "\n",
              "\n",
              "/* Toggleable style: style used for estimator/Pipeline/ColumnTransformer box that is\n",
              "clickable and can be expanded/collapsed.\n",
              "- Pipeline and ColumnTransformer use this feature and define the default style\n",
              "- Estimators will overwrite some part of the style using the `sk-estimator` class\n",
              "*/\n",
              "\n",
              "/* Pipeline and ColumnTransformer style (default) */\n",
              "\n",
              "#sk-container-id-4 div.sk-toggleable {\n",
              "  /* Default theme specific background. It is overwritten whether we have a\n",
              "  specific estimator or a Pipeline/ColumnTransformer */\n",
              "  background-color: var(--sklearn-color-background);\n",
              "}\n",
              "\n",
              "/* Toggleable label */\n",
              "#sk-container-id-4 label.sk-toggleable__label {\n",
              "  cursor: pointer;\n",
              "  display: flex;\n",
              "  width: 100%;\n",
              "  margin-bottom: 0;\n",
              "  padding: 0.5em;\n",
              "  box-sizing: border-box;\n",
              "  text-align: center;\n",
              "  align-items: start;\n",
              "  justify-content: space-between;\n",
              "  gap: 0.5em;\n",
              "}\n",
              "\n",
              "#sk-container-id-4 label.sk-toggleable__label .caption {\n",
              "  font-size: 0.6rem;\n",
              "  font-weight: lighter;\n",
              "  color: var(--sklearn-color-text-muted);\n",
              "}\n",
              "\n",
              "#sk-container-id-4 label.sk-toggleable__label-arrow:before {\n",
              "  /* Arrow on the left of the label */\n",
              "  content: \"▸\";\n",
              "  float: left;\n",
              "  margin-right: 0.25em;\n",
              "  color: var(--sklearn-color-icon);\n",
              "}\n",
              "\n",
              "#sk-container-id-4 label.sk-toggleable__label-arrow:hover:before {\n",
              "  color: var(--sklearn-color-text);\n",
              "}\n",
              "\n",
              "/* Toggleable content - dropdown */\n",
              "\n",
              "#sk-container-id-4 div.sk-toggleable__content {\n",
              "  max-height: 0;\n",
              "  max-width: 0;\n",
              "  overflow: hidden;\n",
              "  text-align: left;\n",
              "  /* unfitted */\n",
              "  background-color: var(--sklearn-color-unfitted-level-0);\n",
              "}\n",
              "\n",
              "#sk-container-id-4 div.sk-toggleable__content.fitted {\n",
              "  /* fitted */\n",
              "  background-color: var(--sklearn-color-fitted-level-0);\n",
              "}\n",
              "\n",
              "#sk-container-id-4 div.sk-toggleable__content pre {\n",
              "  margin: 0.2em;\n",
              "  border-radius: 0.25em;\n",
              "  color: var(--sklearn-color-text);\n",
              "  /* unfitted */\n",
              "  background-color: var(--sklearn-color-unfitted-level-0);\n",
              "}\n",
              "\n",
              "#sk-container-id-4 div.sk-toggleable__content.fitted pre {\n",
              "  /* unfitted */\n",
              "  background-color: var(--sklearn-color-fitted-level-0);\n",
              "}\n",
              "\n",
              "#sk-container-id-4 input.sk-toggleable__control:checked~div.sk-toggleable__content {\n",
              "  /* Expand drop-down */\n",
              "  max-height: 200px;\n",
              "  max-width: 100%;\n",
              "  overflow: auto;\n",
              "}\n",
              "\n",
              "#sk-container-id-4 input.sk-toggleable__control:checked~label.sk-toggleable__label-arrow:before {\n",
              "  content: \"▾\";\n",
              "}\n",
              "\n",
              "/* Pipeline/ColumnTransformer-specific style */\n",
              "\n",
              "#sk-container-id-4 div.sk-label input.sk-toggleable__control:checked~label.sk-toggleable__label {\n",
              "  color: var(--sklearn-color-text);\n",
              "  background-color: var(--sklearn-color-unfitted-level-2);\n",
              "}\n",
              "\n",
              "#sk-container-id-4 div.sk-label.fitted input.sk-toggleable__control:checked~label.sk-toggleable__label {\n",
              "  background-color: var(--sklearn-color-fitted-level-2);\n",
              "}\n",
              "\n",
              "/* Estimator-specific style */\n",
              "\n",
              "/* Colorize estimator box */\n",
              "#sk-container-id-4 div.sk-estimator input.sk-toggleable__control:checked~label.sk-toggleable__label {\n",
              "  /* unfitted */\n",
              "  background-color: var(--sklearn-color-unfitted-level-2);\n",
              "}\n",
              "\n",
              "#sk-container-id-4 div.sk-estimator.fitted input.sk-toggleable__control:checked~label.sk-toggleable__label {\n",
              "  /* fitted */\n",
              "  background-color: var(--sklearn-color-fitted-level-2);\n",
              "}\n",
              "\n",
              "#sk-container-id-4 div.sk-label label.sk-toggleable__label,\n",
              "#sk-container-id-4 div.sk-label label {\n",
              "  /* The background is the default theme color */\n",
              "  color: var(--sklearn-color-text-on-default-background);\n",
              "}\n",
              "\n",
              "/* On hover, darken the color of the background */\n",
              "#sk-container-id-4 div.sk-label:hover label.sk-toggleable__label {\n",
              "  color: var(--sklearn-color-text);\n",
              "  background-color: var(--sklearn-color-unfitted-level-2);\n",
              "}\n",
              "\n",
              "/* Label box, darken color on hover, fitted */\n",
              "#sk-container-id-4 div.sk-label.fitted:hover label.sk-toggleable__label.fitted {\n",
              "  color: var(--sklearn-color-text);\n",
              "  background-color: var(--sklearn-color-fitted-level-2);\n",
              "}\n",
              "\n",
              "/* Estimator label */\n",
              "\n",
              "#sk-container-id-4 div.sk-label label {\n",
              "  font-family: monospace;\n",
              "  font-weight: bold;\n",
              "  display: inline-block;\n",
              "  line-height: 1.2em;\n",
              "}\n",
              "\n",
              "#sk-container-id-4 div.sk-label-container {\n",
              "  text-align: center;\n",
              "}\n",
              "\n",
              "/* Estimator-specific */\n",
              "#sk-container-id-4 div.sk-estimator {\n",
              "  font-family: monospace;\n",
              "  border: 1px dotted var(--sklearn-color-border-box);\n",
              "  border-radius: 0.25em;\n",
              "  box-sizing: border-box;\n",
              "  margin-bottom: 0.5em;\n",
              "  /* unfitted */\n",
              "  background-color: var(--sklearn-color-unfitted-level-0);\n",
              "}\n",
              "\n",
              "#sk-container-id-4 div.sk-estimator.fitted {\n",
              "  /* fitted */\n",
              "  background-color: var(--sklearn-color-fitted-level-0);\n",
              "}\n",
              "\n",
              "/* on hover */\n",
              "#sk-container-id-4 div.sk-estimator:hover {\n",
              "  /* unfitted */\n",
              "  background-color: var(--sklearn-color-unfitted-level-2);\n",
              "}\n",
              "\n",
              "#sk-container-id-4 div.sk-estimator.fitted:hover {\n",
              "  /* fitted */\n",
              "  background-color: var(--sklearn-color-fitted-level-2);\n",
              "}\n",
              "\n",
              "/* Specification for estimator info (e.g. \"i\" and \"?\") */\n",
              "\n",
              "/* Common style for \"i\" and \"?\" */\n",
              "\n",
              ".sk-estimator-doc-link,\n",
              "a:link.sk-estimator-doc-link,\n",
              "a:visited.sk-estimator-doc-link {\n",
              "  float: right;\n",
              "  font-size: smaller;\n",
              "  line-height: 1em;\n",
              "  font-family: monospace;\n",
              "  background-color: var(--sklearn-color-background);\n",
              "  border-radius: 1em;\n",
              "  height: 1em;\n",
              "  width: 1em;\n",
              "  text-decoration: none !important;\n",
              "  margin-left: 0.5em;\n",
              "  text-align: center;\n",
              "  /* unfitted */\n",
              "  border: var(--sklearn-color-unfitted-level-1) 1pt solid;\n",
              "  color: var(--sklearn-color-unfitted-level-1);\n",
              "}\n",
              "\n",
              ".sk-estimator-doc-link.fitted,\n",
              "a:link.sk-estimator-doc-link.fitted,\n",
              "a:visited.sk-estimator-doc-link.fitted {\n",
              "  /* fitted */\n",
              "  border: var(--sklearn-color-fitted-level-1) 1pt solid;\n",
              "  color: var(--sklearn-color-fitted-level-1);\n",
              "}\n",
              "\n",
              "/* On hover */\n",
              "div.sk-estimator:hover .sk-estimator-doc-link:hover,\n",
              ".sk-estimator-doc-link:hover,\n",
              "div.sk-label-container:hover .sk-estimator-doc-link:hover,\n",
              ".sk-estimator-doc-link:hover {\n",
              "  /* unfitted */\n",
              "  background-color: var(--sklearn-color-unfitted-level-3);\n",
              "  color: var(--sklearn-color-background);\n",
              "  text-decoration: none;\n",
              "}\n",
              "\n",
              "div.sk-estimator.fitted:hover .sk-estimator-doc-link.fitted:hover,\n",
              ".sk-estimator-doc-link.fitted:hover,\n",
              "div.sk-label-container:hover .sk-estimator-doc-link.fitted:hover,\n",
              ".sk-estimator-doc-link.fitted:hover {\n",
              "  /* fitted */\n",
              "  background-color: var(--sklearn-color-fitted-level-3);\n",
              "  color: var(--sklearn-color-background);\n",
              "  text-decoration: none;\n",
              "}\n",
              "\n",
              "/* Span, style for the box shown on hovering the info icon */\n",
              ".sk-estimator-doc-link span {\n",
              "  display: none;\n",
              "  z-index: 9999;\n",
              "  position: relative;\n",
              "  font-weight: normal;\n",
              "  right: .2ex;\n",
              "  padding: .5ex;\n",
              "  margin: .5ex;\n",
              "  width: min-content;\n",
              "  min-width: 20ex;\n",
              "  max-width: 50ex;\n",
              "  color: var(--sklearn-color-text);\n",
              "  box-shadow: 2pt 2pt 4pt #999;\n",
              "  /* unfitted */\n",
              "  background: var(--sklearn-color-unfitted-level-0);\n",
              "  border: .5pt solid var(--sklearn-color-unfitted-level-3);\n",
              "}\n",
              "\n",
              ".sk-estimator-doc-link.fitted span {\n",
              "  /* fitted */\n",
              "  background: var(--sklearn-color-fitted-level-0);\n",
              "  border: var(--sklearn-color-fitted-level-3);\n",
              "}\n",
              "\n",
              ".sk-estimator-doc-link:hover span {\n",
              "  display: block;\n",
              "}\n",
              "\n",
              "/* \"?\"-specific style due to the `<a>` HTML tag */\n",
              "\n",
              "#sk-container-id-4 a.estimator_doc_link {\n",
              "  float: right;\n",
              "  font-size: 1rem;\n",
              "  line-height: 1em;\n",
              "  font-family: monospace;\n",
              "  background-color: var(--sklearn-color-background);\n",
              "  border-radius: 1rem;\n",
              "  height: 1rem;\n",
              "  width: 1rem;\n",
              "  text-decoration: none;\n",
              "  /* unfitted */\n",
              "  color: var(--sklearn-color-unfitted-level-1);\n",
              "  border: var(--sklearn-color-unfitted-level-1) 1pt solid;\n",
              "}\n",
              "\n",
              "#sk-container-id-4 a.estimator_doc_link.fitted {\n",
              "  /* fitted */\n",
              "  border: var(--sklearn-color-fitted-level-1) 1pt solid;\n",
              "  color: var(--sklearn-color-fitted-level-1);\n",
              "}\n",
              "\n",
              "/* On hover */\n",
              "#sk-container-id-4 a.estimator_doc_link:hover {\n",
              "  /* unfitted */\n",
              "  background-color: var(--sklearn-color-unfitted-level-3);\n",
              "  color: var(--sklearn-color-background);\n",
              "  text-decoration: none;\n",
              "}\n",
              "\n",
              "#sk-container-id-4 a.estimator_doc_link.fitted:hover {\n",
              "  /* fitted */\n",
              "  background-color: var(--sklearn-color-fitted-level-3);\n",
              "}\n",
              "</style><div id=\"sk-container-id-4\" class=\"sk-top-container\"><div class=\"sk-text-repr-fallback\"><pre>GridSearchCV(cv=StratifiedKFold(n_splits=5, random_state=42, shuffle=True),\n",
              "             estimator=RandomForestClassifier(), n_jobs=2,\n",
              "             param_grid={&#x27;max_features&#x27;: [205, 293, 411, 685],\n",
              "                         &#x27;n_estimators&#x27;: [100, 250, 500]},\n",
              "             verbose=1)</pre><b>In a Jupyter environment, please rerun this cell to show the HTML representation or trust the notebook. <br />On GitHub, the HTML representation is unable to render, please try loading this page with nbviewer.org.</b></div><div class=\"sk-container\" hidden><div class=\"sk-item sk-dashed-wrapped\"><div class=\"sk-label-container\"><div class=\"sk-label fitted sk-toggleable\"><input class=\"sk-toggleable__control sk-hidden--visually\" id=\"sk-estimator-id-10\" type=\"checkbox\" ><label for=\"sk-estimator-id-10\" class=\"sk-toggleable__label fitted sk-toggleable__label-arrow\"><div><div>GridSearchCV</div></div><div><a class=\"sk-estimator-doc-link fitted\" rel=\"noreferrer\" target=\"_blank\" href=\"https://scikit-learn.org/1.6/modules/generated/sklearn.model_selection.GridSearchCV.html\">?<span>Documentation for GridSearchCV</span></a><span class=\"sk-estimator-doc-link fitted\">i<span>Fitted</span></span></div></label><div class=\"sk-toggleable__content fitted\"><pre>GridSearchCV(cv=StratifiedKFold(n_splits=5, random_state=42, shuffle=True),\n",
              "             estimator=RandomForestClassifier(), n_jobs=2,\n",
              "             param_grid={&#x27;max_features&#x27;: [205, 293, 411, 685],\n",
              "                         &#x27;n_estimators&#x27;: [100, 250, 500]},\n",
              "             verbose=1)</pre></div> </div></div><div class=\"sk-parallel\"><div class=\"sk-parallel-item\"><div class=\"sk-item\"><div class=\"sk-label-container\"><div class=\"sk-label fitted sk-toggleable\"><input class=\"sk-toggleable__control sk-hidden--visually\" id=\"sk-estimator-id-11\" type=\"checkbox\" ><label for=\"sk-estimator-id-11\" class=\"sk-toggleable__label fitted sk-toggleable__label-arrow\"><div><div>best_estimator_: RandomForestClassifier</div></div></label><div class=\"sk-toggleable__content fitted\"><pre>RandomForestClassifier(max_features=685, n_estimators=250)</pre></div> </div></div><div class=\"sk-serial\"><div class=\"sk-item\"><div class=\"sk-estimator fitted sk-toggleable\"><input class=\"sk-toggleable__control sk-hidden--visually\" id=\"sk-estimator-id-12\" type=\"checkbox\" ><label for=\"sk-estimator-id-12\" class=\"sk-toggleable__label fitted sk-toggleable__label-arrow\"><div><div>RandomForestClassifier</div></div><div><a class=\"sk-estimator-doc-link fitted\" rel=\"noreferrer\" target=\"_blank\" href=\"https://scikit-learn.org/1.6/modules/generated/sklearn.ensemble.RandomForestClassifier.html\">?<span>Documentation for RandomForestClassifier</span></a></div></label><div class=\"sk-toggleable__content fitted\"><pre>RandomForestClassifier(max_features=685, n_estimators=250)</pre></div> </div></div></div></div></div></div></div></div></div>"
            ]
          },
          "metadata": {},
          "execution_count": 83
        }
      ]
    },
    {
      "cell_type": "code",
      "source": [
        "m.best_score_"
      ],
      "metadata": {
        "colab": {
          "base_uri": "https://localhost:8080/"
        },
        "id": "dKta3b4Mzu7R",
        "outputId": "d34a382b-3775-4b5b-a185-4c614d0fba94"
      },
      "execution_count": null,
      "outputs": [
        {
          "output_type": "execute_result",
          "data": {
            "text/plain": [
              "np.float64(0.8076241134751774)"
            ]
          },
          "metadata": {},
          "execution_count": 84
        }
      ]
    },
    {
      "cell_type": "code",
      "source": [
        "# scale descriptors of the test set compounds\n",
        "x_ts = scale.transform(x_ts)"
      ],
      "metadata": {
        "id": "Ghd1colSzwqb"
      },
      "execution_count": null,
      "outputs": []
    },
    {
      "cell_type": "code",
      "source": [
        "# predict logBB for the test set compounds\n",
        "pred = m.predict(x_ts)"
      ],
      "metadata": {
        "id": "T0Tx0EICz0NR"
      },
      "execution_count": null,
      "outputs": []
    },
    {
      "cell_type": "code",
      "source": [
        "pred"
      ],
      "metadata": {
        "colab": {
          "base_uri": "https://localhost:8080/"
        },
        "id": "XrEglNl3z2hL",
        "outputId": "cda07850-b001-433d-93c7-66f05501384a"
      },
      "execution_count": null,
      "outputs": [
        {
          "output_type": "execute_result",
          "data": {
            "text/plain": [
              "array([1, 0, 0, 1, 1, 0, 1, 1, 1, 0, 0, 1, 0, 1, 1, 1, 1, 0, 1, 0, 1, 0,\n",
              "       0, 1, 1, 1, 0, 0, 0, 0, 1, 1, 0, 0, 1, 1, 1, 1, 1, 0, 1, 0, 1, 1,\n",
              "       1, 1, 0, 0, 1, 0, 1, 0, 0, 0, 1, 1, 1, 1, 1, 1])"
            ]
          },
          "metadata": {},
          "execution_count": 87
        }
      ]
    },
    {
      "cell_type": "code",
      "source": [
        "# calc statistics\n",
        "print(\"Accuracy = \", accuracy_score(y_ts, pred))\n",
        "print(\"MCC = \", matthews_corrcoef(y_ts, pred))\n",
        "print(\"Kappa = \", cohen_kappa_score(y_ts, pred))"
      ],
      "metadata": {
        "colab": {
          "base_uri": "https://localhost:8080/"
        },
        "id": "zKcUXSJ3z69P",
        "outputId": "316f6284-92d5-4f22-9ca7-c175bde18038"
      },
      "execution_count": null,
      "outputs": [
        {
          "output_type": "stream",
          "name": "stdout",
          "text": [
            "Accuracy =  0.8333333333333334\n",
            "MCC =  0.6494998689336408\n",
            "Kappa =  0.647887323943662\n"
          ]
        }
      ]
    },
    {
      "cell_type": "code",
      "source": [
        "# estimate applicability domain and calc stat\n",
        "pred_prob = m.predict_proba(x_ts)"
      ],
      "metadata": {
        "id": "LRvvIQr_z9AS"
      },
      "execution_count": null,
      "outputs": []
    },
    {
      "cell_type": "code",
      "source": [
        "da = np.amax(pred_prob, axis=1) > threshold"
      ],
      "metadata": {
        "id": "z8tzJTR-z-8C"
      },
      "execution_count": null,
      "outputs": []
    },
    {
      "cell_type": "code",
      "source": [
        "print(\"Accuracy = \", accuracy_score(np.asarray(y_ts)[da], pred[da]))\n",
        "print(\"MCC = \", matthews_corrcoef(np.asarray(y_ts)[da], pred[da]))\n",
        "print(\"Kappa = \", cohen_kappa_score(np.asarray(y_ts)[da], pred[da]))\n",
        "print(\"Coverage = \", sum(da) / len(da))"
      ],
      "metadata": {
        "colab": {
          "base_uri": "https://localhost:8080/"
        },
        "id": "PXg60ZQ90BC4",
        "outputId": "84cfc8b6-7ab6-4ada-963a-85d7245427e5"
      },
      "execution_count": null,
      "outputs": [
        {
          "output_type": "stream",
          "name": "stdout",
          "text": [
            "Accuracy =  0.8857142857142857\n",
            "MCC =  0.753330178128478\n",
            "Kappa =  0.7472924187725631\n",
            "Coverage =  0.5833333333333334\n"
          ]
        }
      ]
    },
    {
      "cell_type": "markdown",
      "source": [
        "# Let's try to analyse which variables are the most important in the model"
      ],
      "metadata": {
        "id": "TqRMXfYX0I2n"
      }
    },
    {
      "cell_type": "code",
      "source": [
        "# rebuild RF model manually using best parameters to be able to extract additional information from the model\n",
        "rf = RandomForestClassifier(n_estimators=m.best_params_[\"n_estimators\"],\n",
        "                           max_features=m.best_params_[\"max_features\"],\n",
        "                           random_state=seed)\n",
        "rf.fit(x_tr, y_tr)"
      ],
      "metadata": {
        "colab": {
          "base_uri": "https://localhost:8080/",
          "height": 80
        },
        "id": "0qS22qsB0KfT",
        "outputId": "c4d65c4f-3214-46e4-c38f-e91952bd8cf6"
      },
      "execution_count": null,
      "outputs": [
        {
          "output_type": "execute_result",
          "data": {
            "text/plain": [
              "RandomForestClassifier(max_features=685, n_estimators=250, random_state=42)"
            ],
            "text/html": [
              "<style>#sk-container-id-5 {\n",
              "  /* Definition of color scheme common for light and dark mode */\n",
              "  --sklearn-color-text: #000;\n",
              "  --sklearn-color-text-muted: #666;\n",
              "  --sklearn-color-line: gray;\n",
              "  /* Definition of color scheme for unfitted estimators */\n",
              "  --sklearn-color-unfitted-level-0: #fff5e6;\n",
              "  --sklearn-color-unfitted-level-1: #f6e4d2;\n",
              "  --sklearn-color-unfitted-level-2: #ffe0b3;\n",
              "  --sklearn-color-unfitted-level-3: chocolate;\n",
              "  /* Definition of color scheme for fitted estimators */\n",
              "  --sklearn-color-fitted-level-0: #f0f8ff;\n",
              "  --sklearn-color-fitted-level-1: #d4ebff;\n",
              "  --sklearn-color-fitted-level-2: #b3dbfd;\n",
              "  --sklearn-color-fitted-level-3: cornflowerblue;\n",
              "\n",
              "  /* Specific color for light theme */\n",
              "  --sklearn-color-text-on-default-background: var(--sg-text-color, var(--theme-code-foreground, var(--jp-content-font-color1, black)));\n",
              "  --sklearn-color-background: var(--sg-background-color, var(--theme-background, var(--jp-layout-color0, white)));\n",
              "  --sklearn-color-border-box: var(--sg-text-color, var(--theme-code-foreground, var(--jp-content-font-color1, black)));\n",
              "  --sklearn-color-icon: #696969;\n",
              "\n",
              "  @media (prefers-color-scheme: dark) {\n",
              "    /* Redefinition of color scheme for dark theme */\n",
              "    --sklearn-color-text-on-default-background: var(--sg-text-color, var(--theme-code-foreground, var(--jp-content-font-color1, white)));\n",
              "    --sklearn-color-background: var(--sg-background-color, var(--theme-background, var(--jp-layout-color0, #111)));\n",
              "    --sklearn-color-border-box: var(--sg-text-color, var(--theme-code-foreground, var(--jp-content-font-color1, white)));\n",
              "    --sklearn-color-icon: #878787;\n",
              "  }\n",
              "}\n",
              "\n",
              "#sk-container-id-5 {\n",
              "  color: var(--sklearn-color-text);\n",
              "}\n",
              "\n",
              "#sk-container-id-5 pre {\n",
              "  padding: 0;\n",
              "}\n",
              "\n",
              "#sk-container-id-5 input.sk-hidden--visually {\n",
              "  border: 0;\n",
              "  clip: rect(1px 1px 1px 1px);\n",
              "  clip: rect(1px, 1px, 1px, 1px);\n",
              "  height: 1px;\n",
              "  margin: -1px;\n",
              "  overflow: hidden;\n",
              "  padding: 0;\n",
              "  position: absolute;\n",
              "  width: 1px;\n",
              "}\n",
              "\n",
              "#sk-container-id-5 div.sk-dashed-wrapped {\n",
              "  border: 1px dashed var(--sklearn-color-line);\n",
              "  margin: 0 0.4em 0.5em 0.4em;\n",
              "  box-sizing: border-box;\n",
              "  padding-bottom: 0.4em;\n",
              "  background-color: var(--sklearn-color-background);\n",
              "}\n",
              "\n",
              "#sk-container-id-5 div.sk-container {\n",
              "  /* jupyter's `normalize.less` sets `[hidden] { display: none; }`\n",
              "     but bootstrap.min.css set `[hidden] { display: none !important; }`\n",
              "     so we also need the `!important` here to be able to override the\n",
              "     default hidden behavior on the sphinx rendered scikit-learn.org.\n",
              "     See: https://github.com/scikit-learn/scikit-learn/issues/21755 */\n",
              "  display: inline-block !important;\n",
              "  position: relative;\n",
              "}\n",
              "\n",
              "#sk-container-id-5 div.sk-text-repr-fallback {\n",
              "  display: none;\n",
              "}\n",
              "\n",
              "div.sk-parallel-item,\n",
              "div.sk-serial,\n",
              "div.sk-item {\n",
              "  /* draw centered vertical line to link estimators */\n",
              "  background-image: linear-gradient(var(--sklearn-color-text-on-default-background), var(--sklearn-color-text-on-default-background));\n",
              "  background-size: 2px 100%;\n",
              "  background-repeat: no-repeat;\n",
              "  background-position: center center;\n",
              "}\n",
              "\n",
              "/* Parallel-specific style estimator block */\n",
              "\n",
              "#sk-container-id-5 div.sk-parallel-item::after {\n",
              "  content: \"\";\n",
              "  width: 100%;\n",
              "  border-bottom: 2px solid var(--sklearn-color-text-on-default-background);\n",
              "  flex-grow: 1;\n",
              "}\n",
              "\n",
              "#sk-container-id-5 div.sk-parallel {\n",
              "  display: flex;\n",
              "  align-items: stretch;\n",
              "  justify-content: center;\n",
              "  background-color: var(--sklearn-color-background);\n",
              "  position: relative;\n",
              "}\n",
              "\n",
              "#sk-container-id-5 div.sk-parallel-item {\n",
              "  display: flex;\n",
              "  flex-direction: column;\n",
              "}\n",
              "\n",
              "#sk-container-id-5 div.sk-parallel-item:first-child::after {\n",
              "  align-self: flex-end;\n",
              "  width: 50%;\n",
              "}\n",
              "\n",
              "#sk-container-id-5 div.sk-parallel-item:last-child::after {\n",
              "  align-self: flex-start;\n",
              "  width: 50%;\n",
              "}\n",
              "\n",
              "#sk-container-id-5 div.sk-parallel-item:only-child::after {\n",
              "  width: 0;\n",
              "}\n",
              "\n",
              "/* Serial-specific style estimator block */\n",
              "\n",
              "#sk-container-id-5 div.sk-serial {\n",
              "  display: flex;\n",
              "  flex-direction: column;\n",
              "  align-items: center;\n",
              "  background-color: var(--sklearn-color-background);\n",
              "  padding-right: 1em;\n",
              "  padding-left: 1em;\n",
              "}\n",
              "\n",
              "\n",
              "/* Toggleable style: style used for estimator/Pipeline/ColumnTransformer box that is\n",
              "clickable and can be expanded/collapsed.\n",
              "- Pipeline and ColumnTransformer use this feature and define the default style\n",
              "- Estimators will overwrite some part of the style using the `sk-estimator` class\n",
              "*/\n",
              "\n",
              "/* Pipeline and ColumnTransformer style (default) */\n",
              "\n",
              "#sk-container-id-5 div.sk-toggleable {\n",
              "  /* Default theme specific background. It is overwritten whether we have a\n",
              "  specific estimator or a Pipeline/ColumnTransformer */\n",
              "  background-color: var(--sklearn-color-background);\n",
              "}\n",
              "\n",
              "/* Toggleable label */\n",
              "#sk-container-id-5 label.sk-toggleable__label {\n",
              "  cursor: pointer;\n",
              "  display: flex;\n",
              "  width: 100%;\n",
              "  margin-bottom: 0;\n",
              "  padding: 0.5em;\n",
              "  box-sizing: border-box;\n",
              "  text-align: center;\n",
              "  align-items: start;\n",
              "  justify-content: space-between;\n",
              "  gap: 0.5em;\n",
              "}\n",
              "\n",
              "#sk-container-id-5 label.sk-toggleable__label .caption {\n",
              "  font-size: 0.6rem;\n",
              "  font-weight: lighter;\n",
              "  color: var(--sklearn-color-text-muted);\n",
              "}\n",
              "\n",
              "#sk-container-id-5 label.sk-toggleable__label-arrow:before {\n",
              "  /* Arrow on the left of the label */\n",
              "  content: \"▸\";\n",
              "  float: left;\n",
              "  margin-right: 0.25em;\n",
              "  color: var(--sklearn-color-icon);\n",
              "}\n",
              "\n",
              "#sk-container-id-5 label.sk-toggleable__label-arrow:hover:before {\n",
              "  color: var(--sklearn-color-text);\n",
              "}\n",
              "\n",
              "/* Toggleable content - dropdown */\n",
              "\n",
              "#sk-container-id-5 div.sk-toggleable__content {\n",
              "  max-height: 0;\n",
              "  max-width: 0;\n",
              "  overflow: hidden;\n",
              "  text-align: left;\n",
              "  /* unfitted */\n",
              "  background-color: var(--sklearn-color-unfitted-level-0);\n",
              "}\n",
              "\n",
              "#sk-container-id-5 div.sk-toggleable__content.fitted {\n",
              "  /* fitted */\n",
              "  background-color: var(--sklearn-color-fitted-level-0);\n",
              "}\n",
              "\n",
              "#sk-container-id-5 div.sk-toggleable__content pre {\n",
              "  margin: 0.2em;\n",
              "  border-radius: 0.25em;\n",
              "  color: var(--sklearn-color-text);\n",
              "  /* unfitted */\n",
              "  background-color: var(--sklearn-color-unfitted-level-0);\n",
              "}\n",
              "\n",
              "#sk-container-id-5 div.sk-toggleable__content.fitted pre {\n",
              "  /* unfitted */\n",
              "  background-color: var(--sklearn-color-fitted-level-0);\n",
              "}\n",
              "\n",
              "#sk-container-id-5 input.sk-toggleable__control:checked~div.sk-toggleable__content {\n",
              "  /* Expand drop-down */\n",
              "  max-height: 200px;\n",
              "  max-width: 100%;\n",
              "  overflow: auto;\n",
              "}\n",
              "\n",
              "#sk-container-id-5 input.sk-toggleable__control:checked~label.sk-toggleable__label-arrow:before {\n",
              "  content: \"▾\";\n",
              "}\n",
              "\n",
              "/* Pipeline/ColumnTransformer-specific style */\n",
              "\n",
              "#sk-container-id-5 div.sk-label input.sk-toggleable__control:checked~label.sk-toggleable__label {\n",
              "  color: var(--sklearn-color-text);\n",
              "  background-color: var(--sklearn-color-unfitted-level-2);\n",
              "}\n",
              "\n",
              "#sk-container-id-5 div.sk-label.fitted input.sk-toggleable__control:checked~label.sk-toggleable__label {\n",
              "  background-color: var(--sklearn-color-fitted-level-2);\n",
              "}\n",
              "\n",
              "/* Estimator-specific style */\n",
              "\n",
              "/* Colorize estimator box */\n",
              "#sk-container-id-5 div.sk-estimator input.sk-toggleable__control:checked~label.sk-toggleable__label {\n",
              "  /* unfitted */\n",
              "  background-color: var(--sklearn-color-unfitted-level-2);\n",
              "}\n",
              "\n",
              "#sk-container-id-5 div.sk-estimator.fitted input.sk-toggleable__control:checked~label.sk-toggleable__label {\n",
              "  /* fitted */\n",
              "  background-color: var(--sklearn-color-fitted-level-2);\n",
              "}\n",
              "\n",
              "#sk-container-id-5 div.sk-label label.sk-toggleable__label,\n",
              "#sk-container-id-5 div.sk-label label {\n",
              "  /* The background is the default theme color */\n",
              "  color: var(--sklearn-color-text-on-default-background);\n",
              "}\n",
              "\n",
              "/* On hover, darken the color of the background */\n",
              "#sk-container-id-5 div.sk-label:hover label.sk-toggleable__label {\n",
              "  color: var(--sklearn-color-text);\n",
              "  background-color: var(--sklearn-color-unfitted-level-2);\n",
              "}\n",
              "\n",
              "/* Label box, darken color on hover, fitted */\n",
              "#sk-container-id-5 div.sk-label.fitted:hover label.sk-toggleable__label.fitted {\n",
              "  color: var(--sklearn-color-text);\n",
              "  background-color: var(--sklearn-color-fitted-level-2);\n",
              "}\n",
              "\n",
              "/* Estimator label */\n",
              "\n",
              "#sk-container-id-5 div.sk-label label {\n",
              "  font-family: monospace;\n",
              "  font-weight: bold;\n",
              "  display: inline-block;\n",
              "  line-height: 1.2em;\n",
              "}\n",
              "\n",
              "#sk-container-id-5 div.sk-label-container {\n",
              "  text-align: center;\n",
              "}\n",
              "\n",
              "/* Estimator-specific */\n",
              "#sk-container-id-5 div.sk-estimator {\n",
              "  font-family: monospace;\n",
              "  border: 1px dotted var(--sklearn-color-border-box);\n",
              "  border-radius: 0.25em;\n",
              "  box-sizing: border-box;\n",
              "  margin-bottom: 0.5em;\n",
              "  /* unfitted */\n",
              "  background-color: var(--sklearn-color-unfitted-level-0);\n",
              "}\n",
              "\n",
              "#sk-container-id-5 div.sk-estimator.fitted {\n",
              "  /* fitted */\n",
              "  background-color: var(--sklearn-color-fitted-level-0);\n",
              "}\n",
              "\n",
              "/* on hover */\n",
              "#sk-container-id-5 div.sk-estimator:hover {\n",
              "  /* unfitted */\n",
              "  background-color: var(--sklearn-color-unfitted-level-2);\n",
              "}\n",
              "\n",
              "#sk-container-id-5 div.sk-estimator.fitted:hover {\n",
              "  /* fitted */\n",
              "  background-color: var(--sklearn-color-fitted-level-2);\n",
              "}\n",
              "\n",
              "/* Specification for estimator info (e.g. \"i\" and \"?\") */\n",
              "\n",
              "/* Common style for \"i\" and \"?\" */\n",
              "\n",
              ".sk-estimator-doc-link,\n",
              "a:link.sk-estimator-doc-link,\n",
              "a:visited.sk-estimator-doc-link {\n",
              "  float: right;\n",
              "  font-size: smaller;\n",
              "  line-height: 1em;\n",
              "  font-family: monospace;\n",
              "  background-color: var(--sklearn-color-background);\n",
              "  border-radius: 1em;\n",
              "  height: 1em;\n",
              "  width: 1em;\n",
              "  text-decoration: none !important;\n",
              "  margin-left: 0.5em;\n",
              "  text-align: center;\n",
              "  /* unfitted */\n",
              "  border: var(--sklearn-color-unfitted-level-1) 1pt solid;\n",
              "  color: var(--sklearn-color-unfitted-level-1);\n",
              "}\n",
              "\n",
              ".sk-estimator-doc-link.fitted,\n",
              "a:link.sk-estimator-doc-link.fitted,\n",
              "a:visited.sk-estimator-doc-link.fitted {\n",
              "  /* fitted */\n",
              "  border: var(--sklearn-color-fitted-level-1) 1pt solid;\n",
              "  color: var(--sklearn-color-fitted-level-1);\n",
              "}\n",
              "\n",
              "/* On hover */\n",
              "div.sk-estimator:hover .sk-estimator-doc-link:hover,\n",
              ".sk-estimator-doc-link:hover,\n",
              "div.sk-label-container:hover .sk-estimator-doc-link:hover,\n",
              ".sk-estimator-doc-link:hover {\n",
              "  /* unfitted */\n",
              "  background-color: var(--sklearn-color-unfitted-level-3);\n",
              "  color: var(--sklearn-color-background);\n",
              "  text-decoration: none;\n",
              "}\n",
              "\n",
              "div.sk-estimator.fitted:hover .sk-estimator-doc-link.fitted:hover,\n",
              ".sk-estimator-doc-link.fitted:hover,\n",
              "div.sk-label-container:hover .sk-estimator-doc-link.fitted:hover,\n",
              ".sk-estimator-doc-link.fitted:hover {\n",
              "  /* fitted */\n",
              "  background-color: var(--sklearn-color-fitted-level-3);\n",
              "  color: var(--sklearn-color-background);\n",
              "  text-decoration: none;\n",
              "}\n",
              "\n",
              "/* Span, style for the box shown on hovering the info icon */\n",
              ".sk-estimator-doc-link span {\n",
              "  display: none;\n",
              "  z-index: 9999;\n",
              "  position: relative;\n",
              "  font-weight: normal;\n",
              "  right: .2ex;\n",
              "  padding: .5ex;\n",
              "  margin: .5ex;\n",
              "  width: min-content;\n",
              "  min-width: 20ex;\n",
              "  max-width: 50ex;\n",
              "  color: var(--sklearn-color-text);\n",
              "  box-shadow: 2pt 2pt 4pt #999;\n",
              "  /* unfitted */\n",
              "  background: var(--sklearn-color-unfitted-level-0);\n",
              "  border: .5pt solid var(--sklearn-color-unfitted-level-3);\n",
              "}\n",
              "\n",
              ".sk-estimator-doc-link.fitted span {\n",
              "  /* fitted */\n",
              "  background: var(--sklearn-color-fitted-level-0);\n",
              "  border: var(--sklearn-color-fitted-level-3);\n",
              "}\n",
              "\n",
              ".sk-estimator-doc-link:hover span {\n",
              "  display: block;\n",
              "}\n",
              "\n",
              "/* \"?\"-specific style due to the `<a>` HTML tag */\n",
              "\n",
              "#sk-container-id-5 a.estimator_doc_link {\n",
              "  float: right;\n",
              "  font-size: 1rem;\n",
              "  line-height: 1em;\n",
              "  font-family: monospace;\n",
              "  background-color: var(--sklearn-color-background);\n",
              "  border-radius: 1rem;\n",
              "  height: 1rem;\n",
              "  width: 1rem;\n",
              "  text-decoration: none;\n",
              "  /* unfitted */\n",
              "  color: var(--sklearn-color-unfitted-level-1);\n",
              "  border: var(--sklearn-color-unfitted-level-1) 1pt solid;\n",
              "}\n",
              "\n",
              "#sk-container-id-5 a.estimator_doc_link.fitted {\n",
              "  /* fitted */\n",
              "  border: var(--sklearn-color-fitted-level-1) 1pt solid;\n",
              "  color: var(--sklearn-color-fitted-level-1);\n",
              "}\n",
              "\n",
              "/* On hover */\n",
              "#sk-container-id-5 a.estimator_doc_link:hover {\n",
              "  /* unfitted */\n",
              "  background-color: var(--sklearn-color-unfitted-level-3);\n",
              "  color: var(--sklearn-color-background);\n",
              "  text-decoration: none;\n",
              "}\n",
              "\n",
              "#sk-container-id-5 a.estimator_doc_link.fitted:hover {\n",
              "  /* fitted */\n",
              "  background-color: var(--sklearn-color-fitted-level-3);\n",
              "}\n",
              "</style><div id=\"sk-container-id-5\" class=\"sk-top-container\"><div class=\"sk-text-repr-fallback\"><pre>RandomForestClassifier(max_features=685, n_estimators=250, random_state=42)</pre><b>In a Jupyter environment, please rerun this cell to show the HTML representation or trust the notebook. <br />On GitHub, the HTML representation is unable to render, please try loading this page with nbviewer.org.</b></div><div class=\"sk-container\" hidden><div class=\"sk-item\"><div class=\"sk-estimator fitted sk-toggleable\"><input class=\"sk-toggleable__control sk-hidden--visually\" id=\"sk-estimator-id-13\" type=\"checkbox\" checked><label for=\"sk-estimator-id-13\" class=\"sk-toggleable__label fitted sk-toggleable__label-arrow\"><div><div>RandomForestClassifier</div></div><div><a class=\"sk-estimator-doc-link fitted\" rel=\"noreferrer\" target=\"_blank\" href=\"https://scikit-learn.org/1.6/modules/generated/sklearn.ensemble.RandomForestClassifier.html\">?<span>Documentation for RandomForestClassifier</span></a><span class=\"sk-estimator-doc-link fitted\">i<span>Fitted</span></span></div></label><div class=\"sk-toggleable__content fitted\"><pre>RandomForestClassifier(max_features=685, n_estimators=250, random_state=42)</pre></div> </div></div></div></div>"
            ]
          },
          "metadata": {},
          "execution_count": 92
        }
      ]
    },
    {
      "cell_type": "code",
      "source": [
        "imp = rf.feature_importances_"
      ],
      "metadata": {
        "id": "2a_yzJ-Y9a0T"
      },
      "execution_count": null,
      "outputs": []
    },
    {
      "cell_type": "code",
      "source": [
        "imp"
      ],
      "metadata": {
        "colab": {
          "base_uri": "https://localhost:8080/"
        },
        "id": "P9paA9zU9dIQ",
        "outputId": "452f3701-b8bf-43ea-f026-e9b9dec4fe00"
      },
      "execution_count": null,
      "outputs": [
        {
          "output_type": "execute_result",
          "data": {
            "text/plain": [
              "array([0.        , 0.000499  , 0.0001802 , ..., 0.01233662, 0.01726729,\n",
              "       0.03425527])"
            ]
          },
          "metadata": {},
          "execution_count": 94
        }
      ]
    },
    {
      "cell_type": "code",
      "source": [
        "indices = np.argsort(imp)[::-1]\n",
        "# np.argsort() is a sorting function provided by NumPy that returns the indices of the elements sorted in ascending order, rather than the sorted values.\n",
        "# The slicing operation [::-1] is used to reverse the order of the array.\n",
        "# Since np.argsort(imp) generates indices in ascending order, applying [::-1] changes the order to descending indices.\n",
        "\n",
        "print(\"Feature ranking:\")\n",
        "\n",
        "# print top 10 features\n",
        "for i in range(10):\n",
        "    print(\"%d. feature %d (%f)\" % (i + 1, indices[i], imp[indices[i]]))"
      ],
      "metadata": {
        "colab": {
          "base_uri": "https://localhost:8080/"
        },
        "id": "igSquYI59gZV",
        "outputId": "efdb3724-b009-4647-8378-7727d9e97523"
      },
      "execution_count": null,
      "outputs": [
        {
          "output_type": "stream",
          "name": "stdout",
          "text": [
            "Feature ranking:\n",
            "1. feature 2049 (0.172537)\n",
            "2. feature 2048 (0.080151)\n",
            "3. feature 2051 (0.059104)\n",
            "4. feature 650 (0.035906)\n",
            "5. feature 2056 (0.034255)\n",
            "6. feature 2052 (0.027882)\n",
            "7. feature 807 (0.019083)\n",
            "8. feature 2055 (0.017267)\n",
            "9. feature 2054 (0.012337)\n",
            "10. feature 794 (0.011984)\n"
          ]
        }
      ]
    }
  ]
}